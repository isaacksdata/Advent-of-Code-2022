{
 "cells": [
  {
   "cell_type": "code",
   "execution_count": 1,
   "id": "c0eb9700-d867-468e-b3d2-564a591f03a8",
   "metadata": {},
   "outputs": [],
   "source": [
    "year = 2022\n",
    "day = 15"
   ]
  },
  {
   "cell_type": "code",
   "execution_count": 390,
   "id": "da9c532b-30e2-410e-a712-66b6472229a4",
   "metadata": {},
   "outputs": [],
   "source": [
    "import numpy as np\n",
    "import matplotlib.pyplot as plt\n",
    "import matplotlib.patches as mpatches\n",
    "import sys\n",
    "import tqdm\n",
    "from shapely.geometry import Point, Polygon, LineString\n",
    "from copy import deepcopy\n",
    "import time\n",
    "import pandas as pd"
   ]
  },
  {
   "cell_type": "code",
   "execution_count": 4,
   "id": "3ecb6e8a-145d-4c02-af95-e13b9ab0bdef",
   "metadata": {},
   "outputs": [],
   "source": [
    "sys.path.append(\"..\")"
   ]
  },
  {
   "cell_type": "code",
   "execution_count": 5,
   "id": "2c3c0bdd-d20b-4178-84dc-5c1fa666757a",
   "metadata": {},
   "outputs": [],
   "source": [
    "from utilities.utils import get_puzzle, submit_answer, read_sample_data, extract_numbers"
   ]
  },
  {
   "cell_type": "markdown",
   "id": "3895bd1a-cadd-44be-a417-cb32f2bb4022",
   "metadata": {},
   "source": [
    "# Part One"
   ]
  },
  {
   "cell_type": "code",
   "execution_count": 6,
   "id": "6ea80e89-c9ca-400c-beb6-b2e5ee599470",
   "metadata": {},
   "outputs": [],
   "source": [
    "part = \"a\""
   ]
  },
  {
   "cell_type": "markdown",
   "id": "d9fe36e4-9594-42a8-b7ad-3121900632d7",
   "metadata": {},
   "source": [
    "\n",
    "You feel the ground rumble again as the distress signal leads you to a large network of subterranean tunnels. <br>You don't have time to search them all, but you don't need to: <br>your pack contains a set of deployable sensors that you imagine were originally built to locate lost Elves.<br>\n",
    "\n",
    "The sensors aren't very powerful, but that's okay; <br>your handheld device indicates that you're close enough to the source of the distress signal to use them. <br>You pull the emergency sensor system out of your pack, hit the big button on top, and the sensors zoom off down the tunnels.\n",
    "\n",
    "Once a sensor finds a spot it thinks will give it a good reading, it attaches itself<br> to a hard surface and begins monitoring for the nearest signal source beacon. <br>Sensors and beacons always exist at integer coordinates. Each sensor knows its own position and can determine the position of a beacon precisely; however, sensors can only lock on <br>to the one beacon closest to the sensor as measured by the Manhattan distance. <br>(There is never a tie where two beacons are the same distance to a sensor.)\n",
    "\n",
    "This isn't necessarily a comprehensive map of all beacons in the area, though. <br>Because each sensor only identifies its closest beacon, if a sensor detects a beacon, <br>you know there are no other beacons that close or closer to that sensor. There could still be beacons that just happen to not be the closest beacon to any sensor.<br>\n",
    "\n",
    "This sensor's closest beacon is at 2,10, and so you know there are no beacons that close or closer <br>(in any positions marked #).<br>\n",
    "\n",
    "None of the detected beacons seem to be producing the distress signal, <br>so you'll need to work out where the distress beacon is by working out where it isn't. <br>For now, keep things simple by counting the positions where a beacon cannot possibly be along just a single row.\n",
    "\n",
    "So, suppose you have an arrangement of beacons and sensors like in the example above and, just in the row where y=10, <br>you'd like to count the number of positions a beacon cannot possibly exist. The coverage from all sensors near that row looks like this:<br>\n",
    "\n",
    "                 1    1    2    2<br>\n",
    "       0    5    0    5    0    5<br>\n",
    " 9 ...#########################...<br>\n",
    "10 ..####B######################..<br>\n",
    "11 .###S#############.###########.<br>\n",
    "In this example, in the row where y=10, there are 26 positions where a beacon cannot be present.<br>\n",
    "\n",
    "Consult the report from the sensors you just deployed. In the row where y=2000000, <br>how many positions cannot contain a beacon?"
   ]
  },
  {
   "cell_type": "code",
   "execution_count": 6,
   "id": "184d42e7-3d11-46d6-9e1d-8fef3e19be7a",
   "metadata": {},
   "outputs": [],
   "source": [
    "test = read_sample_data(15)"
   ]
  },
  {
   "cell_type": "code",
   "execution_count": 7,
   "id": "387f7c4c-6634-4cfb-8c24-a61d6ec48960",
   "metadata": {},
   "outputs": [
    {
     "data": {
      "text/plain": [
       "['Sensor at x=2, y=18: closest beacon is at x=-2, y=15',\n",
       " 'Sensor at x=9, y=16: closest beacon is at x=10, y=16',\n",
       " 'Sensor at x=13, y=2: closest beacon is at x=15, y=3',\n",
       " 'Sensor at x=12, y=14: closest beacon is at x=10, y=16',\n",
       " 'Sensor at x=10, y=20: closest beacon is at x=10, y=16',\n",
       " 'Sensor at x=14, y=17: closest beacon is at x=10, y=16',\n",
       " 'Sensor at x=8, y=7: closest beacon is at x=2, y=10',\n",
       " 'Sensor at x=2, y=0: closest beacon is at x=2, y=10',\n",
       " 'Sensor at x=0, y=11: closest beacon is at x=2, y=10',\n",
       " 'Sensor at x=20, y=14: closest beacon is at x=25, y=17',\n",
       " 'Sensor at x=17, y=20: closest beacon is at x=21, y=22',\n",
       " 'Sensor at x=16, y=7: closest beacon is at x=15, y=3',\n",
       " 'Sensor at x=14, y=3: closest beacon is at x=15, y=3',\n",
       " 'Sensor at x=20, y=1: closest beacon is at x=15, y=3']"
      ]
     },
     "execution_count": 7,
     "metadata": {},
     "output_type": "execute_result"
    }
   ],
   "source": [
    "test"
   ]
  },
  {
   "cell_type": "code",
   "execution_count": 14,
   "id": "f5cf085a-2a61-4652-9223-792a93036f05",
   "metadata": {},
   "outputs": [],
   "source": [
    "def init_map(data):\n",
    "    x_values, y_values, sensors, beacons = [], [], [], []\n",
    "    for d in data:\n",
    "        s_x, s_y, b_x, b_y = extract_numbers(d)\n",
    "        sensors.append((s_x, s_y))\n",
    "        beacons.append((b_x, b_y))\n",
    "        x_values.extend([s_x, b_x])\n",
    "        y_values.extend([s_y, b_y])\n",
    "    min_x = 0 if min(x_values) >= 0 else min(x_values)\n",
    "    min_y = 0 if min(y_values) >= 0 else min(y_values)\n",
    "    width = (max(x_values) - min(x_values)) + abs(min_x) + 1\n",
    "    height = (max(y_values) - min(y_values)) + abs(min_y) + 1\n",
    "    arr = np.zeros([height, width])\n",
    "    corrected_sensors, corrected_beacons = [], []\n",
    "    for sensor in sensors:\n",
    "        corrected_sensors.append([sensor[1] + abs(min_y), sensor[0] + abs(min_x)])\n",
    "        arr[sensor[1] + abs(min_y), sensor[0] + abs(min_x)] = 10\n",
    "    for beacon in beacons:\n",
    "        corrected_beacons.append([beacon[1] + abs(min_y), beacon[0] + abs(min_x)])\n",
    "        arr[beacon[1] + abs(min_y), beacon[0] + abs(min_x)] = 20\n",
    "    return arr, corrected_sensors, corrected_beacons"
   ]
  },
  {
   "cell_type": "code",
   "execution_count": 15,
   "id": "1e6e17c0-dfe9-4ab7-970b-5643a88fdc5d",
   "metadata": {},
   "outputs": [],
   "source": [
    "def manhattan(a, b):\n",
    "    return abs(a[0] - b[0]) + abs(a[1] - b[1])"
   ]
  },
  {
   "cell_type": "code",
   "execution_count": 17,
   "id": "8d730644-1063-45a2-a887-d3732f6cfcca",
   "metadata": {},
   "outputs": [],
   "source": [
    "def mark_areas(m, sensors, beacons):\n",
    "    x_delta = 0\n",
    "    y_delta = 0\n",
    "    for s, b in zip(sensors, beacons):\n",
    "        s[0] += y_delta\n",
    "        b[0] += y_delta\n",
    "        s[1] += x_delta\n",
    "        b[1] += x_delta\n",
    "        distance = manhattan((s[0], s[1]), (b[0], b[1]))\n",
    "        if s[0] < distance:\n",
    "            delta = distance - s[0]\n",
    "            new_row = np.zeros([delta, m.shape[1]])\n",
    "            m = np.row_stack((new_row, m))\n",
    "            s[0] += delta\n",
    "            y_delta += delta\n",
    "            # sensors = [[sensor[0] + delta, sensor[1]] for sensor in sensors]\n",
    "            # beacons = [[beacon[0] + delta, beacon[1]] for beacon in beacons]\n",
    "        if m.shape[0] - s[0] < distance:\n",
    "            delta = distance - (m.shape[0] - s[0]) + 1\n",
    "            print(f\"adding {delta} bottom rows. M height = {m.shape[0]} and sensor = {s[0]} and distance = {distance}\")\n",
    "            new_row = np.zeros([delta, m.shape[1]])\n",
    "            m = np.row_stack((m, new_row))\n",
    "        if s[1] < distance:\n",
    "            delta = distance - s[1]\n",
    "            print(f\"{s}, {b} -> {distance}\")\n",
    "            new_col = np.zeros([m.shape[0], delta])\n",
    "            m = np.column_stack((new_col, m))\n",
    "            s[1] += delta\n",
    "            x_delta += delta\n",
    "            # sensors = [[sensor[0], sensor[1] + delta] for sensor in sensors]\n",
    "            # beacons = [[beacon[0], beacon[1] + delta] for beacon in beacons]\n",
    "        if m.shape[1] - s[1] < distance:\n",
    "            delta = distance - (m.shape[1] - s[1])\n",
    "            new_row = np.zeros([m.shape[0], delta])\n",
    "            m = np.column_stack((m, new_col))\n",
    "        for i in range(m.shape[0]):\n",
    "            for j in range(m.shape[1]):\n",
    "                if manhattan((s[0], s[1]), (i, j)) <= distance:\n",
    "                    if m[i, j] == 0:\n",
    "                        m[i, j] = 5\n",
    "    return m, y_delta, x_delta"
   ]
  },
  {
   "cell_type": "code",
   "execution_count": 18,
   "id": "74c43991-ac73-4f3c-a364-6308550dcf1c",
   "metadata": {},
   "outputs": [],
   "source": [
    "def extract_impossible_positions(row_idx, rows_added, m):\n",
    "    row_idx += rows_added\n",
    "    row = m[row_idx, :]\n",
    "    n = len([p for p in row.tolist() if p == 5])\n",
    "    return n"
   ]
  },
  {
   "cell_type": "code",
   "execution_count": 19,
   "id": "02dde8e4-e266-40ed-90ea-cf96f6d8235f",
   "metadata": {},
   "outputs": [],
   "source": [
    "m, sensors, beacons = init_map(test)"
   ]
  },
  {
   "cell_type": "code",
   "execution_count": 22,
   "id": "6a210da0-4b79-4f4c-ad54-9d1a1956c850",
   "metadata": {},
   "outputs": [],
   "source": [
    "mm, rows_added, cols_added = mark_areas(m, sensors[2:3], beacons[2:3])"
   ]
  },
  {
   "cell_type": "code",
   "execution_count": 23,
   "id": "6e6e2ffa-a3e1-48fe-93e1-61187cfbf56c",
   "metadata": {},
   "outputs": [
    {
     "data": {
      "text/plain": [
       "<matplotlib.image.AxesImage at 0x11d1bf0d0>"
      ]
     },
     "execution_count": 23,
     "metadata": {},
     "output_type": "execute_result"
    },
    {
     "data": {
      "image/png": "[encoded data removed]",
      "text/plain": [
       "<Figure size 640x480 with 1 Axes>"
      ]
     },
     "metadata": {},
     "output_type": "display_data"
    }
   ],
   "source": [
    "plt.imshow(mm)"
   ]
  },
  {
   "cell_type": "code",
   "execution_count": 228,
   "id": "c4ddea4a-18e3-471b-b1bf-1ca43902b734",
   "metadata": {},
   "outputs": [
    {
     "data": {
      "text/plain": [
       "26"
      ]
     },
     "execution_count": 228,
     "metadata": {},
     "output_type": "execute_result"
    }
   ],
   "source": [
    "extract_impossible_positions(10, rows_added, mm)"
   ]
  },
  {
   "cell_type": "markdown",
   "id": "31224218-fe3d-4804-861f-32b96205e04e",
   "metadata": {},
   "source": [
    "## real data"
   ]
  },
  {
   "cell_type": "code",
   "execution_count": 11,
   "id": "a2111e19-df9b-4fcb-93fd-c9b00ecba306",
   "metadata": {},
   "outputs": [
    {
     "data": {
      "text/plain": [
       "['Sensor at x=3772068, y=2853720: closest beacon is at x=4068389, y=2345925',\n",
       " 'Sensor at x=78607, y=2544104: closest beacon is at x=-152196, y=4183739',\n",
       " 'Sensor at x=3239531, y=3939220: closest beacon is at x=3568548, y=4206192',\n",
       " 'Sensor at x=339124, y=989831: closest beacon is at x=570292, y=1048239',\n",
       " 'Sensor at x=3957534, y=2132743: closest beacon is at x=3897332, y=2000000',\n",
       " 'Sensor at x=1882965, y=3426126: closest beacon is at x=2580484, y=3654136',\n",
       " 'Sensor at x=1159443, y=3861139: closest beacon is at x=2580484, y=3654136',\n",
       " 'Sensor at x=2433461, y=287013: closest beacon is at x=2088099, y=-190228',\n",
       " 'Sensor at x=3004122, y=3483833: closest beacon is at x=2580484, y=3654136',\n",
       " 'Sensor at x=3571821, y=799602: closest beacon is at x=3897332, y=2000000',\n",
       " 'Sensor at x=2376562, y=1539540: closest beacon is at x=2700909, y=2519581',\n",
       " 'Sensor at x=785113, y=1273008: closest beacon is at x=570292, y=1048239',\n",
       " 'Sensor at x=1990787, y=38164: closest beacon is at x=2088099, y=-190228',\n",
       " 'Sensor at x=3993778, y=3482849: closest beacon is at x=4247709, y=3561264',\n",
       " 'Sensor at x=3821391, y=3986080: closest beacon is at x=3568548, y=4206192',\n",
       " 'Sensor at x=2703294, y=3999015: closest beacon is at x=2580484, y=3654136',\n",
       " 'Sensor at x=1448314, y=2210094: closest beacon is at x=2700909, y=2519581',\n",
       " 'Sensor at x=3351224, y=2364892: closest beacon is at x=4068389, y=2345925',\n",
       " 'Sensor at x=196419, y=3491556: closest beacon is at x=-152196, y=4183739',\n",
       " 'Sensor at x=175004, y=138614: closest beacon is at x=570292, y=1048239',\n",
       " 'Sensor at x=1618460, y=806488: closest beacon is at x=570292, y=1048239',\n",
       " 'Sensor at x=3974730, y=1940193: closest beacon is at x=3897332, y=2000000',\n",
       " 'Sensor at x=2995314, y=2961775: closest beacon is at x=2700909, y=2519581',\n",
       " 'Sensor at x=105378, y=1513086: closest beacon is at x=570292, y=1048239',\n",
       " 'Sensor at x=3576958, y=3665667: closest beacon is at x=3568548, y=4206192',\n",
       " 'Sensor at x=2712265, y=2155055: closest beacon is at x=2700909, y=2519581']"
      ]
     },
     "execution_count": 11,
     "metadata": {},
     "output_type": "execute_result"
    }
   ],
   "source": [
    "data = get_puzzle(year=2022, day=15)\n",
    "data = data.split(\"\\n\")\n",
    "data"
   ]
  },
  {
   "cell_type": "markdown",
   "id": "edb10bad-a79b-47df-8617-ce9e4f233aea",
   "metadata": {},
   "source": [
    "### The numpy array method used for test data cannot work for the real data as the array is huge - OOM error"
   ]
  },
  {
   "cell_type": "markdown",
   "id": "9267565f-b729-4358-8bf0-8729d2789a7b",
   "metadata": {},
   "source": [
    "### Instead lets create a sensor class \n",
    "#### The sensor class will record the sensors position, the closest beacon position, the distance to beacon and a list of of all positions within that distance"
   ]
  },
  {
   "cell_type": "code",
   "execution_count": 496,
   "id": "ad784b08-289d-4cf2-b0be-ce96efff8482",
   "metadata": {},
   "outputs": [],
   "source": [
    "class Point:\n",
    "    def __init__(self, x, y):\n",
    "        self.x = x\n",
    "        self.y = y\n",
    "    \n",
    "    def get_coord(self):\n",
    "        return [self.x, self.y]\n",
    "    \n",
    "    def increment_x(self):\n",
    "        self.x += 1\n",
    "\n",
    "    def increment_y(self):\n",
    "        self.y += 1\n",
    "        \n",
    "    def decrement_x(self):\n",
    "        self.x -= 1\n",
    "        \n",
    "    def decrement_y(self):\n",
    "        self.y -= 1\n",
    "        "
   ]
  },
  {
   "cell_type": "code",
   "execution_count": 956,
   "id": "96014d05-824a-4ea0-8020-7b72841b9094",
   "metadata": {},
   "outputs": [],
   "source": [
    "class Diamond:\n",
    "    def __init__(self, top, left, right, bottom):\n",
    "        self.top = Point(top[0], top[1])\n",
    "        self.left = Point(left[0], left[1])\n",
    "        self.right = Point(right[0], right[1])\n",
    "        self.bottom = Point(bottom[0], bottom[1])\n",
    "        self.perimeter = None\n",
    "        self.perimeter_dict = {}\n",
    "        self.extract_perimeter()\n",
    "        \n",
    "    def extract_perimeter(self):\n",
    "        segments = [(self.top, self.right), \n",
    "                    (self.top, self.left), \n",
    "                    (self.left, self.bottom), \n",
    "                    (self.right, self.bottom)]\n",
    "        in_x = [True, False, True, False]\n",
    "        in_y = [True, True, True, True]\n",
    "        for segment, x, y in tqdm.tqdm(zip(segments, in_x, in_y)):\n",
    "            if self.perimeter is None:\n",
    "                self.perimeter = self.extract_segment(deepcopy(segment[0]), deepcopy(segment[1]), x, y)\n",
    "            else:\n",
    "                self.perimeter = np.row_stack((self.perimeter, self.extract_segment(deepcopy(segment[0]), deepcopy(segment[1]), x, y)))\n",
    "        print(f\"{self.perimeter.shape[0]} points in perimeter!\")\n",
    "        for row in self.perimeter:\n",
    "            if 0 < row[1] < 4000000:\n",
    "                if row[1] in self.perimeter_dict.keys():\n",
    "                    self.perimeter_dict[row[1]].append(row[0])\n",
    "                else:\n",
    "                    self.perimeter_dict[row[1]] = [row[0]]\n",
    "        \n",
    "    def extract_segment(self, a, b, increment_x=True, increment_y=True):\n",
    "        if increment_x and increment_y:\n",
    "            xs = list(range(a.get_coord()[0], b.get_coord()[0]+1))\n",
    "            ys = list(range(a.get_coord()[1], b.get_coord()[1]+1))\n",
    "        elif increment_y and not increment_x:\n",
    "            xs = list(range(b.get_coord()[0], a.get_coord()[0]+1))\n",
    "            ys = list(range(a.get_coord()[1], b.get_coord()[1]+1))\n",
    "            ys.reverse()\n",
    "        points = np.stack((xs, ys), axis=1)\n",
    "        return points\n",
    "    \n",
    "    def extract_tangent(self, row_idx):\n",
    "        outer_values = self.perimeter[np.where(self.perimeter[:, 1] == row_idx)]\n",
    "        if len(outer_values) == 0:\n",
    "            return []\n",
    "        elif len(outer_values) == 1:\n",
    "            return outer_values[0].tolist()\n",
    "        else:\n",
    "            assert len(outer_values) == 2\n",
    "            outer_col_values = outer_values[:, 0]\n",
    "            col_values = np.array((range(np.min(outer_col_values), np.max(outer_col_values)+1)))\n",
    "            row = np.full([len(col_values)], row_idx)\n",
    "            coords = np.stack((col_values, row), axis=1)\n",
    "            return coords\n",
    "        \n",
    "    def extract_perimeter_points(self, row_idx, quick=False):\n",
    "        if quick:\n",
    "            return self.perimeter_dict.get(row_idx, [])\n",
    "        else:\n",
    "            outer_values = self.perimeter[np.where(self.perimeter[:, 1] == row_idx)]\n",
    "        return outer_values"
   ]
  },
  {
   "cell_type": "code",
   "execution_count": 957,
   "id": "9f065e69-5360-49de-826e-d3c267f9f3fa",
   "metadata": {},
   "outputs": [],
   "source": [
    "class Sensor:\n",
    "    def __init__(self, position: tuple, beacon_position: tuple):\n",
    "        self.position = position\n",
    "        self.beacon_position = beacon_position\n",
    "        self.distance = self.calculate_distance()\n",
    "        print(f\"Distance = {self.distance}\")\n",
    "        self.diamond = None\n",
    "        self.detect_impossible_positions()\n",
    "        \n",
    "    def calculate_distance(self, a=None, b=None):\n",
    "        a = self.position if a is None else a\n",
    "        b = self.beacon_position if b is None else b\n",
    "        distance = abs(a[0] - b[0]) + abs(a[1] - b[1])\n",
    "        return distance\n",
    "        \n",
    "    def detect_impossible_positions(self):\n",
    "        top = deepcopy(self.position)\n",
    "        right = deepcopy(self.position)\n",
    "        left = deepcopy(self.position)\n",
    "        bottom = deepcopy(self.position)\n",
    "        \n",
    "        top[1] -= self.distance\n",
    "        right[0] += self.distance\n",
    "        left[0] -= self.distance\n",
    "        bottom[1] += self.distance \n",
    "        \n",
    "        self.diamond = Diamond(top, left, right, bottom)\n",
    "        \n",
    "    def extract_row(self, row_idx: int, return_n: bool = False):\n",
    "        row = self.diamond.extract_tangent(row_idx)\n",
    "        if return_n:\n",
    "            return row.shape[0]\n",
    "        else:\n",
    "            return row"
   ]
  },
  {
   "cell_type": "code",
   "execution_count": 958,
   "id": "0598a4f2-c6d8-4a0c-b3da-d9b1851b0a29",
   "metadata": {},
   "outputs": [],
   "source": [
    "def init_sensors(data):\n",
    "    sensors = []\n",
    "    for d in data:\n",
    "        s_x, s_y, b_x, b_y = extract_numbers(d)\n",
    "        sensor = Sensor([s_x, s_y], [b_x, b_y])\n",
    "        sensors.append(sensor)\n",
    "    return sensors"
   ]
  },
  {
   "cell_type": "code",
   "execution_count": 1045,
   "id": "4690f6cc-acd5-450a-b78a-4017c2397161",
   "metadata": {},
   "outputs": [
    {
     "name": "stdout",
     "output_type": "stream",
     "text": [
      "Distance = 7\n"
     ]
    },
    {
     "name": "stderr",
     "output_type": "stream",
     "text": [
      "4it [00:00, 1135.36it/s]\n"
     ]
    },
    {
     "name": "stdout",
     "output_type": "stream",
     "text": [
      "32 points in perimeter!\n",
      "Distance = 1\n"
     ]
    },
    {
     "name": "stderr",
     "output_type": "stream",
     "text": [
      "4it [00:00, 14755.69it/s]\n"
     ]
    },
    {
     "name": "stdout",
     "output_type": "stream",
     "text": [
      "8 points in perimeter!\n",
      "Distance = 3\n"
     ]
    },
    {
     "name": "stderr",
     "output_type": "stream",
     "text": [
      "4it [00:00, 4269.01it/s]\n"
     ]
    },
    {
     "name": "stdout",
     "output_type": "stream",
     "text": [
      "16 points in perimeter!\n",
      "Distance = 4\n"
     ]
    },
    {
     "name": "stderr",
     "output_type": "stream",
     "text": [
      "4it [00:00, 3412.78it/s]\n"
     ]
    },
    {
     "name": "stdout",
     "output_type": "stream",
     "text": [
      "20 points in perimeter!\n",
      "Distance = 4\n"
     ]
    },
    {
     "name": "stderr",
     "output_type": "stream",
     "text": [
      "4it [00:00, 4106.02it/s]\n"
     ]
    },
    {
     "name": "stdout",
     "output_type": "stream",
     "text": [
      "20 points in perimeter!\n",
      "Distance = 5\n"
     ]
    },
    {
     "name": "stderr",
     "output_type": "stream",
     "text": [
      "4it [00:00, 14860.24it/s]\n"
     ]
    },
    {
     "name": "stdout",
     "output_type": "stream",
     "text": [
      "24 points in perimeter!\n",
      "Distance = 9\n"
     ]
    },
    {
     "name": "stderr",
     "output_type": "stream",
     "text": [
      "4it [00:00, 3617.34it/s]\n"
     ]
    },
    {
     "name": "stdout",
     "output_type": "stream",
     "text": [
      "40 points in perimeter!\n",
      "Distance = 10\n"
     ]
    },
    {
     "name": "stderr",
     "output_type": "stream",
     "text": [
      "4it [00:00, 3984.14it/s]\n"
     ]
    },
    {
     "name": "stdout",
     "output_type": "stream",
     "text": [
      "44 points in perimeter!\n",
      "Distance = 3\n"
     ]
    },
    {
     "name": "stderr",
     "output_type": "stream",
     "text": [
      "4it [00:00, 15505.74it/s]\n"
     ]
    },
    {
     "name": "stdout",
     "output_type": "stream",
     "text": [
      "16 points in perimeter!\n",
      "Distance = 8\n"
     ]
    },
    {
     "name": "stderr",
     "output_type": "stream",
     "text": [
      "4it [00:00, 7767.23it/s]\n"
     ]
    },
    {
     "name": "stdout",
     "output_type": "stream",
     "text": [
      "36 points in perimeter!\n",
      "Distance = 6\n"
     ]
    },
    {
     "name": "stderr",
     "output_type": "stream",
     "text": [
      "4it [00:00, 2597.09it/s]\n"
     ]
    },
    {
     "name": "stdout",
     "output_type": "stream",
     "text": [
      "28 points in perimeter!\n",
      "Distance = 5\n"
     ]
    },
    {
     "name": "stderr",
     "output_type": "stream",
     "text": [
      "4it [00:00, 15046.83it/s]\n"
     ]
    },
    {
     "name": "stdout",
     "output_type": "stream",
     "text": [
      "24 points in perimeter!\n",
      "Distance = 1\n"
     ]
    },
    {
     "name": "stderr",
     "output_type": "stream",
     "text": [
      "4it [00:00, 7169.75it/s]\n"
     ]
    },
    {
     "name": "stdout",
     "output_type": "stream",
     "text": [
      "8 points in perimeter!\n",
      "Distance = 7\n"
     ]
    },
    {
     "name": "stderr",
     "output_type": "stream",
     "text": [
      "4it [00:00, 10611.77it/s]"
     ]
    },
    {
     "name": "stdout",
     "output_type": "stream",
     "text": [
      "32 points in perimeter!\n",
      "26\n"
     ]
    },
    {
     "name": "stderr",
     "output_type": "stream",
     "text": [
      "\n"
     ]
    }
   ],
   "source": [
    "sensors = init_sensors(test)\n",
    "\n",
    "row_idx = 10\n",
    "pos = None\n",
    "sensor_positions = list(set([tuple(sensor.position) for sensor in sensors]))\n",
    "sensor_positions = [list(s) for s in sensor_positions]\n",
    "counted_sensors = []\n",
    "sensor_count = 0\n",
    "beacon_count = 0\n",
    "beacon_positions = list(set([tuple(sensor.beacon_position) for sensor in sensors]))\n",
    "beacon_positions = [list(b) for b in beacon_positions]\n",
    "counted_beacons = []\n",
    "for sensor in sensors:\n",
    "    ps = sensor.extract_row(row_idx)\n",
    "    sensor_count += len([s for s in sensor_positions if s[1] == row_idx and s not in counted_sensors])\n",
    "    counted_sensors.extend([s for s in sensor_positions if s[1] == row_idx])\n",
    "    beacon_count += len([b for b in beacon_positions if b[1] == row_idx and b not in counted_beacons])\n",
    "    counted_beacons.extend([b for b in beacon_positions if b[1] == row_idx])\n",
    "    if pos is None and len(ps) > 0:\n",
    "        pos = ps.copy()\n",
    "    elif len(ps) == 0:\n",
    "        pass\n",
    "    else:\n",
    "        pos = np.row_stack((pos, ps))\n",
    "pos = np.unique(pos, axis=0)\n",
    "print(pos.shape[0] - sensor_count - beacon_count)"
   ]
  },
  {
   "cell_type": "code",
   "execution_count": 937,
   "id": "b6c1d6d8-92a5-449f-bb15-22414cb53e3b",
   "metadata": {},
   "outputs": [
    {
     "name": "stdout",
     "output_type": "stream",
     "text": [
      "Distance = 804116\n"
     ]
    },
    {
     "name": "stderr",
     "output_type": "stream",
     "text": [
      "4it [00:00,  8.05it/s]\n"
     ]
    },
    {
     "name": "stdout",
     "output_type": "stream",
     "text": [
      "3216468 points in perimeter!\n",
      "Distance = 1870438\n"
     ]
    },
    {
     "name": "stderr",
     "output_type": "stream",
     "text": [
      "4it [00:02,  1.99it/s]\n"
     ]
    },
    {
     "name": "stdout",
     "output_type": "stream",
     "text": [
      "7481756 points in perimeter!\n",
      "Distance = 595989\n"
     ]
    },
    {
     "name": "stderr",
     "output_type": "stream",
     "text": [
      "4it [00:00,  9.43it/s]\n"
     ]
    },
    {
     "name": "stdout",
     "output_type": "stream",
     "text": [
      "2383960 points in perimeter!\n",
      "Distance = 289576\n"
     ]
    },
    {
     "name": "stderr",
     "output_type": "stream",
     "text": [
      "4it [00:00, 19.35it/s]\n"
     ]
    },
    {
     "name": "stdout",
     "output_type": "stream",
     "text": [
      "1158308 points in perimeter!\n",
      "Distance = 192945\n"
     ]
    },
    {
     "name": "stderr",
     "output_type": "stream",
     "text": [
      "4it [00:00, 31.39it/s]"
     ]
    },
    {
     "name": "stdout",
     "output_type": "stream",
     "text": [
      "771784 points in perimeter!\n"
     ]
    },
    {
     "name": "stderr",
     "output_type": "stream",
     "text": [
      "\n"
     ]
    },
    {
     "name": "stdout",
     "output_type": "stream",
     "text": [
      "Distance = 925529\n"
     ]
    },
    {
     "name": "stderr",
     "output_type": "stream",
     "text": [
      "4it [00:00,  6.12it/s]\n"
     ]
    },
    {
     "name": "stdout",
     "output_type": "stream",
     "text": [
      "3702120 points in perimeter!\n",
      "Distance = 1628044\n"
     ]
    },
    {
     "name": "stderr",
     "output_type": "stream",
     "text": [
      "4it [00:01,  3.58it/s]\n"
     ]
    },
    {
     "name": "stdout",
     "output_type": "stream",
     "text": [
      "6512180 points in perimeter!\n",
      "Distance = 822603\n"
     ]
    },
    {
     "name": "stderr",
     "output_type": "stream",
     "text": [
      "4it [00:00,  7.47it/s]\n"
     ]
    },
    {
     "name": "stdout",
     "output_type": "stream",
     "text": [
      "3290416 points in perimeter!\n",
      "Distance = 593941\n"
     ]
    },
    {
     "name": "stderr",
     "output_type": "stream",
     "text": [
      "4it [00:00,  9.53it/s]\n"
     ]
    },
    {
     "name": "stdout",
     "output_type": "stream",
     "text": [
      "2375768 points in perimeter!\n",
      "Distance = 1525909\n"
     ]
    },
    {
     "name": "stderr",
     "output_type": "stream",
     "text": [
      "4it [00:01,  3.73it/s]\n"
     ]
    },
    {
     "name": "stdout",
     "output_type": "stream",
     "text": [
      "6103640 points in perimeter!\n",
      "Distance = 1304388\n"
     ]
    },
    {
     "name": "stderr",
     "output_type": "stream",
     "text": [
      "4it [00:00,  4.52it/s]\n"
     ]
    },
    {
     "name": "stdout",
     "output_type": "stream",
     "text": [
      "5217556 points in perimeter!\n",
      "Distance = 439590\n"
     ]
    },
    {
     "name": "stderr",
     "output_type": "stream",
     "text": [
      "4it [00:00, 12.78it/s]\n"
     ]
    },
    {
     "name": "stdout",
     "output_type": "stream",
     "text": [
      "1758364 points in perimeter!\n",
      "Distance = 325704\n"
     ]
    },
    {
     "name": "stderr",
     "output_type": "stream",
     "text": [
      "4it [00:00, 17.22it/s]\n"
     ]
    },
    {
     "name": "stdout",
     "output_type": "stream",
     "text": [
      "1302820 points in perimeter!\n",
      "Distance = 332346\n"
     ]
    },
    {
     "name": "stderr",
     "output_type": "stream",
     "text": [
      "4it [00:00, 16.58it/s]\n"
     ]
    },
    {
     "name": "stdout",
     "output_type": "stream",
     "text": [
      "1329388 points in perimeter!\n",
      "Distance = 472955\n"
     ]
    },
    {
     "name": "stderr",
     "output_type": "stream",
     "text": [
      "4it [00:00, 11.57it/s]\n"
     ]
    },
    {
     "name": "stdout",
     "output_type": "stream",
     "text": [
      "1891824 points in perimeter!\n",
      "Distance = 467689\n"
     ]
    },
    {
     "name": "stderr",
     "output_type": "stream",
     "text": [
      "4it [00:00, 12.09it/s]\n"
     ]
    },
    {
     "name": "stdout",
     "output_type": "stream",
     "text": [
      "1870760 points in perimeter!\n",
      "Distance = 1562082\n"
     ]
    },
    {
     "name": "stderr",
     "output_type": "stream",
     "text": [
      "4it [00:01,  3.40it/s]\n"
     ]
    },
    {
     "name": "stdout",
     "output_type": "stream",
     "text": [
      "6248332 points in perimeter!\n",
      "Distance = 736132\n"
     ]
    },
    {
     "name": "stderr",
     "output_type": "stream",
     "text": [
      "4it [00:00,  7.67it/s]\n"
     ]
    },
    {
     "name": "stdout",
     "output_type": "stream",
     "text": [
      "2944532 points in perimeter!\n",
      "Distance = 1040798\n"
     ]
    },
    {
     "name": "stderr",
     "output_type": "stream",
     "text": [
      "4it [00:00,  4.79it/s]\n"
     ]
    },
    {
     "name": "stdout",
     "output_type": "stream",
     "text": [
      "4163196 points in perimeter!\n",
      "Distance = 1304913\n"
     ]
    },
    {
     "name": "stderr",
     "output_type": "stream",
     "text": [
      "4it [00:00,  4.19it/s]\n"
     ]
    },
    {
     "name": "stdout",
     "output_type": "stream",
     "text": [
      "5219656 points in perimeter!\n",
      "Distance = 1289919\n"
     ]
    },
    {
     "name": "stderr",
     "output_type": "stream",
     "text": [
      "4it [00:00,  4.51it/s]\n"
     ]
    },
    {
     "name": "stdout",
     "output_type": "stream",
     "text": [
      "5159680 points in perimeter!\n",
      "Distance = 137205\n"
     ]
    },
    {
     "name": "stderr",
     "output_type": "stream",
     "text": [
      "4it [00:00, 40.73it/s]"
     ]
    },
    {
     "name": "stdout",
     "output_type": "stream",
     "text": [
      "548824 points in perimeter!\n"
     ]
    },
    {
     "name": "stderr",
     "output_type": "stream",
     "text": [
      "\n"
     ]
    },
    {
     "name": "stdout",
     "output_type": "stream",
     "text": [
      "Distance = 736599\n"
     ]
    },
    {
     "name": "stderr",
     "output_type": "stream",
     "text": [
      "4it [00:00,  6.97it/s]\n"
     ]
    },
    {
     "name": "stdout",
     "output_type": "stream",
     "text": [
      "2946400 points in perimeter!\n",
      "Distance = 929761\n"
     ]
    },
    {
     "name": "stderr",
     "output_type": "stream",
     "text": [
      "4it [00:00,  5.29it/s]\n"
     ]
    },
    {
     "name": "stdout",
     "output_type": "stream",
     "text": [
      "3719048 points in perimeter!\n",
      "Distance = 548935\n"
     ]
    },
    {
     "name": "stderr",
     "output_type": "stream",
     "text": [
      "4it [00:00, 10.47it/s]\n"
     ]
    },
    {
     "name": "stdout",
     "output_type": "stream",
     "text": [
      "2195744 points in perimeter!\n",
      "Distance = 375882\n"
     ]
    },
    {
     "name": "stderr",
     "output_type": "stream",
     "text": [
      "4it [00:00, 14.60it/s]\n"
     ]
    },
    {
     "name": "stdout",
     "output_type": "stream",
     "text": [
      "1503532 points in perimeter!\n"
     ]
    }
   ],
   "source": [
    "sensors = init_sensors(data)"
   ]
  },
  {
   "cell_type": "code",
   "execution_count": 760,
   "id": "c7a1c81c-12a2-486b-a6aa-605a7ceb32da",
   "metadata": {},
   "outputs": [
    {
     "name": "stderr",
     "output_type": "stream",
     "text": [
      "100%|██████████████████████████████████████████████████████████████████| 26/26 [00:01<00:00, 16.84it/s]\n"
     ]
    },
    {
     "name": "stdout",
     "output_type": "stream",
     "text": [
      "1.5464868545532227\n",
      "5299855\n",
      "CPU times: user 2.24 s, sys: 590 ms, total: 2.83 s\n",
      "Wall time: 2.83 s\n"
     ]
    }
   ],
   "source": [
    "%%time\n",
    "start=time.time()\n",
    "row_idx = 2000000\n",
    "pos = None\n",
    "sensor_positions = list(set([tuple(sensor.position) for sensor in sensors]))\n",
    "sensor_positions = [list(s) for s in sensor_positions]\n",
    "counted_sensors = []\n",
    "sensor_count = 0\n",
    "beacon_count = 0\n",
    "beacon_positions = list(set([tuple(sensor.beacon_position) for sensor in sensors]))\n",
    "beacon_positions = [list(b) for b in beacon_positions]\n",
    "counted_beacons = []\n",
    "for sensor in tqdm.tqdm(sensors):\n",
    "    ps = sensor.extract_row(row_idx)\n",
    "    sensor_count += len([s for s in sensor_positions if s[1] == row_idx and s not in counted_sensors])\n",
    "    counted_sensors.extend([s for s in sensor_positions if s[1] == row_idx])\n",
    "    beacon_count += len([b for b in beacon_positions if b[1] == row_idx and b not in counted_beacons])\n",
    "    counted_beacons.extend([b for b in beacon_positions if b[1] == row_idx])\n",
    "    # ps = [p for p in ps if p.tolist() not in sensor_positions and p.tolist() not in beacon_positions]\n",
    "    # ps = np.array([row for row in ps if not any(np.equal(beacon_positions, row).all(1)) and not any(np.equal(sensor_positions, row).all(1))])\n",
    "    if pos is None and len(ps) > 0:\n",
    "        pos = ps.copy()\n",
    "    elif len(ps) == 0:\n",
    "        pass\n",
    "    else:\n",
    "        pos = np.row_stack((pos, ps))\n",
    "print(time.time() - start)\n",
    "print(pd.DataFrame(pos).drop_duplicates().shape[0] - sensor_count - beacon_count)"
   ]
  },
  {
   "cell_type": "markdown",
   "id": "e89a7520-4b3e-4612-8a67-c4e370b2a0d9",
   "metadata": {},
   "source": [
    "# Part Two"
   ]
  },
  {
   "cell_type": "markdown",
   "id": "ebbb23ec-0e54-4551-a644-c2031a9b0a45",
   "metadata": {},
   "source": [
    "Your handheld device indicates that the distress signal is coming from a beacon nearby. <br>The distress beacon is not detected by any sensor, but the distress beacon must have x and y coordinates <br>each no lower than 0 and no larger than 4000000.<br>\n",
    "\n",
    "To isolate the distress beacon's signal, you need to determine its tuning frequency, which can be found by multiplying its x coordinate by 4000000 and then adding its y coordinate.<br>\n",
    "\n",
    "In the example above, the search space is smaller: instead, the x and y coordinates can each be at most 20. <br>With this reduced search area, there is only a single position that could have a beacon: x=14, y=11. <br>The tuning frequency for this distress beacon is 56000011.\n",
    "\n",
    "Find the only possible position for the distress beacon. What is its tuning frequency?"
   ]
  },
  {
   "cell_type": "markdown",
   "id": "b950bd5c-ab8f-4b51-ba83-fca12b3f0d2f",
   "metadata": {},
   "source": [
    "For a given row, extract the perimeter coordinates for a given sensor and find the lines where the coordinates do not overlap within a range of 0-4000000"
   ]
  },
  {
   "cell_type": "code",
   "execution_count": null,
   "id": "e6ecb9fe-e0fb-4c1e-9718-453f17c9393f",
   "metadata": {},
   "outputs": [],
   "source": [
    "part = \"b\""
   ]
  },
  {
   "cell_type": "code",
   "execution_count": 1050,
   "id": "9f359396-a22a-42e0-8aef-526b047637f1",
   "metadata": {},
   "outputs": [
    {
     "name": "stdout",
     "output_type": "stream",
     "text": [
      "Distance = 804116\n"
     ]
    },
    {
     "name": "stderr",
     "output_type": "stream",
     "text": [
      "4it [00:00,  5.69it/s]\n"
     ]
    },
    {
     "name": "stdout",
     "output_type": "stream",
     "text": [
      "3216468 points in perimeter!\n",
      "Distance = 1870438\n"
     ]
    },
    {
     "name": "stderr",
     "output_type": "stream",
     "text": [
      "4it [00:01,  2.63it/s]\n"
     ]
    },
    {
     "name": "stdout",
     "output_type": "stream",
     "text": [
      "7481756 points in perimeter!\n",
      "Distance = 595989\n"
     ]
    },
    {
     "name": "stderr",
     "output_type": "stream",
     "text": [
      "4it [00:00,  8.84it/s]\n"
     ]
    },
    {
     "name": "stdout",
     "output_type": "stream",
     "text": [
      "2383960 points in perimeter!\n",
      "Distance = 289576\n"
     ]
    },
    {
     "name": "stderr",
     "output_type": "stream",
     "text": [
      "4it [00:00, 17.98it/s]\n"
     ]
    },
    {
     "name": "stdout",
     "output_type": "stream",
     "text": [
      "1158308 points in perimeter!\n",
      "Distance = 192945\n"
     ]
    },
    {
     "name": "stderr",
     "output_type": "stream",
     "text": [
      "4it [00:00, 30.14it/s]"
     ]
    },
    {
     "name": "stdout",
     "output_type": "stream",
     "text": [
      "771784 points in perimeter!\n"
     ]
    },
    {
     "name": "stderr",
     "output_type": "stream",
     "text": [
      "\n"
     ]
    },
    {
     "name": "stdout",
     "output_type": "stream",
     "text": [
      "Distance = 925529\n"
     ]
    },
    {
     "name": "stderr",
     "output_type": "stream",
     "text": [
      "4it [00:00,  5.77it/s]\n"
     ]
    },
    {
     "name": "stdout",
     "output_type": "stream",
     "text": [
      "3702120 points in perimeter!\n",
      "Distance = 1628044\n"
     ]
    },
    {
     "name": "stderr",
     "output_type": "stream",
     "text": [
      "4it [00:01,  3.62it/s]\n"
     ]
    },
    {
     "name": "stdout",
     "output_type": "stream",
     "text": [
      "6512180 points in perimeter!\n",
      "Distance = 822603\n"
     ]
    },
    {
     "name": "stderr",
     "output_type": "stream",
     "text": [
      "4it [00:00,  7.50it/s]\n"
     ]
    },
    {
     "name": "stdout",
     "output_type": "stream",
     "text": [
      "3290416 points in perimeter!\n",
      "Distance = 593941\n"
     ]
    },
    {
     "name": "stderr",
     "output_type": "stream",
     "text": [
      "4it [00:00,  8.95it/s]\n"
     ]
    },
    {
     "name": "stdout",
     "output_type": "stream",
     "text": [
      "2375768 points in perimeter!\n",
      "Distance = 1525909\n"
     ]
    },
    {
     "name": "stderr",
     "output_type": "stream",
     "text": [
      "4it [00:01,  3.86it/s]\n"
     ]
    },
    {
     "name": "stdout",
     "output_type": "stream",
     "text": [
      "6103640 points in perimeter!\n",
      "Distance = 1304388\n"
     ]
    },
    {
     "name": "stderr",
     "output_type": "stream",
     "text": [
      "4it [00:00,  4.65it/s]\n"
     ]
    },
    {
     "name": "stdout",
     "output_type": "stream",
     "text": [
      "5217556 points in perimeter!\n",
      "Distance = 439590\n"
     ]
    },
    {
     "name": "stderr",
     "output_type": "stream",
     "text": [
      "4it [00:00, 12.67it/s]\n"
     ]
    },
    {
     "name": "stdout",
     "output_type": "stream",
     "text": [
      "1758364 points in perimeter!\n",
      "Distance = 325704\n"
     ]
    },
    {
     "name": "stderr",
     "output_type": "stream",
     "text": [
      "4it [00:00, 17.46it/s]\n"
     ]
    },
    {
     "name": "stdout",
     "output_type": "stream",
     "text": [
      "1302820 points in perimeter!\n",
      "Distance = 332346\n"
     ]
    },
    {
     "name": "stderr",
     "output_type": "stream",
     "text": [
      "4it [00:00, 16.47it/s]\n"
     ]
    },
    {
     "name": "stdout",
     "output_type": "stream",
     "text": [
      "1329388 points in perimeter!\n",
      "Distance = 472955\n"
     ]
    },
    {
     "name": "stderr",
     "output_type": "stream",
     "text": [
      "4it [00:00, 11.81it/s]\n"
     ]
    },
    {
     "name": "stdout",
     "output_type": "stream",
     "text": [
      "1891824 points in perimeter!\n",
      "Distance = 467689\n"
     ]
    },
    {
     "name": "stderr",
     "output_type": "stream",
     "text": [
      "4it [00:00, 12.07it/s]\n"
     ]
    },
    {
     "name": "stdout",
     "output_type": "stream",
     "text": [
      "1870760 points in perimeter!\n",
      "Distance = 1562082\n"
     ]
    },
    {
     "name": "stderr",
     "output_type": "stream",
     "text": [
      "4it [00:01,  3.68it/s]\n"
     ]
    },
    {
     "name": "stdout",
     "output_type": "stream",
     "text": [
      "6248332 points in perimeter!\n",
      "Distance = 736132\n"
     ]
    },
    {
     "name": "stderr",
     "output_type": "stream",
     "text": [
      "4it [00:00,  7.86it/s]\n"
     ]
    },
    {
     "name": "stdout",
     "output_type": "stream",
     "text": [
      "2944532 points in perimeter!\n",
      "Distance = 1040798\n"
     ]
    },
    {
     "name": "stderr",
     "output_type": "stream",
     "text": [
      "4it [00:00,  5.55it/s]\n"
     ]
    },
    {
     "name": "stdout",
     "output_type": "stream",
     "text": [
      "4163196 points in perimeter!\n",
      "Distance = 1304913\n"
     ]
    },
    {
     "name": "stderr",
     "output_type": "stream",
     "text": [
      "4it [00:01,  2.92it/s]\n"
     ]
    },
    {
     "name": "stdout",
     "output_type": "stream",
     "text": [
      "5219656 points in perimeter!\n",
      "Distance = 1289919\n"
     ]
    },
    {
     "name": "stderr",
     "output_type": "stream",
     "text": [
      "4it [00:00,  4.45it/s]\n"
     ]
    },
    {
     "name": "stdout",
     "output_type": "stream",
     "text": [
      "5159680 points in perimeter!\n",
      "Distance = 137205\n"
     ]
    },
    {
     "name": "stderr",
     "output_type": "stream",
     "text": [
      "4it [00:00, 35.80it/s]"
     ]
    },
    {
     "name": "stdout",
     "output_type": "stream",
     "text": [
      "548824 points in perimeter!\n"
     ]
    },
    {
     "name": "stderr",
     "output_type": "stream",
     "text": [
      "\n"
     ]
    },
    {
     "name": "stdout",
     "output_type": "stream",
     "text": [
      "Distance = 736599\n"
     ]
    },
    {
     "name": "stderr",
     "output_type": "stream",
     "text": [
      "4it [00:00,  7.40it/s]\n"
     ]
    },
    {
     "name": "stdout",
     "output_type": "stream",
     "text": [
      "2946400 points in perimeter!\n",
      "Distance = 929761\n"
     ]
    },
    {
     "name": "stderr",
     "output_type": "stream",
     "text": [
      "4it [00:00,  5.54it/s]\n"
     ]
    },
    {
     "name": "stdout",
     "output_type": "stream",
     "text": [
      "3719048 points in perimeter!\n",
      "Distance = 548935\n"
     ]
    },
    {
     "name": "stderr",
     "output_type": "stream",
     "text": [
      "4it [00:00, 10.53it/s]\n"
     ]
    },
    {
     "name": "stdout",
     "output_type": "stream",
     "text": [
      "2195744 points in perimeter!\n",
      "Distance = 375882\n"
     ]
    },
    {
     "name": "stderr",
     "output_type": "stream",
     "text": [
      "4it [00:00, 16.27it/s]\n"
     ]
    },
    {
     "name": "stdout",
     "output_type": "stream",
     "text": [
      "1503532 points in perimeter!\n"
     ]
    }
   ],
   "source": [
    "sensors = init_sensors(data)"
   ]
  },
  {
   "cell_type": "code",
   "execution_count": null,
   "id": "29f0b40b-de01-4d0b-b829-2391c0adf989",
   "metadata": {},
   "outputs": [],
   "source": [
    "def order_coordinates(perimeter_coords, verbose=True, min_val=0, max_val=4_000_000):\n",
    "    perimeter_coords = sorted(perimeter_coords)\n",
    "    used_coords = []\n",
    "    c = perimeter_coords.pop(0)\n",
    "    used_coords.append(deepcopy(c))\n",
    "    last_length = len(perimeter_coords)\n",
    "    gaps = []\n",
    "    while len(perimeter_coords) > 0:\n",
    "        for i, c2 in enumerate(perimeter_coords):\n",
    "            if c2[0] <= c[1]:\n",
    "                if c2[1] <= c[1]:\n",
    "                    if verbose:\n",
    "                        print(f\"{c2} is encompassed by {c}\")\n",
    "                    _ = perimeter_coords.pop(i)\n",
    "                else:\n",
    "                    if verbose:\n",
    "                        print(f\"{c2} overlaps {c} and extends the right hand range\")\n",
    "                    _ = perimeter_coords.pop(i)\n",
    "                    c[1] = c2[1]\n",
    "                    used_coords.append(deepcopy(c))\n",
    "                    break\n",
    "            else:\n",
    "                if verbose:\n",
    "                    print(f\"{c2} does not overlap {c}\")\n",
    "        if len(perimeter_coords) == last_length:\n",
    "            next_c = perimeter_coords.pop(0)\n",
    "            if verbose:\n",
    "                print(f\"Gap found between {c} and {next_c}\")\n",
    "            used_coords.append(next_c)\n",
    "            gaps.append([c[1], next_c[0]])\n",
    "            c[1] = next_c[1]\n",
    "            c[0] = next_c[0]\n",
    "        else:\n",
    "            last_length = len(perimeter_coords)\n",
    "    # used_coords.extend(perimeter_coords)\n",
    "    if used_coords[0][0] > min_val: \n",
    "        gaps.append([min_val, used_coords[0][0]])\n",
    "    if c[1] < max_val:\n",
    "        gaps.append([c[1], max_val])\n",
    "    return used_coords, gaps"
   ]
  },
  {
   "cell_type": "code",
   "execution_count": 1054,
   "id": "6f5648eb-4982-4037-9c6b-01440db06fda",
   "metadata": {},
   "outputs": [
    {
     "name": "stderr",
     "output_type": "stream",
     "text": [
      " 82%|████████████████████████████████████████▎        | 3289728/3999999 [03:14<00:42, 16886.83it/s]"
     ]
    },
    {
     "name": "stdout",
     "output_type": "stream",
     "text": [
      "CPU times: user 2min 57s, sys: 11.6 s, total: 3min 9s\n",
      "Wall time: 3min 14s\n"
     ]
    },
    {
     "name": "stderr",
     "output_type": "stream",
     "text": [
      "\n"
     ]
    }
   ],
   "source": [
    "%%time\n",
    "rows = []\n",
    "max_v = 4_000_000\n",
    "\n",
    "for row_idx in tqdm.tqdm(range(1, max_v)):\n",
    "# row_idx = 10\n",
    "\n",
    "    perimeter_coords = []\n",
    "    for s in sensors:\n",
    "        coords = list(set(s.diamond.extract_perimeter_points(row_idx, True)))\n",
    "        if len(coords) == 2:\n",
    "            perimeter_coords.append(sorted(coords))\n",
    "\n",
    "    used_coords, gaps = order_coordinates(perimeter_coords, False, min_val=0, max_val=max_v)\n",
    "    if len(gaps) > 0:\n",
    "        rows.append(row_idx)\n",
    "        break\n",
    "# for i, line in enumerate(used_coords):\n",
    "#     plt.plot([line[0], line[1]], [i, i] , 'k-', lw=2)\n",
    "# for gap in gaps:\n",
    "#     rect=mpatches.Rectangle((gap[0], -1),gap[1]-gap[0],len(used_coords)+1, \n",
    "#                             fill = True,\n",
    "#                             color = \"purple\",\n",
    "#                             alpha=0.1,\n",
    "#                             linewidth = 0.1)\n",
    "#     plt.gca().add_patch(rect)"
   ]
  },
  {
   "cell_type": "code",
   "execution_count": null,
   "id": "69576dd8-5cd0-4e30-8555-51ef0ba4163b",
   "metadata": {},
   "outputs": [
    {
     "data": {
      "text/plain": [
       "[3289729]"
      ]
     },
     "execution_count": 1055,
     "metadata": {},
     "output_type": "execute_result"
    }
   ],
   "source": [
    "rows"
   ]
  },
  {
   "cell_type": "code",
   "execution_count": 1061,
   "id": "39521104-7b53-4ad6-877a-7be5c964b705",
   "metadata": {},
   "outputs": [
    {
     "name": "stdout",
     "output_type": "stream",
     "text": [
      "0 -> [3403961, 4140175]\n",
      "1 -> [-1046206, 1203420]\n",
      "5 -> [2672097, 1093833]\n",
      "6 -> [102809, 2216077]\n",
      "8 -> [2604285, 3403959]\n",
      "13 -> [3854552, 4133004]\n",
      "16 -> [1930761, 965867]\n",
      "18 -> [-642552, 1035390]\n",
      "22 -> [2586669, 3403959]\n",
      "24 -> [3403961, 3749955]\n",
      "coordinate of beacon = 3403960, 3289729\n"
     ]
    },
    {
     "data": {
      "image/png": "[encoded data removed]",
      "text/plain": [
       "<Figure size 640x480 with 1 Axes>"
      ]
     },
     "metadata": {},
     "output_type": "display_data"
    }
   ],
   "source": [
    "row_idx = rows[0]\n",
    "\n",
    "perimeter_coords = []\n",
    "for i, s in enumerate(sensors):\n",
    "    coords = list(set(s.diamond.extract_perimeter_points(row_idx, True)))\n",
    "    if len(coords) == 2:\n",
    "        print(f\"{i} -> {coords}\")\n",
    "        perimeter_coords.append(sorted(coords))\n",
    "\n",
    "used_coords, gaps = order_coordinates(perimeter_coords, False, 0, 4_000_000)\n",
    "gap_x = gaps[0][0] + 1\n",
    "print(f\"coordinate of beacon = {gap_x}, {row_idx}\")\n",
    "\n",
    "for i, line in enumerate(used_coords):\n",
    "    plt.plot([line[0], line[1]], [i, i] , 'k-', lw=2)\n",
    "for gap in gaps:\n",
    "    rect=mpatches.Rectangle((gap[0], -1),gap[1]-gap[0],len(used_coords)+1, \n",
    "                            fill = True,\n",
    "                            color = \"purple\",\n",
    "                            alpha=0.9,\n",
    "                            linewidth = 0.5)\n",
    "    plt.gca().add_patch(rect)"
   ]
  },
  {
   "cell_type": "code",
   "execution_count": 1068,
   "id": "b3c7a9a6-5327-49ce-889d-84bb8d2f14a9",
   "metadata": {},
   "outputs": [
    {
     "name": "stdout",
     "output_type": "stream",
     "text": [
      "Answer to part B = 13615843289729\n"
     ]
    }
   ],
   "source": [
    "answer = int((gap_x * 4000000) + row_idx)\n",
    "print(f\"Answer to part B = {answer}\")"
   ]
  },
  {
   "cell_type": "code",
   "execution_count": 1067,
   "id": "9326bc09-a822-4ba7-a0f0-18ebaf775da6",
   "metadata": {},
   "outputs": [
    {
     "name": "stdout",
     "output_type": "stream",
     "text": [
      "Part b already solved with same answer: 13615843289729\n"
     ]
    }
   ],
   "source": [
    "submit_answer(answer, 'b', day, year)"
   ]
  },
  {
   "cell_type": "code",
   "execution_count": null,
   "id": "d137eacc-4a78-4119-ab57-6bc972a80edd",
   "metadata": {},
   "outputs": [],
   "source": []
  }
 ],
 "metadata": {
  "kernelspec": {
   "display_name": "Python 3 (ipykernel)",
   "language": "python",
   "name": "python3"
  },
  "language_info": {
   "codemirror_mode": {
    "name": "ipython",
    "version": 3
   },
   "file_extension": ".py",
   "mimetype": "text/x-python",
   "name": "python",
   "nbconvert_exporter": "python",
   "pygments_lexer": "ipython3",
   "version": "3.10.8"
  }
 },
 "nbformat": 4,
 "nbformat_minor": 5
}
