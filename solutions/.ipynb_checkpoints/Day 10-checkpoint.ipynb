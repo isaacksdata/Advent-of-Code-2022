{
 "cells": [
  {
   "cell_type": "markdown",
   "id": "614b089c-6778-430a-9070-63ab9738a7e3",
   "metadata": {},
   "source": [
    "# Part One"
   ]
  },
  {
   "cell_type": "markdown",
   "id": "5fb9c422-a493-45b1-8463-4a9285af7a8e",
   "metadata": {},
   "source": [
    "\n",
    "You avoid the ropes, plunge into the river, and swim to shore.\n",
    "\n",
    "The Elves yell something about meeting back up with them upriver,<br> but the river is too loud to tell exactly what they're saying.<br> They finish crossing the bridge and disappear from view.\n",
    "\n",
    "Situations like this must be why the Elves prioritized getting the communication system on your <br>handheld device working. <br>You pull it out of your pack, but the amount of water slowly draining from a big crack in its screen tells you it probably won't be of much immediate use.\n",
    "\n",
    "Unless, that is, you can design a replacement for the device's video system! <br>It seems to be some kind of <br>cathode-ray tube screen and simple CPU that are both driven by a precise clock circuit. The clock circuit ticks at a constant rate; each tick is called a cycle.\n",
    "\n",
    "Start by figuring out the signal being sent by the CPU. <br>The CPU has a single register, X, which starts with the value 1.<br> It supports only two instructions:\n",
    "\n",
    "addx V takes two cycles to complete. After two cycles, the X register is increased by the value V. (V can be negative.)<br>\n",
    "noop takes one cycle to complete. It has no other effect.<br>\n",
    "The CPU uses these instructions in a program (your puzzle input) to, somehow, tell the screen what to draw.<br>\n",
    "\n",
    "Consider the following small program:<br>\n",
    "\n",
    "noop<br>\n",
    "addx 3<br>\n",
    "addx -5<br>\n",
    "Execution of this program proceeds as follows:<br>\n",
    "\n",
    "At the start of the first cycle, the noop instruction begins execution. <br>During the first cycle, X is 1. After the first cycle, the noop instruction finishes execution, doing nothing.\n",
    "At the start of the second cycle, the addx 3 instruction begins execution. <br>During the second cycle, X is still 1.\n",
    "During the third cycle, X is still 1. After the third cycle, the addx 3 instruction finishes execution, setting X to 4.<br>\n",
    "At the start of the fourth cycle, the addx -5 instruction begins execution. <br>During the fourth cycle, X is still 4.\n",
    "During the fifth cycle, X is still 4. After the fifth cycle, the addx -5 instruction finishes execution, setting X to -1.<br>\n",
    "Maybe you can learn something by looking at the value of the X register throughout execution. <br>For now, consider the signal strength <br>(the cycle number multiplied by the value of the X register) during the 20th cycle and every 40 cycles after that (that is, during the 20th, 60th, 100th, 140th, 180th, and 220th cycles).\n",
    "\n",
    "Find the signal strength during the 20th, 60th, 100th, 140th, 180th, and 220th cycles. What is the sum of these six signal strengths?"
   ]
  },
  {
   "cell_type": "code",
   "execution_count": 74,
   "id": "c022e8a7-87fb-4413-931f-278ef1a5d4e6",
   "metadata": {},
   "outputs": [],
   "source": [
    "import numpy as np\n",
    "import matplotlib.pyplot as plt"
   ]
  },
  {
   "cell_type": "code",
   "execution_count": 84,
   "id": "590e1238-b21c-4734-b84c-20f9f9f0ad1e",
   "metadata": {},
   "outputs": [],
   "source": [
    "path = \"../data/puzzle_10.txt\""
   ]
  },
  {
   "cell_type": "code",
   "execution_count": 85,
   "id": "b066572e-fde1-47d3-9434-2c793841a671",
   "metadata": {},
   "outputs": [],
   "source": [
    "with open(path, 'r') as file:\n",
    "  # Read the contents of the file into a list\n",
    "  data = file.readlines()"
   ]
  },
  {
   "cell_type": "code",
   "execution_count": 86,
   "id": "d301ab11-1c6b-4e7a-8e2b-2324e168f16a",
   "metadata": {},
   "outputs": [],
   "source": [
    "data = [x.replace(\"\\n\", \"\") for x in data]"
   ]
  },
  {
   "cell_type": "code",
   "execution_count": 87,
   "id": "255998c4-4734-40a4-b71b-45c954a6d9c2",
   "metadata": {},
   "outputs": [],
   "source": [
    "class program:\n",
    "    def __init__(self, cycles_to_check: list):\n",
    "        self.cycle = 1\n",
    "        self.x = 1\n",
    "        self.cycles_to_check = cycles_to_check\n",
    "        self.store = {}\n",
    "        for c in self.cycles_to_check:\n",
    "            self.store[c] = None\n",
    "        self.CRT = []\n",
    "        \n",
    "    def increment_cycle(self):\n",
    "        self.add_pixel()\n",
    "        if self.cycle in self.cycles_to_check:\n",
    "            self.store[self.cycle] = self.x * self.cycle\n",
    "        self.cycle += 1\n",
    "        \n",
    "    def increment_x(self, n):\n",
    "        self.x += n\n",
    "        \n",
    "    def process_entry(self, entry):\n",
    "        if entry == \"noop\":\n",
    "            self.increment_cycle()\n",
    "        elif entry.startswith(\"addx\"):\n",
    "            self.increment_cycle()\n",
    "            self.increment_cycle()\n",
    "            self.increment_x(n=int(entry.split(\" \")[1]))\n",
    "        else:\n",
    "            print(\"Problem\")\n",
    "            \n",
    "    def add_pixel(self):\n",
    "        row = self.cycle // 40\n",
    "        c = self.cycle\n",
    "        for r in range(row):\n",
    "            c -= 40\n",
    "        if c-1 in [self.x-1, self.x, self.x+1]:\n",
    "            self.CRT.append(\"#\")\n",
    "        else:\n",
    "            self.CRT.append(\".\")"
   ]
  },
  {
   "cell_type": "code",
   "execution_count": 47,
   "id": "813bca2a-2957-4d76-a7a3-fa4427e2ddf5",
   "metadata": {},
   "outputs": [],
   "source": [
    "my_program = program(cycles_to_check=[20, 60, 100, 140, 180, 220])\n",
    "for entry in data:\n",
    "    my_program.process_entry(entry)"
   ]
  },
  {
   "cell_type": "code",
   "execution_count": 48,
   "id": "36721be1-06b6-4979-881c-fb1b3a3c3a2d",
   "metadata": {},
   "outputs": [
    {
     "data": {
      "text/plain": [
       "{20: 720, 60: 1260, 100: 2100, 140: 2940, 180: 6120, 220: 3740}"
      ]
     },
     "execution_count": 48,
     "metadata": {},
     "output_type": "execute_result"
    }
   ],
   "source": [
    "my_program.store"
   ]
  },
  {
   "cell_type": "code",
   "execution_count": 49,
   "id": "24566104-f064-473c-92ee-5b4f632ef79e",
   "metadata": {},
   "outputs": [
    {
     "data": {
      "text/plain": [
       "16880"
      ]
     },
     "execution_count": 49,
     "metadata": {},
     "output_type": "execute_result"
    }
   ],
   "source": [
    "sum(my_program.store.values())"
   ]
  },
  {
   "cell_type": "markdown",
   "id": "a2187b66-7408-4287-b671-accac2a65650",
   "metadata": {},
   "source": [
    "# Part Two "
   ]
  },
  {
   "cell_type": "markdown",
   "id": "5d633104-24e1-47de-89e0-f191413df1e9",
   "metadata": {},
   "source": [
    "It seems like the X register controls the horizontal position of a sprite. Specifically, the sprite is 3 pixels wide, <br>and the X register sets the horizontal position of the middle of that sprite. <br>(In this system, there is no such thing as \"vertical position\": if the sprite's horizontal position puts its pixels where the CRT is currently drawing, then those pixels will be drawn.)<br>\n",
    "\n",
    "You count the pixels on the CRT: 40 wide and 6 high. This CRT screen draws the top row of pixels left-to-right, <br>then the row below that, and so on. The left-most pixel in each row is in position 0, and the right-most pixel in each row is in position 39.\n",
    "\n",
    "Like the CPU, the CRT is tied closely to the clock circuit: the CRT draws a single pixel during each cycle. <br>Representing each pixel of the screen as a #, here are the cycles during which the first and last pixel in each row are drawn:\n",
    "\n",
    "\n",
    "So, by carefully timing the CPU instructions and the CRT drawing operations, <br>you should be able to determine whether the sprite is visible the instant each pixel is drawn.<br> If the sprite is positioned such that one of its three pixels is the pixel currently being drawn, the screen produces a lit pixel (#); otherwise, the screen leaves the pixel dark (.)\n",
    "\n",
    "\n",
    "Render the image given by your program. What eight capital letters appear on your CRT?"
   ]
  },
  {
   "cell_type": "code",
   "execution_count": 88,
   "id": "373e7b45-3cc5-4a2b-ba85-f712bcd509cf",
   "metadata": {},
   "outputs": [],
   "source": [
    "my_program = program(cycles_to_check=[20, 60, 100, 140, 180, 220])\n",
    "for entry in data:\n",
    "    my_program.process_entry(entry)"
   ]
  },
  {
   "cell_type": "code",
   "execution_count": 89,
   "id": "0c9f9323-33d7-47a1-8df2-a6d9e7927bd1",
   "metadata": {},
   "outputs": [],
   "source": [
    "chunk_size = 40\n",
    "chunked_lst = [my_program.CRT[i:i + chunk_size] for i in range(0, len(my_program.CRT), chunk_size)]"
   ]
  },
  {
   "cell_type": "code",
   "execution_count": 90,
   "id": "3e001471-b1f2-4f60-acea-5879ecba4847",
   "metadata": {},
   "outputs": [],
   "source": [
    "arr = np.array(chunked_lst)"
   ]
  },
  {
   "cell_type": "code",
   "execution_count": 91,
   "id": "0530adde-dba6-487d-94f5-da1377f4793e",
   "metadata": {},
   "outputs": [],
   "source": [
    "mask = arr == \"#\"\n",
    "mask_0 = arr == \".\""
   ]
  },
  {
   "cell_type": "code",
   "execution_count": 92,
   "id": "6a3bc889-acf5-4707-a708-072b9acc4212",
   "metadata": {},
   "outputs": [],
   "source": [
    "arr[mask] = 1\n",
    "arr[mask_0] = 0"
   ]
  },
  {
   "cell_type": "code",
   "execution_count": 93,
   "id": "e6e946f8-b5e5-4706-bf7b-c7919d61978c",
   "metadata": {},
   "outputs": [
    {
     "data": {
      "text/plain": [
       "<matplotlib.image.AxesImage at 0x126512830>"
      ]
     },
     "execution_count": 93,
     "metadata": {},
     "output_type": "execute_result"
    },
    {
     "data": {
      "image/png": "[encoded data removed]",
      "text/plain": [
       "<Figure size 640x480 with 1 Axes>"
      ]
     },
     "metadata": {},
     "output_type": "display_data"
    }
   ],
   "source": [
    "plt.imshow(arr.astype(int))"
   ]
  },
  {
   "cell_type": "code",
   "execution_count": null,
   "id": "b2275374-55c0-4f3e-9b92-e8798d667402",
   "metadata": {},
   "outputs": [],
   "source": []
  }
 ],
 "metadata": {
  "kernelspec": {
   "display_name": "Python 3 (ipykernel)",
   "language": "python",
   "name": "python3"
  },
  "language_info": {
   "codemirror_mode": {
    "name": "ipython",
    "version": 3
   },
   "file_extension": ".py",
   "mimetype": "text/x-python",
   "name": "python",
   "nbconvert_exporter": "python",
   "pygments_lexer": "ipython3",
   "version": "3.10.8"
  }
 },
 "nbformat": 4,
 "nbformat_minor": 5
}
