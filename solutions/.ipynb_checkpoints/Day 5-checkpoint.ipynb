{
 "cells": [
  {
   "cell_type": "code",
   "execution_count": 1,
   "id": "f9a7f03e-5070-44b7-85ec-eaea85da598f",
   "metadata": {},
   "outputs": [],
   "source": [
    "import sys\n",
    "sys.path.append(\"..\")\n",
    "from utilities.utils import get_puzzle, submit_answer"
   ]
  },
  {
   "cell_type": "code",
   "execution_count": 2,
   "id": "dbf7f0f9-9969-4c04-901c-19d1a0515934",
   "metadata": {},
   "outputs": [],
   "source": [
    "day = 5\n",
    "year= 2022"
   ]
  },
  {
   "cell_type": "markdown",
   "id": "7b983712-e9dd-4198-ab44-27307970fe6a",
   "metadata": {},
   "source": [
    "# Part One"
   ]
  },
  {
   "cell_type": "markdown",
   "id": "5e990bb1-93e0-4fba-883c-351d02ca1bce",
   "metadata": {},
   "source": [
    "\n",
    "The expedition can depart as soon as the final supplies have been unloaded from the ships. <br>Supplies are stored in stacks of marked crates, but because the needed supplies are buried under many other crates, the crates need to be rearranged.\n",
    "\n",
    "The ship has a giant cargo crane capable of moving crates between stacks. To ensure none of the crates get crushed or fall over,<br> the crane operator will rearrange them in a series of carefully-planned steps. After the crates are rearranged, the desired crates will be at the top of each stack.\n",
    "\n",
    "The Elves don't want to interrupt the crane operator during this delicate procedure, but they forgot to ask her which crate will <br>end up where, and they want to be ready to unload them as soon as possible so they can embark.\n",
    "\n",
    "They do, however, have a drawing of the starting stacks of crates and the rearrangement procedure (your puzzle input). For example:\n",
    "\n",
    "    [D]    \n",
    "[N] [C]    \n",
    "[Z] [M] [P]\n",
    " 1   2   3 \n",
    "\n",
    "move 1 from 2 to 1\n",
    "move 3 from 1 to 3\n",
    "move 2 from 2 to 1\n",
    "move 1 from 1 to 2\n",
    "In this example, there are three stacks of crates. Stack 1 contains two crates: crate Z is on the bottom, and crate N is on top. <br>Stack 2 contains three crates; from bottom to top, they are crates M, C, and D. Finally, stack 3 contains a single crate, P.\n",
    "\n",
    "Then, the rearrangement procedure is given. In each step of the procedure, a quantity of crates is moved from one stack to a different stack.<br> In the first step of the above rearrangement procedure, one crate is moved from stack 2 to stack 1, resulting in this configuration:\n",
    "\n",
    "[D]        \n",
    "[N] [C]    \n",
    "[Z] [M] [P]\n",
    " 1   2   3 \n",
    "In the second step, three crates are moved from stack 1 to stack 3. Crates are moved one at a time, <br>so the first crate to be moved (D) ends up below the second and third crates:\n",
    "\n",
    "        [Z]\n",
    "        [N]\n",
    "    [C] [D]\n",
    "    [M] [P]\n",
    " 1   2   3\n",
    "Then, both crates are moved from stack 2 to stack 1. Again, because crates are moved one at a time, crate C ends up below crate M:\n",
    "\n",
    "        [Z]\n",
    "        [N]\n",
    "[M]     [D]\n",
    "[C]     [P]\n",
    " 1   2   3\n",
    "Finally, one crate is moved from stack 1 to stack 2:\n",
    "\n",
    "        [Z]\n",
    "        [N]\n",
    "        [D]\n",
    "[C] [M] [P]\n",
    " 1   2   3\n",
    "The Elves just need to know which crate will end up on top of each stack; in this example, the top crates are C in stack 1, <br>M in stack 2, and Z in stack 3, so you should combine these together and give the Elves the message CMZ.\n",
    "\n",
    "After the rearrangement procedure completes, what crate ends up on top of each stack?"
   ]
  },
  {
   "cell_type": "code",
   "execution_count": 3,
   "id": "cbeca5f8-c5cf-40dd-a25e-498c571a06bc",
   "metadata": {},
   "outputs": [],
   "source": [
    "part = \"a\""
   ]
  },
  {
   "cell_type": "code",
   "execution_count": 15,
   "id": "d0b63ecc-ff6a-4ae3-8e67-bb529fb62b16",
   "metadata": {},
   "outputs": [],
   "source": [
    "from string import ascii_letters"
   ]
  },
  {
   "cell_type": "code",
   "execution_count": 4,
   "id": "defde712-a5da-467f-8983-68ab9929216c",
   "metadata": {},
   "outputs": [],
   "source": [
    "data = get_puzzle(day=day, year=year)"
   ]
  },
  {
   "cell_type": "code",
   "execution_count": 5,
   "id": "68084b1b-051e-4969-832e-2593fe5a086e",
   "metadata": {},
   "outputs": [],
   "source": [
    "data = data.split(\"\\n\")"
   ]
  },
  {
   "cell_type": "markdown",
   "id": "d9293b7c-edf2-4305-ab7a-f00ad80380ba",
   "metadata": {},
   "source": [
    "Generate the cleaned stacks "
   ]
  },
  {
   "cell_type": "code",
   "execution_count": 6,
   "id": "f1bf5f28-25b4-4af8-9065-bc686c31117f",
   "metadata": {},
   "outputs": [
    {
     "data": {
      "text/plain": [
       "[1, 2, 3, 4, 5, 6, 7, 8, 9]"
      ]
     },
     "execution_count": 6,
     "metadata": {},
     "output_type": "execute_result"
    }
   ],
   "source": [
    "stacks = [int(x) for x in data[8].split(\"  \")]\n",
    "stacks"
   ]
  },
  {
   "cell_type": "code",
   "execution_count": 7,
   "id": "1b47f3e6-8501-4a53-b2d6-53132c45232b",
   "metadata": {},
   "outputs": [],
   "source": [
    "stack_idx = [[i for i, x in enumerate(data[8]) if x==str(n)][0] for n in stacks]"
   ]
  },
  {
   "cell_type": "code",
   "execution_count": 8,
   "id": "5d00f540-6386-4d9e-86a9-c47bf28efef6",
   "metadata": {},
   "outputs": [],
   "source": [
    "cleaned_stacks = [[data[i][j] for j in stack_idx] for i in range(8)]"
   ]
  },
  {
   "cell_type": "code",
   "execution_count": 9,
   "id": "1440f1d8-5c41-4350-b45a-d7682e1b61a5",
   "metadata": {},
   "outputs": [],
   "source": [
    "cleaned_stacks.reverse()"
   ]
  },
  {
   "cell_type": "code",
   "execution_count": 10,
   "id": "ff92b7cc-fc87-40db-ba6d-ae2b61a19c23",
   "metadata": {},
   "outputs": [
    {
     "data": {
      "text/plain": [
       "[['C', 'H', 'F', 'Z', 'G', 'L', 'V', 'Z', 'H'],\n",
       " ['Z', 'Z', 'Q', 'S', 'F', 'P', 'B', 'Q', 'L'],\n",
       " ['N', 'R', 'R', 'W', 'W', 'W', 'D', 'N', 'F'],\n",
       " ['B', 'W', 'J', 'H', 'L', ' ', 'R', 'B', 'C'],\n",
       " ['M', 'C', ' ', 'F', 'N', ' ', 'G', 'W', 'G'],\n",
       " ['W', 'B', ' ', 'N', 'Q', ' ', 'C', ' ', 'T'],\n",
       " ['Q', ' ', ' ', 'M', 'P', ' ', 'Q', ' ', 'J'],\n",
       " ['V', ' ', ' ', 'T', ' ', ' ', 'J', ' ', ' ']]"
      ]
     },
     "execution_count": 10,
     "metadata": {},
     "output_type": "execute_result"
    }
   ],
   "source": [
    "cleaned_stacks"
   ]
  },
  {
   "cell_type": "markdown",
   "id": "ab70113e-dd2c-43c4-86da-69a9a0d72222",
   "metadata": {},
   "source": [
    "Remodel the stacks as a dictionary with lists as values"
   ]
  },
  {
   "cell_type": "code",
   "execution_count": 11,
   "id": "282f4642-3757-472f-b9db-2011d947c9cd",
   "metadata": {},
   "outputs": [],
   "source": [
    "store = {}\n",
    "for i in range(len(cleaned_stacks)):\n",
    "    for j in range(len(cleaned_stacks[0])):\n",
    "        if cleaned_stacks[i][j] != \" \":\n",
    "            if j+1 in store.keys():\n",
    "                store[j+1].append(cleaned_stacks[i][j])\n",
    "            else: \n",
    "                store[j+1] = []\n",
    "                store[j+1].append(cleaned_stacks[i][j])"
   ]
  },
  {
   "cell_type": "code",
   "execution_count": 12,
   "id": "9ea7c288-2d92-43d0-baa0-7b99df2c6888",
   "metadata": {},
   "outputs": [
    {
     "data": {
      "text/plain": [
       "{1: ['C', 'Z', 'N', 'B', 'M', 'W', 'Q', 'V'],\n",
       " 2: ['H', 'Z', 'R', 'W', 'C', 'B'],\n",
       " 3: ['F', 'Q', 'R', 'J'],\n",
       " 4: ['Z', 'S', 'W', 'H', 'F', 'N', 'M', 'T'],\n",
       " 5: ['G', 'F', 'W', 'L', 'N', 'Q', 'P'],\n",
       " 6: ['L', 'P', 'W'],\n",
       " 7: ['V', 'B', 'D', 'R', 'G', 'C', 'Q', 'J'],\n",
       " 8: ['Z', 'Q', 'N', 'B', 'W'],\n",
       " 9: ['H', 'L', 'F', 'C', 'G', 'T', 'J']}"
      ]
     },
     "execution_count": 12,
     "metadata": {},
     "output_type": "execute_result"
    }
   ],
   "source": [
    "store"
   ]
  },
  {
   "cell_type": "code",
   "execution_count": 13,
   "id": "57739678-352a-4bc1-97fa-a3d00c7ea514",
   "metadata": {},
   "outputs": [],
   "source": [
    "instructions = data[10:]"
   ]
  },
  {
   "cell_type": "code",
   "execution_count": 16,
   "id": "1ced0ae3-1877-4da2-9a33-4c80be75f26f",
   "metadata": {},
   "outputs": [],
   "source": [
    "for instruction in instructions:\n",
    "    n, src, dst = [int(x) for x in instruction.split(\" \") if not any([l in x for l in ascii_letters])]\n",
    "    for _ in range(n):\n",
    "        box = store[src].pop()\n",
    "        store[dst].append(box)"
   ]
  },
  {
   "cell_type": "code",
   "execution_count": 17,
   "id": "c11f1801-3a3c-4a63-af0d-83aa83249540",
   "metadata": {},
   "outputs": [
    {
     "data": {
      "text/plain": [
       "{1: ['M', 'M', 'C', 'C', 'T', 'D', 'W', 'F', 'R', 'Q'],\n",
       " 2: ['N'],\n",
       " 3: ['Z', 'W', 'C', 'H', 'Z', 'H'],\n",
       " 4: ['T', 'L', 'F', 'Q', 'F', 'S', 'N', 'G', 'C', 'W', 'N', 'Q', 'W', 'W'],\n",
       " 5: ['B', 'P', 'L', 'L', 'G', 'R', 'J', 'Q', 'J'],\n",
       " 6: ['B', 'V'],\n",
       " 7: ['V', 'J'],\n",
       " 8: ['H', 'Q', 'N', 'B', 'B', 'Z', 'R', 'F', 'Z'],\n",
       " 9: ['P', 'G', 'W']}"
      ]
     },
     "execution_count": 17,
     "metadata": {},
     "output_type": "execute_result"
    }
   ],
   "source": [
    "store"
   ]
  },
  {
   "cell_type": "code",
   "execution_count": 19,
   "id": "10e0b044-364b-4690-aeda-0d0ef4f6605f",
   "metadata": {},
   "outputs": [],
   "source": [
    "answer = \"\".join([store[k][-1] for k in store.keys()])"
   ]
  },
  {
   "cell_type": "code",
   "execution_count": 20,
   "id": "be55a150-6f51-4911-bae9-85c958e6cf95",
   "metadata": {},
   "outputs": [
    {
     "name": "stdout",
     "output_type": "stream",
     "text": [
      "Part a already solved with same answer: QNHWJVJZW\n"
     ]
    }
   ],
   "source": [
    "submit_answer(answer, day=day, part=part, year=year)"
   ]
  },
  {
   "cell_type": "markdown",
   "id": "c2b7453f-aa84-4e94-91bd-7959f1c04ae5",
   "metadata": {},
   "source": [
    "# Part Two"
   ]
  },
  {
   "cell_type": "markdown",
   "id": "8141b90c-374f-4c57-8f76-e1906d23074c",
   "metadata": {},
   "source": [
    "The CrateMover 9001 is notable for many new and exciting features: air conditioning, leather seats, an extra cup holder, <br>and the ability to pick up and move multiple crates at once."
   ]
  },
  {
   "cell_type": "markdown",
   "id": "d7146258-d4e3-4a7a-b87c-57d8b8751a47",
   "metadata": {},
   "source": [
    "Before the rearrangement process finishes, update your simulation so that the Elves know where they should stand to be ready to unload the final supplies. <br>After the rearrangement procedure completes, what crate ends up on top of each stack?"
   ]
  },
  {
   "cell_type": "code",
   "execution_count": 21,
   "id": "e8f00816-f7f0-4d1f-af5e-2452f29df67e",
   "metadata": {},
   "outputs": [],
   "source": [
    "part = \"b\""
   ]
  },
  {
   "cell_type": "code",
   "execution_count": 105,
   "id": "51622b61-a0e3-4fe5-a6fd-a858c2cc14bc",
   "metadata": {},
   "outputs": [],
   "source": [
    "store = {}\n",
    "for i in range(len(cleaned_stacks)):\n",
    "    for j in range(len(cleaned_stacks[0])):\n",
    "        if cleaned_stacks[i][j] != \" \":\n",
    "            if j+1 in store.keys():\n",
    "                store[j+1].append(cleaned_stacks[i][j])\n",
    "            else: \n",
    "                store[j+1] = []\n",
    "                store[j+1].append(cleaned_stacks[i][j])"
   ]
  },
  {
   "cell_type": "code",
   "execution_count": 106,
   "id": "3c5227c8-2bc5-4b8b-b57f-3c217bd27440",
   "metadata": {},
   "outputs": [
    {
     "data": {
      "text/plain": [
       "{1: ['C', 'Z', 'N', 'B', 'M', 'W', 'Q', 'V'],\n",
       " 2: ['H', 'Z', 'R', 'W', 'C', 'B'],\n",
       " 3: ['F', 'Q', 'R', 'J'],\n",
       " 4: ['Z', 'S', 'W', 'H', 'F', 'N', 'M', 'T'],\n",
       " 5: ['G', 'F', 'W', 'L', 'N', 'Q', 'P'],\n",
       " 6: ['L', 'P', 'W'],\n",
       " 7: ['V', 'B', 'D', 'R', 'G', 'C', 'Q', 'J'],\n",
       " 8: ['Z', 'Q', 'N', 'B', 'W'],\n",
       " 9: ['H', 'L', 'F', 'C', 'G', 'T', 'J']}"
      ]
     },
     "execution_count": 106,
     "metadata": {},
     "output_type": "execute_result"
    }
   ],
   "source": [
    "store"
   ]
  },
  {
   "cell_type": "code",
   "execution_count": 107,
   "id": "60ba0e6a-2127-4011-9129-6e0f94104937",
   "metadata": {},
   "outputs": [],
   "source": [
    "instructions = data[10:]"
   ]
  },
  {
   "cell_type": "code",
   "execution_count": 108,
   "id": "8e1b5618-acea-4be9-83cd-2a08b2227629",
   "metadata": {},
   "outputs": [],
   "source": [
    "for instruction in instructions:\n",
    "    n, src, dst = [int(x) for x in instruction.split(\" \") if not any([l in x for l in ascii_letters])]\n",
    "    boxes = store[src][n*-1:]\n",
    "    for _ in range(n):\n",
    "        _ = store[src].pop()\n",
    "    store[dst].extend(boxes)"
   ]
  },
  {
   "cell_type": "code",
   "execution_count": 109,
   "id": "baf4a8ae-c9bd-4ae1-afbc-44417b3a02d3",
   "metadata": {},
   "outputs": [
    {
     "data": {
      "text/plain": [
       "{1: ['C', 'M', 'F', 'R', 'N', 'N', 'Q', 'Z', 'Q', 'B'],\n",
       " 2: ['P'],\n",
       " 3: ['L', 'Z', 'T', 'C', 'N', 'C'],\n",
       " 4: ['B', 'G', 'J', 'Z', 'G', 'W', 'S', 'W', 'B', 'D', 'W', 'H', 'W', 'Z'],\n",
       " 5: ['B', 'W', 'T', 'N', 'C', 'Q', 'H', 'F', 'J'],\n",
       " 6: ['F', 'L'],\n",
       " 7: ['V', 'F'],\n",
       " 8: ['V', 'P', 'R', 'H', 'Q', 'R', 'Q', 'M', 'J'],\n",
       " 9: ['G', 'L', 'W']}"
      ]
     },
     "execution_count": 109,
     "metadata": {},
     "output_type": "execute_result"
    }
   ],
   "source": [
    "store"
   ]
  },
  {
   "cell_type": "code",
   "execution_count": 110,
   "id": "cab58143-3b6c-4ac4-a239-317c396aaa13",
   "metadata": {},
   "outputs": [
    {
     "data": {
      "text/plain": [
       "'BPCZJLFJW'"
      ]
     },
     "execution_count": 110,
     "metadata": {},
     "output_type": "execute_result"
    }
   ],
   "source": [
    "answer = \"\".join([store[k][-1] for k in store.keys()])"
   ]
  },
  {
   "cell_type": "code",
   "execution_count": null,
   "id": "366ed224-c21c-4539-9d56-94c4e7ede92c",
   "metadata": {},
   "outputs": [],
   "source": [
    "submit_answer(answer, day=day, part=part, year=year)"
   ]
  }
 ],
 "metadata": {
  "kernelspec": {
   "display_name": "Python 3 (ipykernel)",
   "language": "python",
   "name": "python3"
  },
  "language_info": {
   "codemirror_mode": {
    "name": "ipython",
    "version": 3
   },
   "file_extension": ".py",
   "mimetype": "text/x-python",
   "name": "python",
   "nbconvert_exporter": "python",
   "pygments_lexer": "ipython3",
   "version": "3.10.8"
  }
 },
 "nbformat": 4,
 "nbformat_minor": 5
}
