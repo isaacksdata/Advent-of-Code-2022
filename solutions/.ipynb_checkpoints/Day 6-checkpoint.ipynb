{
 "cells": [
  {
   "cell_type": "code",
   "execution_count": 1,
   "id": "9b8c5486-f031-4435-b485-e7dc42b28dc7",
   "metadata": {},
   "outputs": [],
   "source": [
    "import sys\n",
    "sys.path.append(\"..\")\n",
    "from utilities.utils import get_puzzle, submit_answer"
   ]
  },
  {
   "cell_type": "code",
   "execution_count": 2,
   "id": "80d0adf4-a2f8-4ed7-98b1-480da5b26eb4",
   "metadata": {},
   "outputs": [],
   "source": [
    "day = 6\n",
    "year = 2022"
   ]
  },
  {
   "cell_type": "markdown",
   "id": "59f03084-a728-48af-8bc0-00073403a394",
   "metadata": {},
   "source": [
    "# Part One"
   ]
  },
  {
   "cell_type": "markdown",
   "id": "582bc587-d682-43a9-b667-27a0d3cc0a43",
   "metadata": {},
   "source": [
    "\n",
    "The preparations are finally complete; you and the Elves leave camp on foot and begin to make your way toward the star fruit grove.\n",
    "\n",
    "As you move through the dense undergrowth, one of the Elves gives you a handheld device. He says that it has many fancy features,<br> but the most important one to set up right now is the communication system.\n",
    "\n",
    "However, because he's heard you have significant experience dealing with signal-based systems, he convinced the other Elves that <br>it would be okay to give you their one malfunctioning device - surely you'll have no problem fixing it.\n",
    "\n",
    "As if inspired by comedic timing, the device emits a few colorful sparks.\n",
    "\n",
    "To be able to communicate with the Elves, the device needs to lock on to their signal. <br>The signal is a series of seemingly-random characters that the device receives one at a time.\n",
    "\n",
    "To fix the communication system, you need to add a subroutine to the device that detects a start-of-packet marker in the datastream. <br>In the protocol being used by the Elves, the start of a packet is<br> indicated by a sequence of four characters that are all different.\n",
    "\n",
    "The device will send your subroutine a datastream buffer (your puzzle input); your subroutine needs to identify the <br>first position where the four most recently received characters were all different. Specifically, it needs to report the number of characters from the beginning of the buffer to the end of the first such four-character marker.\n",
    "\n",
    "For example, suppose you receive the following datastream buffer:\n",
    "\n",
    "mjqjpqmgbljsphdztnvjfqwrcgsmlb<br>\n",
    "After the first three characters (mjq) have been received, there haven't been enough characters received yet<br> to find the marker. The first time a marker could occur is after the fourth character <br>is received, making the most recent four characters mjqj. Because j is repeated, this isn't a marker.\n",
    "\n",
    "The first time a marker appears is after the seventh character arrives. Once it does, the last four characters<br> received are jpqm, which are all different. In this case, your subroutine <br>should report the value 7, because the first start-of-packet marker is complete after 7 characters have been processed.\n",
    "\n",
    "Here are a few more examples:\n",
    "\n",
    "bvwbjplbgvbhsrlpgdmjqwftvncz: first marker after character 5<br>\n",
    "nppdvjthqldpwncqszvftbrmjlhg: first marker after character 6<br>\n",
    "nznrnfrfntjfmvfwmzdfjlvtqnbhcprsg: first marker after character 10<br>\n",
    "zcfzfwzzqfrljwzlrfnpqdbhtmscgvjw: first marker after character 11<br>\n",
    "How many characters need to be processed before the first start-of-packet marker is detected?"
   ]
  },
  {
   "cell_type": "code",
   "execution_count": 3,
   "id": "908e807f-609a-4415-bd69-5853f37542ee",
   "metadata": {},
   "outputs": [],
   "source": [
    "part = \"a\""
   ]
  },
  {
   "cell_type": "code",
   "execution_count": 4,
   "id": "cc47289c-d439-475f-84cd-9290b604c27b",
   "metadata": {},
   "outputs": [],
   "source": [
    "data = get_puzzle(day=day, year=year)"
   ]
  },
  {
   "cell_type": "code",
   "execution_count": 5,
   "id": "2d232156-96b3-44fa-bb8e-0fa2a8a6a1a9",
   "metadata": {},
   "outputs": [],
   "source": [
    "data = data.split(\"\\n\")"
   ]
  },
  {
   "cell_type": "code",
   "execution_count": 6,
   "id": "4d2f4534-8aa1-4f29-abe7-2d2bfa1a9c07",
   "metadata": {},
   "outputs": [
    {
     "data": {
      "text/plain": [
       "['llqnqffqsqttfffbcfcbcbdcczccfssvwswrwddzlddpdhdwwlvlffjllnjjwjqwjjttwbwcwfccdmmnddgvvpwvvgsshnshsgglljfjzjpjfpfjpplddjcchdhvhlhvllvflfbllsdllgppwjjprjpjrrdwrdrggjvjppgbgttdppwhhcshsvvgpvggsllstsggdjdmjjrvjjszjsjbbsffjwjnwwzjjjvqvfftbffbpffndfdzfdfvdfdggmpmbbwgbgnnbtnnnhggdmdffrqrlrhrzzrmzzmbzzcdcwwzffsrrnfnvfnnvppwjjndjnndtdppgcppsmppljlpjjmlldlsltlglwgwcwnwvwddzrrllwjjnvjvwvppjssncnfcnfcfcczfccpjphjphjjjsgszzhthghjhrjrbrtrjrhrsrfftfzftfmmwmpmgghbggjrrsdswddtjjvnnrwrzrpzzlglwggrnrgrfftnffwwgllrqqzbqbbtltbbgdgpgphggspggplggmcmscsffzcfzzbggdrgrqgrrnlrnrbnnzsnnzcctvvnvwvnwnhhwpwtptllpflfcfttwtjjhwjhhbwhbbtppwhwvhvghvhphpwwcgwwhbbfvbffzpzlllrzlrrbnnrngrnrpnnsszbbqffpsffhfshfhzzqhhcgcgfggzmmdllthhrhnrrwggdqdsstccqllflmflfddjwjzjffvjjfgjgdgbdgdngnpgpnpffsnsjnnbbjdbjbtbmmbrrlbbqmqpqrprjjrbbvnbbzvvcwwlfwfggmhhdhsdhsdhshhqfhfrhhqlqttffpmmjzjqjggqzzdfzflfsllshhvjvfvbfvbbjljhhzrzqqszqzsqqswswbsbzszgzdgzzhjzhhvffhthvtthltthghzhvvjttczttlssvvgjjmsjstjjrfjjhbjbnjbjddqrddnbdnbnwbnbqbmqqgtgqtttcmmqbqrrgrrsrszssvpsvvjqjttjpjwwmwfwttczttgccwhcwwrzwzbwwqbqmqnmqqnfnmmmzdmzmpmssdpsslbbmgmbmlmnlldlccvzzlrzzqbqfqlflwlvlhhtrtcttgnnqhnqqtjjphjhwjhwhpwwvdvfddmndncnppcffhllfvfdfllhgslvtsqhtlfdflcjfmqbnctnfnwqrlqbzrcbvldrffcptsgslqcszqcfdvtpggvdqblwcgmdjqrpjdhtrmvrfrzznspqlfhnjsppbpjdggcwjwprpnlnntgfgmflctqphdmzfvpzzmbzmvrqdgchzmdvjdzmfsslpqvhpgznmpspjpdmlfwwjbbwqbfthghclldpmnsbcwlzswrsnfzbdzpcnrrpspdpfqhvmtfjlppqtphvzzqrwhzccnrgrtgfbfgtwvlwsmcvzmqmhsvztmmvpjzfwzgfwntbrsfthdgrcmgtdsvzcllmcshrlqldrvrnmdgbwttmhczvscrdvfgdvrhfvlghhsfbmrptbwmpnvtsrjlpjlbmmjzwwzbdtjlqqdczqgpzfjslccrcrblhplndblghchczbjjfzlsvvrqhvgdsncgpjhjlprhfhswwbmrnszqzhhlrbqpphvgtfsgmdpjwgcmqnvfdhrqmbspjpdrtdbqnbmbpgqwgmltqwrjprvsfjsmpldcqqbvmfhgzltzfvhlnfdqrphzzjrbdvnnjspvnlnnsdzvgqsqztndjpmnbqtwnpzmmfhsswwnnwwlbnpgbrhzchbnsrwwpprhntngsjzvssttqwfvjrdddtfpgtqqzcwljzmdjtgzdqjjvbqgdttdgvqvlfdsgcjhsmdmwrwdcqdflpfjbfzsvjrzrhhcnvcjblwcdvtbgfhfgcwrcjsrzcdrfwtvdqrghdtrjgdmhrfcsnwwwdpvjtpzdqfgrlmrqscjbfgdbgvflhvdjmnmslvsbcbgwplgqljmlzpgrfjwmvqfwmwrhnmdjhdwgjrngvccrbzmhcqthvvtdtmfqvfczhqbfgzgrmdtprznfzjtrcwqgztchtdmzmnwbfbnbttbvzsflcpsjshgphfdlvhdrcpsqnhjjggbnsqrfpwsdznzcwjbcswwndzbpdnfcbdrfgrmqzvtjttltbntznmqfsmqlgqvlqnrvgrnggslqhbplmgpzwlfzbvwdvrchsnhrnvgmzjdprvvspltcdzmdnlgtmrwnwpdndpdqjltcnmsggrvbprslqhfgmzqtppdpsjcmmbvfgmbpdnwdcgnssfgjhzhrjljdwhrzznscndgbscdmbbtbrnzbqzvcjgjgljbjlrrvdhjdllsnjzhwlmjslghrqplwjwssbzzpdzdfhhsqctlcddnfnnvbcwpdvzdcsgcqpctsjtdtnzpggpzsrrhfjtthqcqhtvwzltbdvdnbgwlppblwzjsqqbcpcrthhrhdnzhdnflqlvbzmcjfcrbmgdgqptfqfbmlfbblqdfmnwgvbdhmcmtmvtggqstjpwhvzjhbgpblmdrnggvrvphbglqgfcphmrgfmrwcdchtwfllqwsnbqttwdcvrwgzjfztmcffppqtmnwpgcrgwtjbdtjlmnpmvlzndljglzblwdrggqvbbfvqcbcbpqttrmqlcqnqvrfqsnlpmwlcgfwfcqpgmszfccbqtcqfwlwqrjjhrdbjqvdmfzjgncjqgqbthpgjgbfdvltbhpnbjqqwrsczrthfhmlzjjjgsjtsvgmwfsjngzfqdqzfhvwjrswvnqvsvvsjdbwlwdcsszdngmmhnnqsgvsrvpnndghrwgzztqczvhcrzdpqtrmrnfsfrlpdnbbtshfhplzqvdvzdvwhwsbpnbzlvcbgptdszjlcgfdzchjcsvhzdljvgpwstzwnssvhztcptnhslggnrschvfnmhcnjvldthtfpqzdvltfgnmtgvlrljhwqdzqfmfblstvfnpfcdsqslrqbztrbfzmsfjtjwhlzfnhrvpfqfqvtdllrvchmqphgljwcspgpwsdwqfdhsqhsflpbcbjjmjrfjrqrqfqcqzqsqcnqhfgsclfnfzblfdhphrvqdpvcqmllrcdnrlwqbrgqsbfqqllcvmglntjwcsjljgntmmldscndfdjcqpwbqpbmfjsgwfwcqbqbbhhgprlbzmvdfjcsmsqvhfhmgrhnwpslztmwbhdgrfzfcmwjswpbpzwstfbfmgwtprmptzjwtrqthrqwgslnmtlfgnvgpwvsfwthtrgwfbnnnwmdcfrpqqztplscvfnfpfwwdnfnzjccnhswwlcrrdqfhvsrnvcdrwmjswzggscplggbwgndsbntqvtrjbmbzrnbbmdjvwrmmtrmfjjhnvrcjcbqlhlthbvtjjczddblbbttmmzgdqmtdqswjdwbjhsrjbvdtqzqdbhhgbttgmgwfgfpczpqpfsddgslltwsvngwbwfbfcdzlqghwdbfzzldjpwpmpjmslwnwbrjjvwcsjgdzjwrrwnvgvrqlgjhwvrgnczspfplhfbtdpbpfqmhbvmcqdgrrjfslzgsqfpwrrrmjdtgbslddwvddrbmrdsdhhnlwsncrmnglrrpvtbrfvjbdmcpgphcdfwnfcglvmlbslttpmjnspqhnmbcqgmncfjjpdfjqhggnswbgppjhllscrvtmtmmbwbpgddtzblscntrmccdpzdnllqpvfdpfpwwvnnbjlzphvqwffwsjmbtllctrjmllwscmldcdrpfrzrqlpwbjwfgmnshzqzgdjqhcwtsqlsjffvzcpnrzmvtlzlgwvrrjtdbcnddbhjgqqzrvhplrbsrwgscjnfmhbcnpdcjqrltgdzzzzbqtsspbcdssbjrzfqdgvhmgdzsjdsqcfwbgrnhrlzgpjmhctqdccmvqzddmcptsjgtfshprqmslvtmtrprfsngrnnpnrccrvnrvcwzrbbnbghlwvcncgzglnqthchhsnzlfrcggdptvwlrbnfwgjpflgrcfzhhgffwcbhwlsdmvmsvvzvdcrlvlnstgz']"
      ]
     },
     "execution_count": 6,
     "metadata": {},
     "output_type": "execute_result"
    }
   ],
   "source": [
    "data"
   ]
  },
  {
   "cell_type": "code",
   "execution_count": 13,
   "id": "e729d41c-8d5e-4dd3-b991-baaa816ddfde",
   "metadata": {},
   "outputs": [],
   "source": [
    "def find_marker(sequence: str, marker_length: int):\n",
    "    i = marker_length\n",
    "    while i < len(sequence):\n",
    "        subseq = sequence[i-marker_length:i]\n",
    "        if len(set(list(subseq))) == marker_length:\n",
    "            break\n",
    "        i += 1\n",
    "    return i, subseq"
   ]
  },
  {
   "cell_type": "markdown",
   "id": "919711bd-787c-4328-a296-5f27956078b1",
   "metadata": {},
   "source": [
    "testing "
   ]
  },
  {
   "cell_type": "code",
   "execution_count": 15,
   "id": "83e85d4d-7e0c-46dc-b9d2-5ee97851bfe3",
   "metadata": {},
   "outputs": [
    {
     "data": {
      "text/plain": [
       "(11, 'zqfr')"
      ]
     },
     "execution_count": 15,
     "metadata": {},
     "output_type": "execute_result"
    }
   ],
   "source": [
    "find_marker(\"zcfzfwzzqfrljwzlrfnpqdbhtmscgvjw\", 4)"
   ]
  },
  {
   "cell_type": "code",
   "execution_count": 17,
   "id": "4b52c33e-8260-4815-ba79-e8b6554f41c7",
   "metadata": {},
   "outputs": [
    {
     "data": {
      "text/plain": [
       "(1175, 'lhgs')"
      ]
     },
     "execution_count": 17,
     "metadata": {},
     "output_type": "execute_result"
    }
   ],
   "source": [
    "answer, _ = find_marker(data[0], 4)"
   ]
  },
  {
   "cell_type": "code",
   "execution_count": null,
   "id": "daedaab0-5fc8-4a0f-968d-303d0ca749b5",
   "metadata": {},
   "outputs": [],
   "source": [
    "submit_answer(answer, day=day, year=year, part=part)"
   ]
  },
  {
   "cell_type": "markdown",
   "id": "2349110b-b60e-4c09-9204-e7aa2ff205f6",
   "metadata": {},
   "source": [
    "# Part Two"
   ]
  },
  {
   "cell_type": "markdown",
   "id": "a5ad04d1-e179-46bd-a039-cb9e56d746c9",
   "metadata": {},
   "source": [
    "Your device's communication system is correctly detecting packets, but still isn't working. It looks like it also needs to look for messages.\n",
    "\n",
    "A start-of-message marker is just like a start-of-packet marker, except it consists of 14 distinct characters rather than 4.\n",
    "\n",
    "Here are the first positions of start-of-message markers for all of the above examples:\n",
    "\n",
    "mjqjpqmgbljsphdztnvjfqwrcgsmlb: first marker after character 19<br>\n",
    "bvwbjplbgvbhsrlpgdmjqwftvncz: first marker after character 23<br>\n",
    "nppdvjthqldpwncqszvftbrmjlhg: first marker after character 23<br>\n",
    "nznrnfrfntjfmvfwmzdfjlvtqnbhcprsg: first marker after character 29<br>\n",
    "zcfzfwzzqfrljwzlrfnpqdbhtmscgvjw: first marker after character 26<br>\n",
    "How many characters need to be processed before the first start-of-message marker is detected?"
   ]
  },
  {
   "cell_type": "code",
   "execution_count": null,
   "id": "04535b54-eb68-4989-b0cf-d80cb98342b9",
   "metadata": {},
   "outputs": [],
   "source": [
    "part = \"b\""
   ]
  },
  {
   "cell_type": "code",
   "execution_count": 18,
   "id": "3a8b3dc3-4a6c-40d6-b9ae-652c040f0838",
   "metadata": {},
   "outputs": [
    {
     "data": {
      "text/plain": [
       "(19, 'qmgbljsphdztnv')"
      ]
     },
     "execution_count": 18,
     "metadata": {},
     "output_type": "execute_result"
    }
   ],
   "source": [
    "find_marker(\"mjqjpqmgbljsphdztnvjfqwrcgsmlb\", 14)"
   ]
  },
  {
   "cell_type": "code",
   "execution_count": 19,
   "id": "5196185c-fa97-433b-80bd-3af59fd9ec31",
   "metadata": {},
   "outputs": [
    {
     "data": {
      "text/plain": [
       "(3217, 'hgprlbzmvdfjcs')"
      ]
     },
     "execution_count": 19,
     "metadata": {},
     "output_type": "execute_result"
    }
   ],
   "source": [
    "answer, _ = find_marker(data[0], 14)"
   ]
  },
  {
   "cell_type": "code",
   "execution_count": null,
   "id": "70da4d85-4b10-4ff4-adb5-7af801647da0",
   "metadata": {},
   "outputs": [],
   "source": [
    "submit_answer(answer, day=day, part=part, year=year)"
   ]
  }
 ],
 "metadata": {
  "kernelspec": {
   "display_name": "Python 3 (ipykernel)",
   "language": "python",
   "name": "python3"
  },
  "language_info": {
   "codemirror_mode": {
    "name": "ipython",
    "version": 3
   },
   "file_extension": ".py",
   "mimetype": "text/x-python",
   "name": "python",
   "nbconvert_exporter": "python",
   "pygments_lexer": "ipython3",
   "version": "3.10.8"
  }
 },
 "nbformat": 4,
 "nbformat_minor": 5
}
