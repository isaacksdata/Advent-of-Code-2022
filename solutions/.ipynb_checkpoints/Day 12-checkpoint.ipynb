{
 "cells": [
  {
   "cell_type": "markdown",
   "id": "8c8ee597-ed4a-47bf-ab56-2476c866b850",
   "metadata": {},
   "source": [
    "# Part A"
   ]
  },
  {
   "cell_type": "markdown",
   "id": "75eef6ed-84f0-4c86-8bc6-c879f767d633",
   "metadata": {},
   "source": [
    "\n",
    "You try contacting the Elves using your handheld device, but the river you're following must be too low to get a decent signal.<br>\n",
    "\n",
    "You ask the device for a heightmap of the surrounding area (your puzzle input). <br>The heightmap shows the local area from above broken into a grid; <br>the elevation of each square of the grid is given by a single lowercase letter, where a is the lowest elevation, b is the next-lowest, and so on up to the highest elevation, z.\n",
    "\n",
    "Also included on the heightmap are marks for your current position (S) and the location that should get the best signal (E). <br>Your current position (S) has elevation a, and the location that should get the best signal (E) has elevation z.\n",
    "\n",
    "You'd like to reach E, but to save energy, you should do it in as few steps as possible. During each step, <br>you can move exactly one square up, down, left, or right. <br>To avoid needing to get out your climbing gear, the elevation of the destination square can be at most one higher than the elevation of your current square; that is, <br>if your current elevation is m, you could step to elevation n, but not to elevation o.<br> (This also means that the elevation of the destination square can be much lower than the elevation of your current square.)<br>\n",
    "\n",
    "For example:<br>\n",
    "\n",
    "Sabqponm<br>\n",
    "abcryxxl<br>\n",
    "accszExk<br>\n",
    "acctuvwj<br>\n",
    "abdefghi<br>\n",
    "Here, you start in the top-left corner; your goal is near the middle. You could start by moving down or right,<br> but eventually you'll need to head toward the e at the bottom. From there, you can spiral around to the goal:\n",
    "\n",
    "\"v..v<<<<\"<br>\n",
    "\">v.vv<<^\"<br>\n",
    ".>vv>E^^<br>\n",
    "..v>>>^^<br>\n",
    "..>>>>>^<br>\n",
    "In the above diagram, the symbols indicate whether the path exits each square moving up (^), down (v), left (<), or right (>). <br>The location that should get the best signal is still E, and . marks unvisited squares.\n",
    "\n",
    "This path reaches the goal in 31 steps, the fewest possible.<br>\n",
    "\n",
    "What is the fewest steps required to move from your current position to the location that should get the best signal?<br>"
   ]
  },
  {
   "cell_type": "code",
   "execution_count": 261,
   "id": "b56f35ae-f5c0-4553-a524-9a19f8658b3f",
   "metadata": {},
   "outputs": [],
   "source": [
    "import numpy as np\n",
    "import sys\n",
    "from string import ascii_lowercase\n",
    "from copy import deepcopy\n",
    "import tqdm "
   ]
  },
  {
   "cell_type": "code",
   "execution_count": 3,
   "id": "2e059dc1-509f-4ac5-a3b4-27ec41cc13c3",
   "metadata": {},
   "outputs": [],
   "source": [
    "sys.path.append(\"..\")"
   ]
  },
  {
   "cell_type": "code",
   "execution_count": 4,
   "id": "5dab0e40-e259-4986-b530-bcacd00b1b4b",
   "metadata": {},
   "outputs": [],
   "source": [
    "from utilities.utils import get_puzzle, submit_answer"
   ]
  },
  {
   "cell_type": "code",
   "execution_count": 5,
   "id": "548298ed-c1bb-4861-b981-034eded7b258",
   "metadata": {},
   "outputs": [],
   "source": [
    "path = \"../data/sample_12.txt\""
   ]
  },
  {
   "cell_type": "code",
   "execution_count": 6,
   "id": "cff538d0-5f46-4577-ba85-433d46891174",
   "metadata": {},
   "outputs": [],
   "source": [
    "with open(path, 'r') as file:\n",
    "  # Read the contents of the file into a list\n",
    "  data = file.readlines()"
   ]
  },
  {
   "cell_type": "code",
   "execution_count": 7,
   "id": "73d179b1-1fa6-4dab-9e05-1961241a3d97",
   "metadata": {},
   "outputs": [],
   "source": [
    "data = [x.replace(\"\\n\", \"\") for x in data]"
   ]
  },
  {
   "cell_type": "code",
   "execution_count": 8,
   "id": "c2b34e95-bc19-4ea5-b8cd-2120fbefc3b2",
   "metadata": {},
   "outputs": [
    {
     "data": {
      "text/plain": [
       "['Sabqponm', 'abcryxxl', 'accszExk', 'acctuvwj', 'abdefghi']"
      ]
     },
     "execution_count": 8,
     "metadata": {},
     "output_type": "execute_result"
    }
   ],
   "source": [
    "data"
   ]
  },
  {
   "cell_type": "code",
   "execution_count": 11,
   "id": "f62bcc6f-b532-4d03-9fcc-1edcd91b2a90",
   "metadata": {},
   "outputs": [],
   "source": [
    "arr = np.array([list(d) for d in data])"
   ]
  },
  {
   "cell_type": "code",
   "execution_count": 12,
   "id": "12bf500e-8f4a-458c-ae00-f322d89d6610",
   "metadata": {},
   "outputs": [
    {
     "data": {
      "text/plain": [
       "array([['S', 'a', 'b', 'q', 'p', 'o', 'n', 'm'],\n",
       "       ['a', 'b', 'c', 'r', 'y', 'x', 'x', 'l'],\n",
       "       ['a', 'c', 'c', 's', 'z', 'E', 'x', 'k'],\n",
       "       ['a', 'c', 'c', 't', 'u', 'v', 'w', 'j'],\n",
       "       ['a', 'b', 'd', 'e', 'f', 'g', 'h', 'i']], dtype='<U1')"
      ]
     },
     "execution_count": 12,
     "metadata": {},
     "output_type": "execute_result"
    }
   ],
   "source": [
    "arr"
   ]
  },
  {
   "cell_type": "markdown",
   "id": "376592d3-c1c6-4f6a-8173-d02496124d14",
   "metadata": {},
   "source": [
    "1) Check if S, if so then replace with a\n",
    "2) check for possible moves\n",
    "3) iterate over each move recursivley - make the move. After return whether end was found or not"
   ]
  },
  {
   "cell_type": "code",
   "execution_count": 39,
   "id": "34a20337-cc60-43d7-aa1a-df46745f4590",
   "metadata": {},
   "outputs": [
    {
     "data": {
      "text/plain": [
       "[array([0]), array([0])]"
      ]
     },
     "execution_count": 39,
     "metadata": {},
     "output_type": "execute_result"
    }
   ],
   "source": [
    "start = list(np.where(arr==\"S\"))\n",
    "start"
   ]
  },
  {
   "cell_type": "code",
   "execution_count": 60,
   "id": "bcdcd1fc-ab35-4911-8c65-f31dd288fabc",
   "metadata": {},
   "outputs": [],
   "source": [
    "letters = list(ascii_lowercase)"
   ]
  },
  {
   "cell_type": "code",
   "execution_count": 85,
   "id": "d58d0c71-b402-4dfa-a558-67fc909acb3d",
   "metadata": {},
   "outputs": [],
   "source": [
    "current_pos = [3, 2]"
   ]
  },
  {
   "cell_type": "code",
   "execution_count": 134,
   "id": "1d32bf86-9bd1-49b2-82e7-0eaef5f59968",
   "metadata": {},
   "outputs": [],
   "source": [
    "def get_moves(start, arr, move_store, route_id, previous_position=None):\n",
    "    possible_moves = []\n",
    "    for m in [(1, 0), (-1, 0), (0, -1), (0, 1)]:\n",
    "        pm = deepcopy(start)\n",
    "        pm[0] += m[0]\n",
    "        pm[1] += m[1]\n",
    "        if pm[0] >= 0 and pm[0] <= arr.shape[0] and pm[1] >= 0 and pm[1] <= arr.shape[1]:\n",
    "            print(f\"pm = {pm}\")\n",
    "            print(f\"pp = {previous_position}\")\n",
    "            if pm in move_store[route_id]:\n",
    "                print(f\"Discarding {pm} as previously visited\")\n",
    "            else:\n",
    "                print(f\"Route = {move_store[route_id]}\")\n",
    "                start_height = arr[start[0], start[1]]\n",
    "                dst_height = arr[pm[0], pm[1]]\n",
    "                start_height = \"a\" if start_height == \"S\" else start_height\n",
    "                dst_height = \"z\" if dst_height == \"E\" else dst_height\n",
    "                if letters.index(dst_height) - letters.index(start_height) < 2:\n",
    "                    possible_moves.append(pm)\n",
    "    return possible_moves"
   ]
  },
  {
   "cell_type": "code",
   "execution_count": 135,
   "id": "039b7532-3f16-4206-b007-208c920681b8",
   "metadata": {},
   "outputs": [],
   "source": [
    "def make_move(current_position, move):\n",
    "    previous_position = deepcopy(current_position)\n",
    "    current_position[0] = move[0]\n",
    "    current_position[1] = move[1]\n",
    "    return current_position, previous_position"
   ]
  },
  {
   "cell_type": "code",
   "execution_count": 136,
   "id": "5b9872fa-a364-48d3-8220-f25a437cfed0",
   "metadata": {},
   "outputs": [],
   "source": [
    "def play_turn(current_position, arr, move_store, route_id=0, previous_position=None):\n",
    "    print(f\"Current Pos = {current_position}\")\n",
    "    if arr[current_position[0], current_position[1]] == \"E\":\n",
    "        return True, current_position, previous_position, move_store\n",
    "    moves = get_moves(current_position, arr, move_store, route_id, previous_position)\n",
    "    if len(moves) == 0:\n",
    "        return False, current_position, previous_position, move_store\n",
    "    for i, move in enumerate(moves):\n",
    "        if i > 0: # need to make a new route\n",
    "            route = move_store[route_id]\n",
    "            route.append(move)\n",
    "            move_store[route_id+1] = route\n",
    "            cp, pp = make_move(current_position, move)\n",
    "            print(f\"Made move from {pp} to {cp}\")\n",
    "            _, cp, pp, move_store = play_turn(cp, arr, move_store, route_id+1, pp)\n",
    "        else:\n",
    "            move_store[route_id].append(move)\n",
    "            cp, pp = make_move(current_position, move)\n",
    "            print(f\"Made move from {pp} to {cp}\")\n",
    "    return False, cp, pp, move_store"
   ]
  },
  {
   "cell_type": "code",
   "execution_count": 137,
   "id": "42380bf9-6e46-4878-85e4-fd06376de96f",
   "metadata": {},
   "outputs": [
    {
     "data": {
      "text/plain": [
       "[array([9]), array([9])]"
      ]
     },
     "execution_count": 137,
     "metadata": {},
     "output_type": "execute_result"
    }
   ],
   "source": [
    "start"
   ]
  },
  {
   "cell_type": "code",
   "execution_count": 139,
   "id": "8b54b65a-316b-497f-88a9-5b75c2452738",
   "metadata": {},
   "outputs": [
    {
     "name": "stdout",
     "output_type": "stream",
     "text": [
      "Current Pos = [0, 0]\n",
      "pm = [1, 0]\n",
      "pp = None\n",
      "Route = [[0, 0]]\n",
      "pm = [0, 1]\n",
      "pp = None\n",
      "Route = [[0, 0]]\n",
      "Made move from [0, 0] to [1, 0]\n",
      "Made move from [1, 0] to [0, 1]\n",
      "Current Pos = [0, 1]\n",
      "pm = [1, 1]\n",
      "pp = [1, 0]\n",
      "Route = [[0, 0], [1, 0], [0, 1]]\n",
      "pm = [0, 0]\n",
      "pp = [1, 0]\n",
      "Discarding [0, 0] as previously visited\n",
      "pm = [0, 2]\n",
      "pp = [1, 0]\n",
      "Route = [[0, 0], [1, 0], [0, 1]]\n",
      "Made move from [0, 1] to [1, 1]\n",
      "Made move from [1, 1] to [0, 2]\n",
      "Current Pos = [0, 2]\n",
      "pm = [1, 2]\n",
      "pp = [1, 1]\n",
      "Route = [[0, 0], [1, 0], [0, 1], [1, 1], [0, 2]]\n",
      "pm = [0, 1]\n",
      "pp = [1, 1]\n",
      "Discarding [0, 1] as previously visited\n",
      "pm = [0, 3]\n",
      "pp = [1, 1]\n",
      "Route = [[0, 0], [1, 0], [0, 1], [1, 1], [0, 2]]\n",
      "Made move from [0, 2] to [1, 2]\n"
     ]
    },
    {
     "data": {
      "text/plain": [
       "(False,\n",
       " [1, 2],\n",
       " [0, 2],\n",
       " {0: [[0, 0], [1, 0], [0, 1], [1, 1], [0, 2], [1, 2]],\n",
       "  1: [[0, 0], [1, 0], [0, 1], [1, 1], [0, 2], [1, 2]],\n",
       "  2: [[0, 0], [1, 0], [0, 1], [1, 1], [0, 2], [1, 2]]})"
      ]
     },
     "execution_count": 139,
     "metadata": {},
     "output_type": "execute_result"
    }
   ],
   "source": [
    "play_turn([0, 0], arr, {0:[[0, 0]]})"
   ]
  },
  {
   "cell_type": "code",
   "execution_count": 87,
   "id": "dac87526-21ac-4834-a7cb-a5fa8c185445",
   "metadata": {},
   "outputs": [
    {
     "name": "stdout",
     "output_type": "stream",
     "text": [
      "[3, 2]\n",
      "d\n",
      "[3, 2]\n",
      "c\n",
      "[3, 2]\n",
      "t\n"
     ]
    },
    {
     "data": {
      "text/plain": [
       "[[4, 2], [3, 1]]"
      ]
     },
     "execution_count": 87,
     "metadata": {},
     "output_type": "execute_result"
    }
   ],
   "source": [
    "get_moves(current_pos, [2, 2])"
   ]
  },
  {
   "cell_type": "code",
   "execution_count": 58,
   "id": "e015f05d-adba-462e-9018-cb02ceda5514",
   "metadata": {},
   "outputs": [],
   "source": [
    "start_height = arr[start[0], start[1]]\n",
    "dst_height = arr[pm[0], pm[1]]"
   ]
  },
  {
   "cell_type": "code",
   "execution_count": 59,
   "id": "5bdf1b0c-0f05-420b-aa04-4619a9c8f71c",
   "metadata": {},
   "outputs": [
    {
     "data": {
      "text/plain": [
       "array([ True])"
      ]
     },
     "execution_count": 59,
     "metadata": {},
     "output_type": "execute_result"
    }
   ],
   "source": [
    "start_height == \"S\""
   ]
  },
  {
   "cell_type": "code",
   "execution_count": 57,
   "id": "c84ec2d1-74ca-492a-b8b1-6d62e7be9e68",
   "metadata": {},
   "outputs": [
    {
     "data": {
      "text/plain": [
       "0"
      ]
     },
     "execution_count": 57,
     "metadata": {},
     "output_type": "execute_result"
    }
   ],
   "source": [
    "list(ascii_lowercase).index(arr[pm[0], pm[1]].squeeze())"
   ]
  },
  {
   "cell_type": "code",
   "execution_count": 52,
   "id": "fc733545-c3a4-48e6-92d8-12018961e6de",
   "metadata": {},
   "outputs": [
    {
     "data": {
      "text/plain": [
       "array(['a'], dtype='<U1')"
      ]
     },
     "execution_count": 52,
     "metadata": {},
     "output_type": "execute_result"
    }
   ],
   "source": [
    "arr[pm[0], pm[1]]"
   ]
  },
  {
   "cell_type": "code",
   "execution_count": 37,
   "id": "9e3ac4f7-24c6-4785-8516-3b79f7fc55c2",
   "metadata": {},
   "outputs": [
    {
     "data": {
      "text/plain": [
       "array([1])"
      ]
     },
     "execution_count": 37,
     "metadata": {},
     "output_type": "execute_result"
    }
   ],
   "source": [
    "start[1] + m[1]"
   ]
  },
  {
   "cell_type": "markdown",
   "id": "b38c91a3-cdc9-457f-ac9d-cf87611314b6",
   "metadata": {},
   "source": [
    "# Breadth first algorithm\n"
   ]
  },
  {
   "cell_type": "code",
   "execution_count": 184,
   "id": "f04259de-ba49-453f-9116-c3efe0e08582",
   "metadata": {},
   "outputs": [],
   "source": [
    "def check_move(current_position: list, possible_position: list, arr: np.ndarray, maze: np.ndarray):\n",
    "    \"\"\"\n",
    "    \n",
    "    \"\"\"\n",
    "    p_i, p_j = possible_position\n",
    "    if p_i < 0 or p_j < 0 or p_i >= arr.shape[0] or p_j >= arr.shape[1]:\n",
    "        return False\n",
    "    if maze[p_i, p_j] != 0:\n",
    "        return False\n",
    "    c_i, c_j = current_position\n",
    "    current_height = arr[c_i, c_j]\n",
    "    current_height = \"a\" if current_height == \"S\" else current_height\n",
    "    possible_height = arr[p_i, p_j]\n",
    "    possible_height = \"a\" if possible_height == \"S\" else possible_height\n",
    "    possible_height = \"z\" if possible_height == \"E\" else possible_height\n",
    "    if letters.index(possible_height) - letters.index(current_height) < 2:\n",
    "        return True\n",
    "    else:\n",
    "        return False\n",
    "    "
   ]
  },
  {
   "cell_type": "code",
   "execution_count": 185,
   "id": "40fab8d8-ddaa-4850-98d5-1a66a4ee0d0b",
   "metadata": {},
   "outputs": [],
   "source": [
    "def make_step(k: int, arr: np.ndarray, maze: np.ndarray):\n",
    "    rows, cols = np.where(maze == k)\n",
    "    for cp_i, cp_j in zip(rows, cols):\n",
    "        moves = [(1, 0), (-1, 0), (0, -1), (0, 1)]\n",
    "        for move in moves:\n",
    "            pp_i = deepcopy(cp_i)\n",
    "            pp_i += move[0]\n",
    "            pp_j = deepcopy(cp_j)\n",
    "            pp_j += move[1]\n",
    "            if check_move([cp_i, cp_j], [pp_i, pp_j], arr, maze):\n",
    "                maze[pp_i, pp_j] = k + 1\n",
    "    return maze"
   ]
  },
  {
   "cell_type": "code",
   "execution_count": 193,
   "id": "b01ac0e1-ac5b-4973-a4fe-8eb469b75e16",
   "metadata": {},
   "outputs": [],
   "source": [
    "def extract_route(m: np.ndarray, end: list):\n",
    "    i, j = end\n",
    "    k = m[i][j]\n",
    "    the_path = [(i,j)]\n",
    "    while k > 1:\n",
    "      if i > 0 and m[i - 1][j] == k-1:\n",
    "        i, j = i-1, j\n",
    "        the_path.append((i, j))\n",
    "        k-=1\n",
    "      elif j > 0 and m[i][j - 1] == k-1:\n",
    "        i, j = i, j-1\n",
    "        the_path.append((i, j))\n",
    "        k-=1\n",
    "      elif i < len(m) - 1 and m[i + 1][j] == k-1:\n",
    "        i, j = i+1, j\n",
    "        the_path.append((i, j))\n",
    "        k-=1\n",
    "      elif j < len(m[i]) - 1 and m[i][j + 1] == k-1:\n",
    "        i, j = i, j+1\n",
    "        the_path.append((i, j))\n",
    "        k -= 1\n",
    "    return the_path"
   ]
  },
  {
   "cell_type": "code",
   "execution_count": 196,
   "id": "393ba0ff-4a89-4bd2-9e88-6c6130038769",
   "metadata": {},
   "outputs": [],
   "source": [
    "from solutions.day_12 import draw_route"
   ]
  },
  {
   "cell_type": "code",
   "execution_count": 221,
   "id": "c0ca8add-ca24-4a93-b2f7-14437125d92f",
   "metadata": {},
   "outputs": [],
   "source": [
    "import matplotlib.pyplot as plt"
   ]
  },
  {
   "cell_type": "code",
   "execution_count": 222,
   "id": "06182607-3ff9-4cb6-b3f4-31f501847f62",
   "metadata": {},
   "outputs": [
    {
     "data": {
      "text/plain": [
       "<matplotlib.image.AxesImage at 0x128635fc0>"
      ]
     },
     "execution_count": 222,
     "metadata": {},
     "output_type": "execute_result"
    },
    {
     "data": {
      "image/png": "[encoded data removed]",
      "text/plain": [
       "<Figure size 640x480 with 1 Axes>"
      ]
     },
     "metadata": {},
     "output_type": "display_data"
    }
   ],
   "source": [
    "plt.imshow(maze)"
   ]
  },
  {
   "cell_type": "code",
   "execution_count": 202,
   "id": "a974d6f6-929e-456c-b3d3-f3fbcd269e7a",
   "metadata": {},
   "outputs": [],
   "source": [
    "data = get_puzzle(year=2022, day=12)\n",
    "data = data.split(\"\\n\")\n",
    "arr = np.array([list(d) for d in data])"
   ]
  },
  {
   "cell_type": "code",
   "execution_count": 218,
   "id": "2f05c479-2b55-465a-958f-ccea7deb47d2",
   "metadata": {},
   "outputs": [],
   "source": [
    "def solve_maze(arr: np.ndarray):\n",
    "    maze = np.zeros(arr.shape)\n",
    "    start_i, start_j = np.where(arr==\"S\")\n",
    "    end_i, end_j = np.where(arr==\"E\")\n",
    "    maze[start_i, start_j] = 1\n",
    "    \n",
    "    # run the breadth firsth search algorithm (BFS)\n",
    "    k=0\n",
    "    while maze[end_i, end_j] == 0:\n",
    "        k+=1\n",
    "        maze = make_step(k, arr, maze)\n",
    "        \n",
    "    # extract the shortest route from the map\n",
    "    route = extract_route(maze, [int(end_i), int(end_j)])\n",
    "    print(f\"Shortest path is {len(route) - 1} steps!\")\n",
    "    return draw_route(route, arr.shape)"
   ]
  },
  {
   "cell_type": "code",
   "execution_count": 219,
   "id": "50fe879e-d808-47fa-b6d1-dab197940a08",
   "metadata": {},
   "outputs": [
    {
     "name": "stdout",
     "output_type": "stream",
     "text": [
      "Shortest path is 504 steps!\n"
     ]
    },
    {
     "data": {
      "image/png": "[encoded data removed]",
      "text/plain": [
       "<Figure size 640x480 with 1 Axes>"
      ]
     },
     "metadata": {},
     "output_type": "display_data"
    }
   ],
   "source": [
    "solve_maze(arr)"
   ]
  },
  {
   "cell_type": "markdown",
   "id": "634c25c7-f993-4290-b527-9ea22b614045",
   "metadata": {},
   "source": [
    "# Part Two"
   ]
  },
  {
   "cell_type": "markdown",
   "id": "ea8b4b35-ebcf-4ea5-b41a-86736f2461c6",
   "metadata": {},
   "source": [
    "As you walk up the hill, you suspect that the Elves will want to turn this into a hiking trail. <br>The beginning isn't very scenic, though; perhaps you can find a better starting point.\n",
    "\n",
    "To maximize exercise while hiking, the trail should start as low as possible: elevation a. <br>The goal is still the square marked E. However, the trail should still be direct, <br>taking the fewest steps to reach its goal. So, you'll need to find the shortest path from any square at elevation a to the square marked E.\n",
    "\n",
    "Again consider the example from above:<br>\n",
    "\n",
    "Sabqponm<br>\n",
    "abcryxxl<br>\n",
    "accszExk<br>\n",
    "acctuvwj<br>\n",
    "abdefghi<br>\n",
    "Now, there are six choices for starting position (five marked a, plus the square marked S that counts as being at elevation a). <br>If you start at the bottom-left square, you can reach the goal most quickly:\n",
    "\n",
    "...v<<<<<br>\n",
    "...vv<<^<br>\n",
    "...v>E^^<br>\n",
    ".>v>>>^^<br>\n",
    "\">^>>>>>^<br>\n",
    "This path reaches the goal in only 29 steps, the fewest possible.\n",
    "\n",
    "What is the fewest steps required to move starting from any square with elevation a to the <br>location that should get the best signal?"
   ]
  },
  {
   "cell_type": "markdown",
   "id": "399329b5-4788-4840-be6d-2355f8f43839",
   "metadata": {},
   "source": [
    "## Test data"
   ]
  },
  {
   "cell_type": "code",
   "execution_count": 223,
   "id": "186d3530-dfab-4df9-9ea0-2fc301088b7b",
   "metadata": {},
   "outputs": [],
   "source": [
    "path = \"../data/sample_12.txt\""
   ]
  },
  {
   "cell_type": "code",
   "execution_count": 224,
   "id": "6ae49ca8-07e6-4da5-aa8e-a8f1a0c0306d",
   "metadata": {},
   "outputs": [],
   "source": [
    "with open(path, 'r') as file:\n",
    "  # Read the contents of the file into a list\n",
    "  data = file.readlines()"
   ]
  },
  {
   "cell_type": "code",
   "execution_count": 225,
   "id": "49540ded-0832-4a12-a9f8-25ae12f80803",
   "metadata": {},
   "outputs": [],
   "source": [
    "data = [x.replace(\"\\n\", \"\") for x in data]"
   ]
  },
  {
   "cell_type": "code",
   "execution_count": 239,
   "id": "4309528e-c38b-44c9-9dda-db5928f63af3",
   "metadata": {},
   "outputs": [],
   "source": [
    "arr = np.array([list(d) for d in data])"
   ]
  },
  {
   "cell_type": "code",
   "execution_count": 232,
   "id": "8c8b0e0a-5e9e-40fc-8a8a-db8383e9183f",
   "metadata": {},
   "outputs": [
    {
     "data": {
      "text/plain": [
       "array([['S', 'a', 'b', 'q', 'p', 'o', 'n', 'm'],\n",
       "       ['a', 'b', 'c', 'r', 'y', 'x', 'x', 'l'],\n",
       "       ['a', 'c', 'c', 's', 'z', 'E', 'x', 'k'],\n",
       "       ['a', 'c', 'c', 't', 'u', 'v', 'w', 'j'],\n",
       "       ['a', 'b', 'd', 'e', 'f', 'g', 'h', 'i']], dtype='<U1')"
      ]
     },
     "execution_count": 232,
     "metadata": {},
     "output_type": "execute_result"
    }
   ],
   "source": [
    "arr"
   ]
  },
  {
   "cell_type": "code",
   "execution_count": 228,
   "id": "c9aa0ea2-ff3f-4e71-8a71-cedfa9ac7cde",
   "metadata": {},
   "outputs": [],
   "source": [
    "arr[np.where(arr==\"S\")] = \"a\""
   ]
  },
  {
   "cell_type": "code",
   "execution_count": 238,
   "id": "a89ca80b-f88e-4af5-941b-d9b380803568",
   "metadata": {},
   "outputs": [
    {
     "data": {
      "text/plain": [
       "array([['a', 'a', 'b', 'q', 'p', 'o', 'n', 'm'],\n",
       "       ['a', 'b', 'c', 'r', 'y', 'x', 'x', 'l'],\n",
       "       ['a', 'c', 'c', 's', 'z', 'E', 'x', 'k'],\n",
       "       ['a', 'c', 'c', 't', 'u', 'v', 'w', 'j'],\n",
       "       ['a', 'b', 'd', 'e', 'f', 'g', 'h', 'i']], dtype='<U1')"
      ]
     },
     "execution_count": 238,
     "metadata": {},
     "output_type": "execute_result"
    }
   ],
   "source": [
    "arr"
   ]
  },
  {
   "cell_type": "code",
   "execution_count": 263,
   "id": "bf7b557e-a6e9-4274-b149-214b2ba6b056",
   "metadata": {},
   "outputs": [],
   "source": [
    "def solve_maze_partb(arr: np.ndarray):\n",
    "    arr[np.where(arr==\"S\")] = \"a\"\n",
    "    rows, cols = np.where(arr==\"a\")\n",
    "    print(f\"{len(rows)} starting points to be tested!\")\n",
    "    route_store = {}\n",
    "    k_max = 1000000\n",
    "    for start_i, start_j in tqdm.tqdm(zip(rows, cols)):\n",
    "        maze = np.zeros(arr.shape)\n",
    "        end_i, end_j = np.where(arr==\"E\")\n",
    "        maze[start_i, start_j] = 1\n",
    "\n",
    "        # run the breadth firsth search algorithm (BFS)\n",
    "        k=0\n",
    "        finished = True\n",
    "        while maze[end_i, end_j] == 0:\n",
    "            if k > k_max:\n",
    "                finished = False\n",
    "                break\n",
    "            k+=1\n",
    "            maze = make_step(k, arr, maze)\n",
    "            \n",
    "        if finished:\n",
    "            # extract the shortest route from the map\n",
    "            route = extract_route(maze, [int(end_i), int(end_j)])\n",
    "            # print(f\"Shortest path is {len(route) - 1} steps!\")\n",
    "            route_store[(int(start_i), int(start_j))] = dict(length=len(route) - 1, \n",
    "                                                  route=route)\n",
    "            k_max = k\n",
    "    lengths = [v[\"length\"] for k,v in route_store.items()]\n",
    "    shortest_route = [k for k,v in route_store.items() if v[\"length\"] == min(lengths)][0]\n",
    "    return route_store, shortest_route"
   ]
  },
  {
   "cell_type": "code",
   "execution_count": 264,
   "id": "f82968a2-1878-4a09-b338-e3651bde9059",
   "metadata": {},
   "outputs": [
    {
     "name": "stdout",
     "output_type": "stream",
     "text": [
      "1863 starting points to be tested!\n"
     ]
    },
    {
     "name": "stderr",
     "output_type": "stream",
     "text": [
      "1863it [00:37, 49.36it/s]\n"
     ]
    }
   ],
   "source": [
    "paths, route_key = solve_maze_partb(arr)"
   ]
  },
  {
   "cell_type": "code",
   "execution_count": 265,
   "id": "b0664b46-168b-4182-aa7a-610fe2d294b3",
   "metadata": {},
   "outputs": [
    {
     "data": {
      "text/plain": [
       "(14, 0)"
      ]
     },
     "execution_count": 265,
     "metadata": {},
     "output_type": "execute_result"
    }
   ],
   "source": [
    "route_key"
   ]
  },
  {
   "cell_type": "code",
   "execution_count": 266,
   "id": "c763d939-c4ef-4287-a0d6-60e9af8459cf",
   "metadata": {},
   "outputs": [
    {
     "data": {
      "text/plain": [
       "dict_keys([(0, 0), (0, 2), (0, 3), (0, 4), (0, 5), (0, 6), (0, 7), (0, 8), (0, 9), (1, 0), (1, 2), (1, 3), (1, 4), (1, 5), (1, 6), (1, 7), (1, 8), (1, 9), (2, 0), (3, 0), (4, 0), (5, 0), (6, 0), (7, 0), (8, 0), (9, 0), (10, 0), (11, 0), (12, 0), (13, 0), (14, 0), (15, 0), (16, 0), (17, 0), (18, 0), (19, 0), (20, 0), (21, 0), (22, 0), (23, 0), (24, 0), (25, 0), (26, 0), (27, 0), (28, 0), (29, 0), (30, 0), (31, 0), (32, 0), (33, 0), (34, 0), (34, 2), (35, 0), (35, 2), (36, 0), (36, 2), (37, 0), (38, 0), (39, 0), (40, 0)])"
      ]
     },
     "execution_count": 266,
     "metadata": {},
     "output_type": "execute_result"
    }
   ],
   "source": [
    "paths.keys()"
   ]
  },
  {
   "cell_type": "code",
   "execution_count": 267,
   "id": "338bb240-0d17-46a8-9fd9-3cd69b18a87a",
   "metadata": {},
   "outputs": [
    {
     "data": {
      "image/png": "[encoded data removed]",
      "text/plain": [
       "<Figure size 640x480 with 1 Axes>"
      ]
     },
     "metadata": {},
     "output_type": "display_data"
    }
   ],
   "source": [
    "draw_route(paths[route_key][\"route\"], arr.shape)"
   ]
  },
  {
   "cell_type": "markdown",
   "id": "ad35de39-987f-4fc5-bce0-e08f783c46b8",
   "metadata": {},
   "source": [
    "## full puzzle"
   ]
  },
  {
   "cell_type": "code",
   "execution_count": 268,
   "id": "967adf13-4539-47a0-843b-a3a72951a10b",
   "metadata": {},
   "outputs": [],
   "source": [
    "data = get_puzzle(year=2022, day=12)\n",
    "data = data.split(\"\\n\")\n",
    "arr = np.array([list(d) for d in data])"
   ]
  },
  {
   "cell_type": "code",
   "execution_count": 269,
   "id": "4b99d185-11dc-4217-9e41-5be6eec1e399",
   "metadata": {},
   "outputs": [
    {
     "name": "stdout",
     "output_type": "stream",
     "text": [
      "1863 starting points to be tested!\n"
     ]
    },
    {
     "name": "stderr",
     "output_type": "stream",
     "text": [
      "1863it [00:39, 47.46it/s]\n"
     ]
    }
   ],
   "source": [
    "paths, route_key = solve_maze_partb(arr)"
   ]
  },
  {
   "cell_type": "code",
   "execution_count": 270,
   "id": "be8da4c6-d2f5-4048-8cc4-96fe3fcb749e",
   "metadata": {},
   "outputs": [
    {
     "data": {
      "text/plain": [
       "500"
      ]
     },
     "execution_count": 270,
     "metadata": {},
     "output_type": "execute_result"
    }
   ],
   "source": [
    "paths[route_key][\"length\"]"
   ]
  },
  {
   "cell_type": "code",
   "execution_count": 271,
   "id": "ff7fbdfe-0045-4169-9d40-fcdc43153e13",
   "metadata": {},
   "outputs": [
    {
     "data": {
      "image/png": "[encoded data removed]",
      "text/plain": [
       "<Figure size 640x480 with 1 Axes>"
      ]
     },
     "metadata": {},
     "output_type": "display_data"
    }
   ],
   "source": [
    "draw_route(paths[route_key][\"route\"], arr.shape)"
   ]
  },
  {
   "cell_type": "code",
   "execution_count": 272,
   "id": "9fab6857-0c8a-474c-a645-1dd54a00acc6",
   "metadata": {},
   "outputs": [
    {
     "data": {
      "text/plain": [
       "\u001b[0;31mSignature:\u001b[0m \u001b[0msubmit_answer\u001b[0m\u001b[0;34m(\u001b[0m\u001b[0manswer\u001b[0m\u001b[0;34m,\u001b[0m \u001b[0mpart\u001b[0m\u001b[0;34m:\u001b[0m \u001b[0mstr\u001b[0m\u001b[0;34m,\u001b[0m \u001b[0mday\u001b[0m\u001b[0;34m:\u001b[0m \u001b[0mint\u001b[0m\u001b[0;34m,\u001b[0m \u001b[0myear\u001b[0m\u001b[0;34m:\u001b[0m \u001b[0mint\u001b[0m\u001b[0;34m)\u001b[0m\u001b[0;34m\u001b[0m\u001b[0;34m\u001b[0m\u001b[0m\n",
       "\u001b[0;31mDocstring:\u001b[0m <no docstring>\n",
       "\u001b[0;31mFile:\u001b[0m      ~/PycharmProjects/AdventOfCode/utilities/utils.py\n",
       "\u001b[0;31mType:\u001b[0m      function\n"
      ]
     },
     "metadata": {},
     "output_type": "display_data"
    }
   ],
   "source": [
    "submit_answer?"
   ]
  },
  {
   "cell_type": "code",
   "execution_count": 273,
   "id": "97562156-3162-4128-b5a3-470bca2fdb73",
   "metadata": {},
   "outputs": [
    {
     "name": "stdout",
     "output_type": "stream",
     "text": [
      "\u001b[32mThat's the right answer!  You are one gold star closer to collecting enough star fruit.You have completed Day 12! You can [Shareon\n",
      "  Twitter\n",
      "Mastodon] this victory or [Return to Your Advent Calendar].\u001b[0m\n"
     ]
    }
   ],
   "source": [
    "submit_answer(500, 'b', 12, 2022)"
   ]
  },
  {
   "cell_type": "code",
   "execution_count": null,
   "id": "754c1bc6-0b48-48fd-b8fe-f744ab944498",
   "metadata": {},
   "outputs": [],
   "source": []
  }
 ],
 "metadata": {
  "kernelspec": {
   "display_name": "Python 3 (ipykernel)",
   "language": "python",
   "name": "python3"
  },
  "language_info": {
   "codemirror_mode": {
    "name": "ipython",
    "version": 3
   },
   "file_extension": ".py",
   "mimetype": "text/x-python",
   "name": "python",
   "nbconvert_exporter": "python",
   "pygments_lexer": "ipython3",
   "version": "3.10.8"
  }
 },
 "nbformat": 4,
 "nbformat_minor": 5
}
