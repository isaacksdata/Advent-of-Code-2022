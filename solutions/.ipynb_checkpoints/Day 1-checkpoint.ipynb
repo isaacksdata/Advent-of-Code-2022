{
 "cells": [
  {
   "cell_type": "code",
   "execution_count": 3,
   "id": "a0681f12-322b-43c8-89e1-a9d421a4e924",
   "metadata": {},
   "outputs": [],
   "source": [
    "import sys\n",
    "sys.path.append(\"..\")\n",
    "from utilities.utils import get_puzzle, submit_answer"
   ]
  },
  {
   "cell_type": "code",
   "execution_count": 4,
   "id": "ce91114b-c215-4448-a861-7ab48d4e4afa",
   "metadata": {},
   "outputs": [],
   "source": [
    "day = 1\n",
    "year = 2022"
   ]
  },
  {
   "cell_type": "markdown",
   "id": "b5c8a9c2-bb9d-436d-8d47-a90513b2b540",
   "metadata": {},
   "source": [
    "# Part One"
   ]
  },
  {
   "cell_type": "markdown",
   "id": "c587a620-c0a0-49d7-bc89-60fde2eeabe0",
   "metadata": {},
   "source": [
    "## The puzzle contains values representing calories of food items carried by elves. Each elf is separated by a blank. \n",
    "\n",
    "## Find elf carrying the most calories and how many calories that elf is carrying"
   ]
  },
  {
   "cell_type": "code",
   "execution_count": 57,
   "id": "84790a32-23a5-45cc-8875-b51fe55f6bff",
   "metadata": {},
   "outputs": [],
   "source": [
    "part = 'a'"
   ]
  },
  {
   "cell_type": "code",
   "execution_count": 58,
   "id": "3233e426-cab7-4de6-89bf-cc58a243c042",
   "metadata": {},
   "outputs": [],
   "source": [
    "data = get_puzzle(day=day, year=year)"
   ]
  },
  {
   "cell_type": "code",
   "execution_count": 59,
   "id": "376da873-a4e1-47ef-a2a9-e73d000116a4",
   "metadata": {},
   "outputs": [],
   "source": [
    "data = data.split(\"\\n\")"
   ]
  },
  {
   "cell_type": "code",
   "execution_count": 60,
   "id": "27e9340b-f3fd-49ba-9f66-d1aae2267fbf",
   "metadata": {},
   "outputs": [],
   "source": [
    "d = {}\n",
    "count = 1\n",
    "total = 0"
   ]
  },
  {
   "cell_type": "code",
   "execution_count": 61,
   "id": "22f1f1dd-8ec1-4958-b50d-c9435899d4aa",
   "metadata": {},
   "outputs": [],
   "source": [
    "for val in data:\n",
    "    if val == \"\":\n",
    "        d[count] = total\n",
    "        count += 1\n",
    "        total = 0\n",
    "    else:\n",
    "        total += int(val)"
   ]
  },
  {
   "cell_type": "code",
   "execution_count": 62,
   "id": "0ef751a7-00a9-43b3-90f4-1c9fdcc8592a",
   "metadata": {},
   "outputs": [],
   "source": [
    "answer = max(d.values())"
   ]
  },
  {
   "cell_type": "code",
   "execution_count": 63,
   "id": "ee3705a5-0eb9-42bd-86f6-b81ee0d72b11",
   "metadata": {},
   "outputs": [
    {
     "name": "stdout",
     "output_type": "stream",
     "text": [
      "The answer is 70374 calories \n"
     ]
    }
   ],
   "source": [
    "print(f\"The answer is {answer} calories \")"
   ]
  },
  {
   "cell_type": "code",
   "execution_count": 65,
   "id": "7e7f602c-a44d-4bed-b6ba-dbfba08fa602",
   "metadata": {},
   "outputs": [
    {
     "name": "stdout",
     "output_type": "stream",
     "text": [
      "Part a already solved with same answer: 70374\n"
     ]
    }
   ],
   "source": [
    "submit_answer(answer=answer, part=part, day=day, year=year)"
   ]
  },
  {
   "cell_type": "markdown",
   "id": "36b4baeb-9e0d-4a07-9bd3-9eb5dd340598",
   "metadata": {},
   "source": [
    "## How many calories are carried in total by the top three elves "
   ]
  },
  {
   "cell_type": "code",
   "execution_count": 66,
   "id": "db6fd5b9-95d1-4f1d-96fa-3f5cc25575bc",
   "metadata": {},
   "outputs": [],
   "source": [
    "part = 'b'"
   ]
  },
  {
   "cell_type": "code",
   "execution_count": 67,
   "id": "f9943620-45ee-4e9d-a726-eeb12e7bc30f",
   "metadata": {},
   "outputs": [],
   "source": [
    "values = list(d.values())\n",
    "values.sort(reverse=True)"
   ]
  },
  {
   "cell_type": "code",
   "execution_count": 68,
   "id": "b8230573-9c6a-4f96-934f-d7d72ff1e2f3",
   "metadata": {},
   "outputs": [],
   "source": [
    "answer = sum(values[:3])"
   ]
  },
  {
   "cell_type": "code",
   "execution_count": 69,
   "id": "1dccf632-4e53-42e8-9d85-2b340c61bd2b",
   "metadata": {},
   "outputs": [
    {
     "data": {
      "text/plain": [
       "'The number calores carried by the top three eleves is 204610'"
      ]
     },
     "execution_count": 69,
     "metadata": {},
     "output_type": "execute_result"
    }
   ],
   "source": [
    "f\"The number calores carried by the top three eleves is {answer}\""
   ]
  },
  {
   "cell_type": "code",
   "execution_count": 70,
   "id": "dfd82237-a510-40f1-b94d-4819a127bafd",
   "metadata": {},
   "outputs": [
    {
     "name": "stdout",
     "output_type": "stream",
     "text": [
      "Part b already solved with same answer: 204610\n"
     ]
    }
   ],
   "source": [
    "submit_answer(answer=answer, part=part, day=day, year=year)"
   ]
  }
 ],
 "metadata": {
  "kernelspec": {
   "display_name": "Python 3 (ipykernel)",
   "language": "python",
   "name": "python3"
  },
  "language_info": {
   "codemirror_mode": {
    "name": "ipython",
    "version": 3
   },
   "file_extension": ".py",
   "mimetype": "text/x-python",
   "name": "python",
   "nbconvert_exporter": "python",
   "pygments_lexer": "ipython3",
   "version": "3.10.8"
  }
 },
 "nbformat": 4,
 "nbformat_minor": 5
}
