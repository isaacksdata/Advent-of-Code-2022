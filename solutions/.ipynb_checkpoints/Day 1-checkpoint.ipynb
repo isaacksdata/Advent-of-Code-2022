{
 "cells": [
  {
   "cell_type": "markdown",
   "id": "b5c8a9c2-bb9d-436d-8d47-a90513b2b540",
   "metadata": {},
   "source": [
    "# Part One"
   ]
  },
  {
   "cell_type": "markdown",
   "id": "c587a620-c0a0-49d7-bc89-60fde2eeabe0",
   "metadata": {},
   "source": [
    "## The file puzzle_1.txt contains values representing calories of food items carried by elves. Each elf is separated by a blank. \n",
    "\n",
    "## Find elf carrying the most calories and how many calories that elf is carrying"
   ]
  },
  {
   "cell_type": "code",
   "execution_count": 8,
   "id": "04dda629-0fec-4f2e-b9c9-91dd387c7b80",
   "metadata": {},
   "outputs": [],
   "source": [
    "path = \"../data/puzzle_1.txt\""
   ]
  },
  {
   "cell_type": "code",
   "execution_count": 9,
   "id": "1f7b1d33-8b65-45e2-bd21-4baa93cba87c",
   "metadata": {},
   "outputs": [],
   "source": [
    "with open(path, 'r') as file:\n",
    "  # Read the contents of the file into a list\n",
    "  data = file.readlines()"
   ]
  },
  {
   "cell_type": "code",
   "execution_count": 11,
   "id": "635ef207-d4d1-4e61-b5c9-9216ed6e1d71",
   "metadata": {},
   "outputs": [],
   "source": [
    "data = [x.replace(\"\\n\", \"\") for x in data]"
   ]
  },
  {
   "cell_type": "code",
   "execution_count": 13,
   "id": "27e9340b-f3fd-49ba-9f66-d1aae2267fbf",
   "metadata": {},
   "outputs": [],
   "source": [
    "d = {}\n",
    "count = 1\n",
    "total = 0"
   ]
  },
  {
   "cell_type": "code",
   "execution_count": 14,
   "id": "22f1f1dd-8ec1-4958-b50d-c9435899d4aa",
   "metadata": {},
   "outputs": [],
   "source": [
    "for val in data:\n",
    "    if val == \"\":\n",
    "        d[count] = total\n",
    "        count += 1\n",
    "        total = 0\n",
    "    else:\n",
    "        total += int(val)"
   ]
  },
  {
   "cell_type": "code",
   "execution_count": 19,
   "id": "ee3705a5-0eb9-42bd-86f6-b81ee0d72b11",
   "metadata": {},
   "outputs": [
    {
     "name": "stdout",
     "output_type": "stream",
     "text": [
      "The answer is 70374 calories \n"
     ]
    }
   ],
   "source": [
    "print(f\"The answer is {max(d.values())} calories \")"
   ]
  },
  {
   "cell_type": "markdown",
   "id": "36b4baeb-9e0d-4a07-9bd3-9eb5dd340598",
   "metadata": {},
   "source": [
    "## How many calories are carried in total by the top three elves "
   ]
  },
  {
   "cell_type": "code",
   "execution_count": 27,
   "id": "f9943620-45ee-4e9d-a726-eeb12e7bc30f",
   "metadata": {},
   "outputs": [],
   "source": [
    "values = list(d.values())\n",
    "values.sort(reverse=True)"
   ]
  },
  {
   "cell_type": "code",
   "execution_count": 29,
   "id": "1dccf632-4e53-42e8-9d85-2b340c61bd2b",
   "metadata": {},
   "outputs": [
    {
     "data": {
      "text/plain": [
       "'The number calores carried by the top three eleves is 204610'"
      ]
     },
     "execution_count": 29,
     "metadata": {},
     "output_type": "execute_result"
    }
   ],
   "source": [
    "f\"The number calores carried by the top three eleves is {sum(values[:3])}\""
   ]
  },
  {
   "cell_type": "code",
   "execution_count": null,
   "id": "dfd82237-a510-40f1-b94d-4819a127bafd",
   "metadata": {},
   "outputs": [],
   "source": []
  }
 ],
 "metadata": {
  "kernelspec": {
   "display_name": "Python 3 (ipykernel)",
   "language": "python",
   "name": "python3"
  },
  "language_info": {
   "codemirror_mode": {
    "name": "ipython",
    "version": 3
   },
   "file_extension": ".py",
   "mimetype": "text/x-python",
   "name": "python",
   "nbconvert_exporter": "python",
   "pygments_lexer": "ipython3",
   "version": "3.10.8"
  }
 },
 "nbformat": 4,
 "nbformat_minor": 5
}
