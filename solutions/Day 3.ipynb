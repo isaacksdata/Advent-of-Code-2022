{
 "cells": [
  {
   "cell_type": "markdown",
   "id": "c7cffc63-cd8b-4b43-a73a-c04b1390a2e2",
   "metadata": {},
   "source": [
    "# Part One"
   ]
  },
  {
   "cell_type": "markdown",
   "id": "317ea46f-0382-4320-9d62-9fa0ecd3fe06",
   "metadata": {},
   "source": [
    "One Elf has the important job of loading all of the rucksacks with supplies for the jungle journey.    \n",
    "Unfortunately, that Elf didn't quite follow the packing instructions, and so a few items now need to be rearranged.    \n",
    "\n",
    "Each rucksack has two large compartments. All items of a given type are meant to go into exactly one of the two compartments.    \n",
    "The Elf that did the packing failed to follow this rule for exactly one item type per rucksack.\n",
    "\n",
    "The Elves have made a list of all of the items currently in each rucksack (your puzzle input),    \n",
    "but they need your help finding the errors. \n",
    "Every item type is identified by a single lowercase or uppercase letter (that is, a and A refer to different types of items).    \n",
    "\n",
    "The list of items for each rucksack is given as characters all on a single line. A given rucksack    \n",
    "always has the same number of items in each of its two compartments, so the first half    \n",
    "of the characters represent items in the first compartment, while the second half of the characters represent    \n",
    "items in the second compartment.\n",
    "\n",
    "For example, suppose you have the following list of contents from six rucksacks:\n",
    "\n",
    "vJrwpWtwJgWrhcsFMMfFFhFp     \n",
    "jqHRNqRjqzjGDLGLrsFMfFZSrLrFZsSL     \n",
    "PmmdzqPrVvPwwTWBwg      \n",
    "wMqvLMZHhHMvwLHjbvcjnnSBnvTQFn      \n",
    "ttgJtRGJQctTZtZT      \n",
    "CrZsJsPPZsGzwwsLwLmpwMDw       \n",
    "\n",
    "\n",
    "The first rucksack contains the items vJrwpWtwJgWrhcsFMMfFFhFp, which means its first compartment    \n",
    "contains the items vJrwpWtwJgWr, while the second compartment contains the items hcsFMMfFFhFp.       \n",
    "The only item type that appears in both compartments is lowercase p.\n",
    "The second rucksack's compartments contain jqHRNqRjqzjGDLGL and rsFMfFZSrLrFZsSL.       \n",
    "\\The only item type that appears in both compartments is uppercase L.         \n",
    "The third rucksack's compartments contain PmmdzqPrV and vPwwTWBwg; the only common item type is uppercase P.       \n",
    "The fourth rucksack's compartments only share item type v.       \n",
    "The fifth rucksack's compartments only share item type t.        \n",
    "The sixth rucksack's compartments only share item type s.        \n",
    "To help prioritize item rearrangement, every item type can be converted to a priority:         \n",
    "\n",
    "Lowercase item types a through z have priorities 1 through 26.\n",
    "Uppercase item types A through Z have priorities 27 through 52.          \n",
    "In the above example, the priority of the item type that appears in both compartments of each       \n",
    "rucksack is 16 (p), 38 (L), 42 (P), 22 (v), 20 (t), and 19 (s); the sum of these is 157.\n",
    "\n",
    "Find the item type that appears in both compartments of each rucksack. What is the sum of the priorities of those item types?"
   ]
  },
  {
   "cell_type": "code",
   "execution_count": 8,
   "id": "fb4e423f-315d-4ccc-aa95-0c46a3b5131e",
   "metadata": {},
   "outputs": [],
   "source": [
    "from string import ascii_letters"
   ]
  },
  {
   "cell_type": "code",
   "execution_count": 10,
   "id": "a1247019-ed5c-49e0-82f3-62fbb97d3712",
   "metadata": {},
   "outputs": [],
   "source": [
    "letters = list(ascii_letters)"
   ]
  },
  {
   "cell_type": "code",
   "execution_count": 3,
   "id": "1066183f-cca3-4b63-8dcc-e0759afeb606",
   "metadata": {},
   "outputs": [],
   "source": [
    "path = \"../data/puzzle_3.txt\""
   ]
  },
  {
   "cell_type": "code",
   "execution_count": 4,
   "id": "f982d251-2b2d-473f-acd5-825053aaa496",
   "metadata": {},
   "outputs": [],
   "source": [
    "with open(path, 'r') as file:\n",
    "  # Read the contents of the file into a list\n",
    "  data = file.readlines()"
   ]
  },
  {
   "cell_type": "code",
   "execution_count": 6,
   "id": "dd28f8d8-a2be-4d00-9a12-e5d8787e8e46",
   "metadata": {},
   "outputs": [],
   "source": [
    "data = [x.replace(\"\\n\", \"\") for x in data]"
   ]
  },
  {
   "cell_type": "code",
   "execution_count": 27,
   "id": "ca40bb5e-036d-491b-877e-a0afc2900a1f",
   "metadata": {},
   "outputs": [],
   "source": [
    "total = 0"
   ]
  },
  {
   "cell_type": "code",
   "execution_count": 28,
   "id": "cf0b329a-33a5-4ead-8d50-562b25b69787",
   "metadata": {},
   "outputs": [],
   "source": [
    "for i in data:\n",
    "    total += letters.index(list(set(i[:int(len(i)/2)]).intersection(set(i[int(len(i)/2):])))[0]) + 1"
   ]
  },
  {
   "cell_type": "code",
   "execution_count": 30,
   "id": "af188975-5ed3-4e19-91a4-8d2943125290",
   "metadata": {},
   "outputs": [
    {
     "data": {
      "text/plain": [
       "'The annswer is 7716'"
      ]
     },
     "execution_count": 30,
     "metadata": {},
     "output_type": "execute_result"
    }
   ],
   "source": [
    "f\"The annswer is {total}\""
   ]
  },
  {
   "cell_type": "markdown",
   "id": "1a3850ae-a749-47f7-8267-506004bdb789",
   "metadata": {},
   "source": [
    "# Part Two"
   ]
  },
  {
   "cell_type": "markdown",
   "id": "ffdc12bd-8efd-4cdd-8c12-6813b4720830",
   "metadata": {},
   "source": [
    "As you finish identifying the misplaced items, the Elves come to you with another issue.       \n",
    "\n",
    "For safety, the Elves are divided into groups of three.         \n",
    "Every Elf carries a badge that identifies their group.             \n",
    "For efficiency, within each group of three Elves, the badge is the only item type carried by all three Elves.           \n",
    "That is, if a group's badge is item type B, then all three Elves will have item type B somewhere in their rucksack,             \n",
    "and at most two of the Elves will be carrying any other item type.\n",
    "\n",
    "The problem is that someone forgot to put this year's updated authenticity sticker on the badges.             \n",
    "All of the badges need to be pulled out of the rucksacks so the new authenticity stickers can be attached.\n",
    "\n",
    "Additionally, nobody wrote down which item type corresponds to each group's badges.                \n",
    "The only way to tell which item type is the right one is by finding the one item type that             \n",
    "is common between all three Elves in each group.\n",
    "\n",
    "Every set of three lines in your list corresponds to a single group,              \n",
    "but each group can have a different badge item type. So, in the above example, the first group's rucksacks are the first three lines:\n",
    "\n",
    "vJrwpWtwJgWrhcsFMMfFFhFp       \n",
    "jqHRNqRjqzjGDLGLrsFMfFZSrLrFZsSL       \n",
    "PmmdzqPrVvPwwTWBwg           \n",
    "\n",
    "And the second group's rucksacks are the next three lines:        \n",
    "\n",
    "wMqvLMZHhHMvwLHjbvcjnnSBnvTQFn         \n",
    "ttgJtRGJQctTZtZT       \n",
    "CrZsJsPPZsGzwwsLwLmpwMDw          \n",
    "In the first group, the only item type that appears in all three rucksacks is lowercase r;          \n",
    "this must be their badges. In the second group, their badge item type must be Z.\n",
    "\n",
    "Priorities for these items must still be found to organize the sticker attachment efforts:             \n",
    "    here, they are 18 (r) for the first group and 52 (Z) for the second group. The sum of these is 70.\n",
    "\n",
    "Find the item type that corresponds to the badges of each three-Elf group. What is the sum of the priorities of those item types?"
   ]
  },
  {
   "cell_type": "code",
   "execution_count": 33,
   "id": "f81773d5-8114-4a76-aa5e-0db68931ae37",
   "metadata": {},
   "outputs": [],
   "source": [
    "chunks = [data[x:x+3] for x in range(0, len(data), 3)]"
   ]
  },
  {
   "cell_type": "code",
   "execution_count": 40,
   "id": "2587d6bb-d933-429c-a8f9-a25dc7d19792",
   "metadata": {},
   "outputs": [],
   "source": [
    "total = 0"
   ]
  },
  {
   "cell_type": "code",
   "execution_count": 41,
   "id": "00d9ed55-69d4-4a9f-a935-8eff430a055f",
   "metadata": {},
   "outputs": [],
   "source": [
    "for group in chunks:\n",
    "    total += letters.index(list(set(group[0]).intersection(set(group[1])).intersection(set(group[2])))[0]) + 1"
   ]
  },
  {
   "cell_type": "code",
   "execution_count": 42,
   "id": "e07e4791-b47d-4e81-a781-45a89e85d3a0",
   "metadata": {},
   "outputs": [
    {
     "data": {
      "text/plain": [
       "'The annswer is 2973'"
      ]
     },
     "execution_count": 42,
     "metadata": {},
     "output_type": "execute_result"
    }
   ],
   "source": [
    "f\"The annswer is {total}\""
   ]
  },
  {
   "cell_type": "code",
   "execution_count": null,
   "id": "e11353eb-be0c-4624-a60e-20eab28b9d56",
   "metadata": {},
   "outputs": [],
   "source": []
  }
 ],
 "metadata": {
  "kernelspec": {
   "display_name": "Python 3 (ipykernel)",
   "language": "python",
   "name": "python3"
  },
  "language_info": {
   "codemirror_mode": {
    "name": "ipython",
    "version": 3
   },
   "file_extension": ".py",
   "mimetype": "text/x-python",
   "name": "python",
   "nbconvert_exporter": "python",
   "pygments_lexer": "ipython3",
   "version": "3.10.8"
  }
 },
 "nbformat": 4,
 "nbformat_minor": 5
}
