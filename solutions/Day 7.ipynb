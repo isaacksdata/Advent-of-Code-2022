{
 "cells": [
  {
   "cell_type": "markdown",
   "id": "406a39c5-f090-412b-b8da-35d7b5d0208e",
   "metadata": {},
   "source": [
    "# Part One"
   ]
  },
  {
   "cell_type": "markdown",
   "id": "b78fd16b-707c-43eb-acc4-6e51b0217b91",
   "metadata": {},
   "source": [
    "You can hear birds chirping and raindrops hitting leaves as the expedition proceeds. <br>Occasionally, you can even hear much louder sounds in the distance; how big do the animals get out here, anyway?\n",
    "\n",
    "The device the Elves gave you has problems with more than just its communication system. You try to run a system update:\n",
    "\n",
    "$ system-update --please --pretty-please-with-sugar-on-top\n",
    "Error: No space left on device\n",
    "Perhaps you can delete some files to make space for the update?\n",
    "\n",
    "You browse around the filesystem to assess the situation and save the resulting terminal output (your puzzle input). For example:\n",
    "\n",
    "$ cd / <br>\n",
    "$ ls <br>\n",
    "dir a <br>\n",
    "14848514 b.txt <br>\n",
    "8504156 c.dat <br>\n",
    "dir d  <br>\n",
    "$ cd a  <br>\n",
    "$ ls  <br>\n",
    "dir e<br>\n",
    "29116 f<br>\n",
    "2557 g<br>\n",
    "62596 h.lst<br>\n",
    "$ cd e<br>\n",
    "$ ls<br>\n",
    "584 i<br>\n",
    "$ cd ..<br>\n",
    "$ cd ..<br>\n",
    "$ cd d<br>\n",
    "$ ls<br>\n",
    "4060174 j<br>\n",
    "8033020 d.log<br>\n",
    "5626152 d.ext<br>\n",
    "7214296 k<br>\n",
    "The filesystem consists of a tree of files (plain data) and directories (which can contain other directories or files). <br>The outermost directory is called /. You can navigate around the filesystem, moving into or out of directories and listing the contents of the directory you're currently in.\n",
    "\n",
    "Within the terminal output, lines that begin with $ are commands you executed, very much like some modern computers:\n",
    "\n",
    "cd means change directory. This changes which directory is the current directory, but the specific result depends on the argument:<br>\n",
    "cd x moves in one level: it looks in the current directory for the directory named x and makes it the current directory.<br>\n",
    "cd .. moves out one level: it finds the directory that contains the current directory, then makes that directory the current directory.<br>\n",
    "cd / switches the current directory to the outermost directory, /.<br>\n",
    "ls means list. It prints out all of the files and directories immediately contained by the current directory:<br>\n",
    "123 abc means that the current directory contains a file named abc with size 123.<br>\n",
    "dir xyz means that the current directory contains a directory named xyz.<br>\n",
    "Given the commands and output in the example above, you can determine that the filesystem looks visually like this:<br>\n",
    "\n",
    "- / (dir)\n",
    "  - a (dir)\n",
    "    - e (dir)\n",
    "      - i (file, size=584)\n",
    "    - f (file, size=29116)\n",
    "    - g (file, size=2557)\n",
    "    - h.lst (file, size=62596)\n",
    "  - b.txt (file, size=14848514)\n",
    "  - c.dat (file, size=8504156)\n",
    "  - d (dir)\n",
    "    - j (file, size=4060174)\n",
    "    - d.log (file, size=8033020)\n",
    "    - d.ext (file, size=5626152)\n",
    "    - k (file, size=7214296)\n",
    "Here, there are four directories: / (the outermost directory), a and d (which are in /), and e (which is in a). <br>These directories also contain files of various sizes.\n",
    "\n",
    "Since the disk is full, your first step should probably be to find directories that are good candidates for deletion. <br>To do this, you need to determine the total size of each directory. The total size of a directory is the sum of the sizes of the files it contains, directly or indirectly. (Directories themselves do not count as having any intrinsic size.)\n",
    "\n",
    "The total sizes of the directories above can be found as follows:\n",
    "\n",
    "The total size of directory e is 584 because it contains a single file i of size 584 and no other directories.\n",
    "The directory a has total size 94853 because it contains files f (size 29116), g (size 2557), and h.lst (size 62596), <br>plus file i indirectly (a contains e which contains i).\n",
    "Directory d has total size 24933642.\n",
    "As the outermost directory, / contains every file. Its total size is 48381165, the sum of the size of every file.\n",
    "To begin, find all of the directories with a total size of at most 100000, then calculate the sum of their total sizes. <br>In the example above, these directories are a and e; the sum of their total sizes is 95437 (94853 + 584). (As in this example, this process can count files more than once!)\n",
    "\n",
    "Find all of the directories with a total size of at most 100000. What is the sum of the total sizes of those directories?"
   ]
  },
  {
   "cell_type": "code",
   "execution_count": 308,
   "id": "093ab7c2-ceef-459e-865e-45355a51944e",
   "metadata": {},
   "outputs": [],
   "source": [
    "from string import digits\n",
    "from functools import reduce\n",
    "from collections import defaultdict"
   ]
  },
  {
   "cell_type": "code",
   "execution_count": 206,
   "id": "096b6673-d233-4596-9ac7-b1e1f092bba9",
   "metadata": {},
   "outputs": [],
   "source": [
    "path = \"../data/puzzle_7.txt\"\n",
    "# path = \"../data/sample.txt\""
   ]
  },
  {
   "cell_type": "code",
   "execution_count": 207,
   "id": "286c764e-813b-4cc8-ae53-b477e9dfd658",
   "metadata": {},
   "outputs": [],
   "source": [
    "with open(path, 'r') as file:\n",
    "  # Read the contents of the file into a list\n",
    "  data = file.readlines()"
   ]
  },
  {
   "cell_type": "code",
   "execution_count": 208,
   "id": "1a1a632c-91c2-43f1-87ba-5e26393cb414",
   "metadata": {},
   "outputs": [],
   "source": [
    "data = [x.replace(\"\\n\", \"\") for x in data]"
   ]
  },
  {
   "cell_type": "markdown",
   "id": "09afcb49-87cc-4bea-96da-441e372b2f94",
   "metadata": {},
   "source": [
    "## Some useful functions to extract and set values in a nested dictionary \n",
    "\n",
    "e.g. given the dictionary {\"a\": {\"b\": {\"c\": 1}}} and the string \"a/b/c\" - I can get the value of 1 or change the value"
   ]
  },
  {
   "cell_type": "code",
   "execution_count": 209,
   "id": "262980ee-c8eb-4868-b44e-4f60972e6010",
   "metadata": {},
   "outputs": [],
   "source": [
    "def get_value(d, path):\n",
    "    return reduce(lambda d, k: d[k], path.split('/'), d)"
   ]
  },
  {
   "cell_type": "code",
   "execution_count": 210,
   "id": "f96cc547-bb48-4eb0-8a76-8708b1c3743b",
   "metadata": {},
   "outputs": [],
   "source": [
    "def set_value(d, path, value):\n",
    "    keys = path.split('/')\n",
    "    current_d = d\n",
    "    for key in keys[:-1]:\n",
    "        current_d = current_d.setdefault(key, {})\n",
    "    current_d[keys[-1]] = value"
   ]
  },
  {
   "cell_type": "markdown",
   "id": "383cd4a8-6ec5-41bd-84b7-b2f730703057",
   "metadata": {},
   "source": [
    "## Instead I used a defaultdict and iterated over the current_path to add the file size to all directories above the current"
   ]
  },
  {
   "cell_type": "code",
   "execution_count": 301,
   "id": "c0655cda-07c8-4a46-b898-bef3c32c34ae",
   "metadata": {},
   "outputs": [],
   "source": [
    "store = defaultdict(int)"
   ]
  },
  {
   "cell_type": "code",
   "execution_count": 302,
   "id": "9ddf11ad-9436-4ba9-ae32-95772894b4eb",
   "metadata": {},
   "outputs": [],
   "source": [
    "current_path = []\n",
    "for i in data:\n",
    "    if \"$ cd \" in i and i != \"$ cd ..\":\n",
    "        current_dir = i.split(\" \")[-1]\n",
    "        current_dir = \"~\" if current_dir == \"/\" else current_dir\n",
    "        current_path.append(current_dir)\n",
    "    elif i == \"$ cd ..\":\n",
    "        _ = current_path.pop()\n",
    "    elif any([n in i.split(\" \")[0] for n in digits]):\n",
    "        # Iterate through every dir in the full path to the file\n",
    "        for j in range(len(current_path)):\n",
    "            dir = '/'.join(current_path[:j+1]).replace(\"//\", \"/\")\n",
    "            store[dir] += int(i.split(\" \")[0])"
   ]
  },
  {
   "cell_type": "code",
   "execution_count": 307,
   "id": "47cb27d1-3b64-466e-bb70-bbccc744df67",
   "metadata": {},
   "outputs": [
    {
     "data": {
      "text/plain": [
       "1350966"
      ]
     },
     "execution_count": 307,
     "metadata": {},
     "output_type": "execute_result"
    }
   ],
   "source": [
    "sum([x for x in store.values() if x <= 100000])"
   ]
  },
  {
   "cell_type": "markdown",
   "id": "c0fff1d0-8ee9-4ef5-b493-d9eda3bdb7f1",
   "metadata": {},
   "source": [
    "# Part Two"
   ]
  },
  {
   "cell_type": "markdown",
   "id": "1da24e88-d737-469d-870c-4da741237768",
   "metadata": {},
   "source": [
    "Find the smallest directory that, if deleted, would free up enough space on the filesystem to run the update. What is the total size of that directory?"
   ]
  },
  {
   "cell_type": "code",
   "execution_count": 312,
   "id": "01abf8e9-33e3-4222-b77c-d9d2dcc43cdb",
   "metadata": {},
   "outputs": [],
   "source": [
    "total_space = 70000000\n",
    "required_space = 30000000\n",
    "used_space = store[\"~\"]"
   ]
  },
  {
   "cell_type": "code",
   "execution_count": 317,
   "id": "0ba745c6-1a28-4862-a365-e707acce62ae",
   "metadata": {},
   "outputs": [
    {
     "data": {
      "text/plain": [
       "6233734"
      ]
     },
     "execution_count": 317,
     "metadata": {},
     "output_type": "execute_result"
    }
   ],
   "source": [
    "used_space + required_space - total_space"
   ]
  },
  {
   "cell_type": "code",
   "execution_count": 321,
   "id": "c4c20c2d-b833-43b8-9a3d-649a39c8ece9",
   "metadata": {},
   "outputs": [
    {
     "data": {
      "text/plain": [
       "6296435"
      ]
     },
     "execution_count": 321,
     "metadata": {},
     "output_type": "execute_result"
    }
   ],
   "source": [
    "min([v for k,v in store.items() if v >= used_space + required_space - total_space])"
   ]
  },
  {
   "cell_type": "code",
   "execution_count": null,
   "id": "0ebdf622-291e-4c40-b931-0c845f31c1c7",
   "metadata": {},
   "outputs": [],
   "source": []
  }
 ],
 "metadata": {
  "kernelspec": {
   "display_name": "Python 3 (ipykernel)",
   "language": "python",
   "name": "python3"
  },
  "language_info": {
   "codemirror_mode": {
    "name": "ipython",
    "version": 3
   },
   "file_extension": ".py",
   "mimetype": "text/x-python",
   "name": "python",
   "nbconvert_exporter": "python",
   "pygments_lexer": "ipython3",
   "version": "3.10.8"
  }
 },
 "nbformat": 4,
 "nbformat_minor": 5
}
