{
 "cells": [
  {
   "cell_type": "code",
   "execution_count": 1,
   "id": "03cf707e-a682-4013-9273-9345094c6de9",
   "metadata": {},
   "outputs": [],
   "source": [
    "import sys\n",
    "sys.path.append(\"..\")\n",
    "from utilities.utils import get_puzzle, submit_answer"
   ]
  },
  {
   "cell_type": "code",
   "execution_count": 2,
   "id": "d39f4c87-9f52-4911-9784-ef9a79f15604",
   "metadata": {},
   "outputs": [],
   "source": [
    "day = 8\n",
    "year = 2022"
   ]
  },
  {
   "cell_type": "markdown",
   "id": "32cee8b6-3aa8-42ae-82e6-fbdf4aa13feb",
   "metadata": {},
   "source": [
    "# Part One"
   ]
  },
  {
   "cell_type": "markdown",
   "id": "2dd83879-24e7-402b-9c96-7e8917c5d673",
   "metadata": {},
   "source": [
    "\n",
    "The expedition comes across a peculiar patch of tall trees all planted carefully in a grid. <br>The Elves explain that a previous expedition planted these trees as a reforestation effort. Now, they're curious if this would be a good location for a tree house.\n",
    "\n",
    "First, determine whether there is enough tree cover here to keep a tree house hidden. <br>To do this, you need to count the number of trees that are visible from outside the grid when looking directly along a row or column.\n",
    "\n",
    "The Elves have already launched a quadcopter to generate a map with the height of each tree (your puzzle input). For example:<br>\n",
    "\n",
    "30373<br>\n",
    "25512<br>\n",
    "65332<br>\n",
    "33549<br>\n",
    "35390<br>\n",
    "Each tree is represented as a single digit whose value is its height, where 0 is the shortest and 9 is the tallest.<br>\n",
    "\n",
    "A tree is visible if all of the other trees between it and an edge of the grid are shorter than it. <br>Only consider trees in the same row or column; that is, only look up, down, left, or right from any given tree.\n",
    "\n",
    "All of the trees around the edge of the grid are visible - since they are already on the edge,<br> there are no trees to block the view. In this example, that only leaves the interior nine trees to consider:\n",
    "\n",
    "The top-left 5 is visible from the left and top. (It isn't visible from the right or bottom since other trees of height 5 are in the way.)<br>\n",
    "The top-middle 5 is visible from the top and right.<br>\n",
    "The top-right 1 is not visible from any direction; for it to be visible, there would need to only be trees of height 0 between it and an edge.<br>\n",
    "The left-middle 5 is visible, but only from the right.<br>\n",
    "The center 3 is not visible from any direction; for it to be visible, there would need to be only trees of at most height 2 between it and an edge.<br>\n",
    "The right-middle 3 is visible from the right.<br>\n",
    "In the bottom row, the middle 5 is visible, but the 3 and 4 are not.<br>\n",
    "With 16 trees visible on the edge and another 5 visible in the interior, a total of 21 trees are visible in this arrangement.<br>\n",
    "\n",
    "Consider your map; how many trees are visible from outside the grid?"
   ]
  },
  {
   "cell_type": "code",
   "execution_count": 3,
   "id": "678726f0-9a36-4972-b772-c01c351ea1b7",
   "metadata": {},
   "outputs": [],
   "source": [
    "part = \"a\""
   ]
  },
  {
   "cell_type": "code",
   "execution_count": 5,
   "id": "807a9a26-d31f-468e-a5b8-070aa79a370b",
   "metadata": {},
   "outputs": [],
   "source": [
    "import numpy as np"
   ]
  },
  {
   "cell_type": "code",
   "execution_count": 4,
   "id": "d7680c27-5af6-46e2-8aa6-ad0693175277",
   "metadata": {},
   "outputs": [],
   "source": [
    "data = get_puzzle(day=day, year=year)"
   ]
  },
  {
   "cell_type": "code",
   "execution_count": null,
   "id": "e97df8dd-626b-489c-8010-91c8fde77473",
   "metadata": {},
   "outputs": [],
   "source": [
    "data = data.split(\"\\n\")"
   ]
  },
  {
   "cell_type": "code",
   "execution_count": 5,
   "id": "9a00fdf0-411b-4f53-81b2-e57169448ac0",
   "metadata": {},
   "outputs": [
    {
     "data": {
      "text/plain": [
       "'2203110030'"
      ]
     },
     "execution_count": 5,
     "metadata": {},
     "output_type": "execute_result"
    }
   ],
   "source": [
    "data[:10]"
   ]
  },
  {
   "cell_type": "code",
   "execution_count": 94,
   "id": "38e042bb-855f-446d-ac19-41138bc61b1c",
   "metadata": {},
   "outputs": [],
   "source": [
    "arr = np.array([list(map(int, list(x))) for x in data])"
   ]
  },
  {
   "cell_type": "code",
   "execution_count": 95,
   "id": "95d6e6c0-df59-4f01-8a03-e1bc7c44aa55",
   "metadata": {},
   "outputs": [
    {
     "data": {
      "text/plain": [
       "(99, 99)"
      ]
     },
     "execution_count": 95,
     "metadata": {},
     "output_type": "execute_result"
    }
   ],
   "source": [
    "arr.shape"
   ]
  },
  {
   "cell_type": "code",
   "execution_count": 96,
   "id": "66ccb412-c2a7-43d0-8e85-eb5c203751c1",
   "metadata": {},
   "outputs": [],
   "source": [
    "visible = 0\n",
    "invisible = 0\n",
    "for i in range(arr.shape[0]):\n",
    "    for j in range(arr.shape[1]):\n",
    "        if i == 0 or i == arr.shape[0] or j == 0 or j == arr.shape[1]:\n",
    "            visible += 1\n",
    "        # check trees above\n",
    "        elif all(arr[0:i, j] < arr[i, j]):\n",
    "            visible += 1\n",
    "        # check trees below\n",
    "        elif all(arr[i+1:, j] < arr[i, j]):\n",
    "            visible += 1\n",
    "        # check trees left\n",
    "        elif  all(arr[i, :j] < arr[i, j]):\n",
    "            visible += 1\n",
    "        elif all(arr[i, j+1:] < arr[i, j]):\n",
    "            visible += 1\n",
    "        else:\n",
    "            invisible += 1"
   ]
  },
  {
   "cell_type": "code",
   "execution_count": 97,
   "id": "4cf89ddc-1b9a-4750-90b0-65d471cc4f2b",
   "metadata": {},
   "outputs": [
    {
     "data": {
      "text/plain": [
       "1736"
      ]
     },
     "execution_count": 97,
     "metadata": {},
     "output_type": "execute_result"
    }
   ],
   "source": [
    "answer = visible"
   ]
  },
  {
   "cell_type": "code",
   "execution_count": 98,
   "id": "6aced601-8918-44e9-b23f-62993141a049",
   "metadata": {},
   "outputs": [
    {
     "data": {
      "text/plain": [
       "8065"
      ]
     },
     "execution_count": 98,
     "metadata": {},
     "output_type": "execute_result"
    }
   ],
   "source": [
    "invisible"
   ]
  },
  {
   "cell_type": "code",
   "execution_count": null,
   "id": "d1f82cab-96f2-4eda-b8cd-8a0faaee89e7",
   "metadata": {},
   "outputs": [],
   "source": [
    "submit_answer(answer, day=day, part=part, year=year)"
   ]
  },
  {
   "cell_type": "markdown",
   "id": "413f6e14-177b-4d92-9650-b6708aa60311",
   "metadata": {},
   "source": [
    "# Part Two"
   ]
  },
  {
   "cell_type": "markdown",
   "id": "92abc651-d4bd-40b4-beb2-88f568e58827",
   "metadata": {},
   "source": [
    "Content with the amount of tree cover available, the Elves just need to know the best spot to build their tree house: <br>they would like to be able to see a lot of trees.\n",
    "\n",
    "To measure the viewing distance from a given tree, look up, down, left, and right from that tree; stop if you reach <br>an edge or at the first tree that is the same height or taller than the tree under consideration. (If a tree is right on the edge, at least one of its viewing distances will be zero.)\n",
    "\n",
    "The Elves don't care about distant trees taller than those found by the rules above; the proposed tree house has<br> large eaves to keep it dry, so they wouldn't be able to see higher than the tree house anyway.\n",
    "\n",
    "In the example above, consider the middle 5 in the second row:<br>\n",
    "\n",
    "30373<br>\n",
    "25512<br>\n",
    "65332<br>\n",
    "33549<br>\n",
    "35390<br>\n",
    "Looking up, its view is not blocked; it can see 1 tree (of height 3).<br>\n",
    "Looking left, its view is blocked immediately; it can see only 1 tree (of height 5, right next to it).<br>\n",
    "Looking right, its view is not blocked; it can see 2 trees.<br>\n",
    "Looking down, its view is blocked eventually; it can see 2 trees (one of height 3, then the tree of height 5 that blocks its view).<br>\n",
    "A tree's scenic score is found by multiplying together its viewing distance in each of the four directions. <br>For this tree, this is 4 (found by multiplying 1 * 1 * 2 * 2).\n",
    "\n",
    "However, you can do even better: consider the tree of height 5 in the middle of the fourth row:<br>\n",
    "\n",
    "30373<br>\n",
    "25512<br>\n",
    "65332<br>\n",
    "33549<br>\n",
    "35390<br>\n",
    "Looking up, its view is blocked at 2 trees (by another tree with a height of 5).<br>\n",
    "Looking left, its view is not blocked; it can see 2 trees.<br>\n",
    "Looking down, its view is also not blocked; it can see 1 tree.<br>\n",
    "Looking right, its view is blocked at 2 trees (by a massive tree of height 9).<br>\n",
    "This tree's scenic score is 8 (2 * 2 * 1 * 2); this is the ideal spot for the tree house.<br>\n",
    "\n",
    "Consider each tree on your map. What is the highest scenic score possible for any tree?"
   ]
  },
  {
   "cell_type": "code",
   "execution_count": null,
   "id": "34ad179e-cb83-40cd-b719-1a92b99bcd60",
   "metadata": {},
   "outputs": [],
   "source": [
    "part = \"b\""
   ]
  },
  {
   "cell_type": "code",
   "execution_count": 99,
   "id": "44df4bd5-d4e8-4b25-ad41-4571f4e39e7f",
   "metadata": {},
   "outputs": [],
   "source": [
    "scenic_scores = np.zeros_like(arr)\n",
    "for i in range(arr.shape[0]):\n",
    "    for j in range(arr.shape[1]):\n",
    "        # top view\n",
    "        if i == 0:\n",
    "            ts = 0\n",
    "        else:\n",
    "            ts = 0\n",
    "            _i = i - 1\n",
    "            while _i >= 0:\n",
    "                if arr[_i, j] < arr[i, j]:\n",
    "                    ts += 1\n",
    "                    _i -= 1\n",
    "                else:\n",
    "                    ts += 1\n",
    "                    break\n",
    "        # bottom view\n",
    "        if i == arr.shape[0]:\n",
    "            us = 0\n",
    "        else:\n",
    "            us = 0\n",
    "            _i = i + 1\n",
    "            while _i <= arr.shape[0] - 1:\n",
    "                if arr[_i, j] < arr[i, j]:\n",
    "                    us += 1\n",
    "                    _i += 1\n",
    "                else:\n",
    "                    us += 1\n",
    "                    break\n",
    "        # left view\n",
    "        if j == 0:\n",
    "            ls = 0\n",
    "        else:\n",
    "            ls = 0\n",
    "            _j = j - 1\n",
    "            while _j >= 0:\n",
    "                if arr[i, _j] < arr[i, j]:\n",
    "                    ls += 1\n",
    "                    _j -= 1\n",
    "                else:\n",
    "                    ls += 1\n",
    "                    break\n",
    "        # right view\n",
    "        if j == arr.shape[1]:\n",
    "            rs = 0\n",
    "        else:\n",
    "            rs = 0\n",
    "            _j = j + 1\n",
    "            while _j <= arr.shape[1] - 1:\n",
    "                if arr[i, _j] < arr[i, j]:\n",
    "                    rs += 1\n",
    "                    _j += 1\n",
    "                else:\n",
    "                    rs += 1\n",
    "                    break\n",
    "        score = ts * us * ls * rs\n",
    "        scenic_scores[i, j] = score"
   ]
  },
  {
   "cell_type": "code",
   "execution_count": 100,
   "id": "5ce8490c-3548-4060-83c2-c7bcfafaab62",
   "metadata": {},
   "outputs": [
    {
     "data": {
      "text/plain": [
       "array([[ 0,  0,  0, ...,  0,  0,  0],\n",
       "       [ 0,  1,  8, ..., 20,  1,  0],\n",
       "       [ 0, 12,  1, ...,  2,  1,  0],\n",
       "       ...,\n",
       "       [ 0,  1,  1, ...,  4,  1,  0],\n",
       "       [ 0,  2,  8, ...,  1, 35,  0],\n",
       "       [ 0,  0,  0, ...,  0,  0,  0]])"
      ]
     },
     "execution_count": 100,
     "metadata": {},
     "output_type": "execute_result"
    }
   ],
   "source": [
    "scenic_scores"
   ]
  },
  {
   "cell_type": "code",
   "execution_count": 101,
   "id": "4ad80802-74b6-4024-92b6-20f7f34571a1",
   "metadata": {},
   "outputs": [
    {
     "data": {
      "text/plain": [
       "268800"
      ]
     },
     "execution_count": 101,
     "metadata": {},
     "output_type": "execute_result"
    }
   ],
   "source": [
    "answer = np.max(scenic_scores)"
   ]
  },
  {
   "cell_type": "code",
   "execution_count": 102,
   "id": "dba77e40-c8b0-4009-8900-268d496e703c",
   "metadata": {},
   "outputs": [
    {
     "data": {
      "text/plain": [
       "(array([14]), array([48]))"
      ]
     },
     "execution_count": 102,
     "metadata": {},
     "output_type": "execute_result"
    }
   ],
   "source": [
    "np.where(scenic_scores==268800)"
   ]
  },
  {
   "cell_type": "code",
   "execution_count": null,
   "id": "7a45c09d-b2b7-4d47-8d94-173d778d8cc8",
   "metadata": {},
   "outputs": [],
   "source": [
    "submit_answer(answer, day=day, part=part, year=year)"
   ]
  }
 ],
 "metadata": {
  "kernelspec": {
   "display_name": "Python 3 (ipykernel)",
   "language": "python",
   "name": "python3"
  },
  "language_info": {
   "codemirror_mode": {
    "name": "ipython",
    "version": 3
   },
   "file_extension": ".py",
   "mimetype": "text/x-python",
   "name": "python",
   "nbconvert_exporter": "python",
   "pygments_lexer": "ipython3",
   "version": "3.10.8"
  }
 },
 "nbformat": 4,
 "nbformat_minor": 5
}
