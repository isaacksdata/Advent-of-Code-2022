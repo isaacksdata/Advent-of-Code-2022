{
 "cells": [
  {
   "cell_type": "markdown",
   "id": "ba5113dd-6699-4065-991d-7db8efd62f89",
   "metadata": {},
   "source": [
    "# Day 1"
   ]
  },
  {
   "cell_type": "markdown",
   "id": "52443ea7-8616-4b34-a7d7-bed21b1f1d68",
   "metadata": {},
   "source": [
    "\n",
    "Space needs to be cleared before the last supplies can be unloaded from the ships,      \n",
    "and so several Elves have been assigned the job of cleaning up sections of the camp.         \n",
    "Every section has a unique ID number, and each Elf is assigned a range of section IDs.\n",
    "\n",
    "However, as some of the Elves compare their section assignments with each other,          \n",
    "they've noticed that many of the assignments overlap. To try to quickly find overlaps and reduce duplicated effort,         \n",
    "the Elves pair up and make a big list of the section assignments for each pair (your puzzle input).\n",
    "\n",
    "For example, consider the following list of section assignment pairs:       \n",
    "\n",
    "2-4,6-8        \n",
    "2-3,4-5        \n",
    "5-7,7-9        \n",
    "2-8,3-7         \n",
    "6-6,4-6       \n",
    "2-6,4-8          \n",
    "For the first few pairs, this list means:         \n",
    "\n",
    "Within the first pair of Elves, the first Elf was assigned sections 2-4 (sections 2, 3, and 4),           \n",
    "while the second Elf was assigned sections 6-8 (sections 6, 7, 8).       \n",
    "The Elves in the second pair were each assigned two sections.             \n",
    "The Elves in the third pair were each assigned three sections: one got sections 5, 6, and 7, while the other also got 7, plus 8 and 9.        \n",
    "This example list uses single-digit section IDs to make it easier to draw;          \n",
    "your actual list might contain larger numbers. Visually, these pairs of section assignments look like this:    \n",
    "\n",
    ".234.....  2-4      \n",
    ".....678.  6-8     \n",
    "\n",
    ".23......  2-3       \n",
    "...45....  4-5       \n",
    "\n",
    "....567..  5-7      \n",
    "......789  7-9       \n",
    "\n",
    ".2345678.  2-8       \n",
    "..34567..  3-7     \n",
    "\n",
    ".....6...  6-6     \n",
    "...456...  4-6      \n",
    "\n",
    ".23456...  2-6      \n",
    "...45678.  4-8        \n",
    "Some of the pairs have noticed that one of their assignments fully contains the other.      \n",
    "For example, 2-8 fully contains 3-7, and 6-6 is fully contained by 4-6.        \n",
    "In pairs where one assignment fully contains the other, one Elf in the pair would be exclusively cleaning sections their        \n",
    "partner will already be cleaning, so these seem like the most in need of reconsideration. In this example, there are 2 such pairs.       \n",
    " \n",
    "In how many assignment pairs does one range fully contain the other?"
   ]
  },
  {
   "cell_type": "code",
   "execution_count": 1,
   "id": "fe26b9fd-558f-421f-bd44-32eb96421b0a",
   "metadata": {},
   "outputs": [],
   "source": [
    "path = \"../data/puzzle_4.txt\""
   ]
  },
  {
   "cell_type": "code",
   "execution_count": 2,
   "id": "70b75838-46b1-4687-a8e5-e9d9f19ccb13",
   "metadata": {},
   "outputs": [],
   "source": [
    "with open(path, 'r') as file:\n",
    "  # Read the contents of the file into a list\n",
    "  data = file.readlines()"
   ]
  },
  {
   "cell_type": "code",
   "execution_count": 3,
   "id": "f43b699b-ce7c-4d8a-899c-69f3d7634172",
   "metadata": {},
   "outputs": [],
   "source": [
    "data = [x.replace(\"\\n\", \"\") for x in data]"
   ]
  },
  {
   "cell_type": "code",
   "execution_count": 17,
   "id": "7aa47330-4340-48f9-81ad-dbbc6bf8743d",
   "metadata": {},
   "outputs": [],
   "source": [
    "total = 0"
   ]
  },
  {
   "cell_type": "code",
   "execution_count": 18,
   "id": "d1ff9f2a-af87-45de-b488-0ee67e017357",
   "metadata": {},
   "outputs": [],
   "source": [
    "for i in data:\n",
    "    c1, c2 = i.split(\",\")\n",
    "    s1 = list(range(int(c1.split(\"-\")[0]), int(c1.split(\"-\")[1])+1))\n",
    "    s2 = list(range(int(c2.split(\"-\")[0]), int(c2.split(\"-\")[1])+1))\n",
    "    if set(s2).issubset(s1) or set(s1).issubset(s2):\n",
    "        total += 1"
   ]
  },
  {
   "cell_type": "code",
   "execution_count": 19,
   "id": "f65aabae-df85-4000-854e-8fc24c4d39f6",
   "metadata": {},
   "outputs": [
    {
     "data": {
      "text/plain": [
       "573"
      ]
     },
     "execution_count": 19,
     "metadata": {},
     "output_type": "execute_result"
    }
   ],
   "source": [
    "total"
   ]
  },
  {
   "cell_type": "markdown",
   "id": "0ed26f7a-ff11-43b3-87f8-da3336c4207b",
   "metadata": {},
   "source": [
    "# Part Two"
   ]
  },
  {
   "cell_type": "markdown",
   "id": "a598810c-06ba-4d8c-8d21-a704517f0d9f",
   "metadata": {},
   "source": [
    "In how many assignment pairs do the ranges overlap?"
   ]
  },
  {
   "cell_type": "code",
   "execution_count": 25,
   "id": "a3dd5200-536f-45e3-b755-cf6564625501",
   "metadata": {},
   "outputs": [],
   "source": [
    "total = 0"
   ]
  },
  {
   "cell_type": "code",
   "execution_count": 26,
   "id": "a589c629-d380-4e49-817a-3d98cbe419bb",
   "metadata": {},
   "outputs": [],
   "source": [
    "for i in data:\n",
    "    c1, c2 = i.split(\",\")\n",
    "    s1 = list(range(int(c1.split(\"-\")[0]), int(c1.split(\"-\")[1])+1))\n",
    "    s2 = list(range(int(c2.split(\"-\")[0]), int(c2.split(\"-\")[1])+1))\n",
    "    if len(set(s1).intersection(set(s2))) > 0:\n",
    "        total += 1"
   ]
  },
  {
   "cell_type": "code",
   "execution_count": 27,
   "id": "bfeae7dc-e199-4e6d-8b62-0edcf016af2f",
   "metadata": {},
   "outputs": [
    {
     "data": {
      "text/plain": [
       "867"
      ]
     },
     "execution_count": 27,
     "metadata": {},
     "output_type": "execute_result"
    }
   ],
   "source": [
    "total"
   ]
  },
  {
   "cell_type": "code",
   "execution_count": null,
   "id": "383b7025-29bd-4955-bfdb-4f86925969eb",
   "metadata": {},
   "outputs": [],
   "source": []
  }
 ],
 "metadata": {
  "kernelspec": {
   "display_name": "Python 3 (ipykernel)",
   "language": "python",
   "name": "python3"
  },
  "language_info": {
   "codemirror_mode": {
    "name": "ipython",
    "version": 3
   },
   "file_extension": ".py",
   "mimetype": "text/x-python",
   "name": "python",
   "nbconvert_exporter": "python",
   "pygments_lexer": "ipython3",
   "version": "3.10.8"
  }
 },
 "nbformat": 4,
 "nbformat_minor": 5
}
