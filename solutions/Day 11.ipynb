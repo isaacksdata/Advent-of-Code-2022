{
 "cells": [
  {
   "cell_type": "markdown",
   "id": "0f888ad0-4c11-41c1-9084-93973f27818f",
   "metadata": {},
   "source": [
    "# Part One\n"
   ]
  },
  {
   "cell_type": "markdown",
   "id": "2b2d6cc8-da3b-4857-9f5f-cc867e9f0af7",
   "metadata": {},
   "source": [
    "As you finally start making your way upriver, you realize your pack is much lighter than you remember. <br>Just then, one of the items from your pack goes flying overhead. Monkeys are playing Keep Away with your missing things!\n",
    "\n",
    "To get your stuff back, you need to be able to predict where the monkeys will throw your items.<br> After some careful observation, you realize the monkeys operate based on how worried you are about each item.\n",
    "\n",
    "You take some notes (your puzzle input) on the items each monkey currently has, how worried you are about those items, <br>and how the monkey makes decisions based on your worry level. For example:\n",
    "\n",
    "\n",
    "Each monkey has several attributes:<br>\n",
    "\n",
    "Starting items lists your worry level for each item the monkey is currently holding in the order they will be inspected.<br>\n",
    "Operation shows how your worry level changes as that monkey inspects an item.<br> (An operation like new = old * 5 means that your worry level after the monkey inspected the item is <br>five times whatever your worry level was before inspection.)\n",
    "Test shows how the monkey uses your worry level to decide where to throw an item next.<br>\n",
    "If true shows what happens with an item if the Test was true.<br>\n",
    "If false shows what happens with an item if the Test was false.<br>\n",
    "After each monkey inspects an item but before it tests your worry level, your relief that the <br>monkey's inspection didn't damage the item causes your worry level to be divided by three and rounded down to the nearest integer.\n",
    "\n",
    "The monkeys take turns inspecting and throwing items. On a single monkey's turn, it <br>inspects and throws all of the items it is holding one at a time and in the order listed. Monkey 0 goes first, <br>then monkey 1, and so on until each monkey has had one turn. The process of each monkey taking a single turn is called a round.\n",
    "\n",
    "When a monkey throws an item to another monkey, the item goes on the end of the <br>recipient monkey's list. A monkey that starts a round with no items could end up inspecting and throwing many items by the time its turn comes around. If a monkey is holding no items at the start of its turn, its turn ends.<br>\n",
    "\n",
    "Chasing all of the monkeys at once is impossible; you're going to have to focus on the <br>two most active monkeys if you want any hope of getting your stuff back. Count the total number of times each monkey inspects items over 20 rounds:\n",
    "\n",
    "Monkey 0 inspected items 101 times.<br>\n",
    "Monkey 1 inspected items 95 times.<br>\n",
    "Monkey 2 inspected items 7 times.<br>\n",
    "Monkey 3 inspected items 105 times.<br>\n",
    "In this example, the two most active monkeys inspected items 101 and 105 times. <br>The level of monkey business in this situation can be found by multiplying these together: 10605.\n",
    "\n",
    "Figure out which monkeys to chase by counting how many items they inspect over 20 rounds. <br>What is the level of monkey business after 20 rounds of stuff-slinging simian shenanigans?"
   ]
  },
  {
   "cell_type": "code",
   "execution_count": 227,
   "id": "85f65150-ba04-418a-8629-ee08acbd4d09",
   "metadata": {},
   "outputs": [],
   "source": [
    "import numpy as np\n",
    "import re\n",
    "import tqdm"
   ]
  },
  {
   "cell_type": "code",
   "execution_count": 228,
   "id": "e3ea4577-1059-4e2b-b87e-99b0d1e8aef4",
   "metadata": {},
   "outputs": [],
   "source": [
    "path = \"../data/puzzle_11.txt\""
   ]
  },
  {
   "cell_type": "code",
   "execution_count": 229,
   "id": "59c88d11-5517-4cb0-a71a-9c9d38e43fa6",
   "metadata": {},
   "outputs": [],
   "source": [
    "with open(path, 'r') as file:\n",
    "  # Read the contents of the file into a list\n",
    "  data = file.readlines()"
   ]
  },
  {
   "cell_type": "code",
   "execution_count": 230,
   "id": "6d5acab4-a6a7-40d1-9db7-f51aebab16fc",
   "metadata": {},
   "outputs": [],
   "source": [
    "data = [x.replace(\"\\n\", \"\") for x in data]"
   ]
  },
  {
   "cell_type": "code",
   "execution_count": null,
   "id": "1694c005-5170-45ea-8bdf-09af5644c43f",
   "metadata": {},
   "outputs": [],
   "source": []
  },
  {
   "cell_type": "code",
   "execution_count": 202,
   "id": "1e352a42-4f48-4001-af7a-1a6a18f30ffd",
   "metadata": {},
   "outputs": [],
   "source": [
    "class Monkey:\n",
    "    def __init__(self, monkey_id, starting_items, operation, test, true_action, false_action, modulo_value=None):\n",
    "        self.monkey_id = monkey_id\n",
    "        self.items = starting_items\n",
    "        self.operation = operation\n",
    "        self.worry_level = None\n",
    "        self.test = test\n",
    "        self.true_monkey = true_action\n",
    "        self.false_monkey = false_action\n",
    "        self.activity = 0\n",
    "        self.modulo_value = modulo_value\n",
    "        \n",
    "    def run_operation(self, old):\n",
    "        statement = self.operation.replace(\"old\", str(old))\n",
    "        return eval(statement)\n",
    "    \n",
    "    def run_test(self, value):\n",
    "        return value % self.test == 0\n",
    "    \n",
    "    def play_with_item(self, item_worry):\n",
    "        new_item_worry = self.run_operation(item_worry)\n",
    "        if self.modulo_value is not None:\n",
    "            new_item_worry = int(new_item_worry % self.modulo_value)\n",
    "        else:\n",
    "            new_item_worry = int(np.floor(new_item_worry / 3))\n",
    "        self.activity += 1\n",
    "        if self.run_test(new_item_worry):\n",
    "            return self.true_monkey, new_item_worry\n",
    "        else:\n",
    "            return self.false_monkey, new_item_worry"
   ]
  },
  {
   "cell_type": "code",
   "execution_count": 205,
   "id": "acd53dc3-10e7-46e8-9a0d-31187f485d9a",
   "metadata": {},
   "outputs": [],
   "source": [
    "def extract_numbers(string):\n",
    "    # Use a regular expression to find all numbers in the string\n",
    "    matches = re.finditer(r'\\d+', string)\n",
    "\n",
    "    # Extract the numbers from the matches\n",
    "    numbers = [int(match.group()) for match in matches]\n",
    "    return numbers"
   ]
  },
  {
   "cell_type": "code",
   "execution_count": 206,
   "id": "2633d0fa-52bc-4a8f-996d-e935b6ab31ff",
   "metadata": {},
   "outputs": [],
   "source": [
    "def parse_monkeys(data: list, idx: int, modulo_value=None):\n",
    "    info = data[idx: idx+6]\n",
    "    monkey_id = extract_numbers(info[0])[0]\n",
    "    starting_items = extract_numbers(info[1])\n",
    "    operation = info[2].split(\"=\")[1]\n",
    "    test = extract_numbers(info[3])[0]\n",
    "    monkey_true = extract_numbers(info[4])[0]\n",
    "    monkey_false = extract_numbers(info[5])[0]\n",
    "    monkey = Monkey(monkey_id, starting_items, operation, test, monkey_true, monkey_false, modulo_value)\n",
    "    return monkey"
   ]
  },
  {
   "cell_type": "code",
   "execution_count": 207,
   "id": "3c262340-30bb-48c9-a8ff-b5f43ff37d68",
   "metadata": {},
   "outputs": [],
   "source": [
    "def setup(data, modulo_value=None):\n",
    "    monkey_starts = [i for i, x in enumerate(data) if \"Monkey\" in x]\n",
    "    monkeys = []\n",
    "    for i in monkey_starts:\n",
    "        monkeys.append(parse_monkeys(data, i, modulo_value))\n",
    "    for m in monkeys:\n",
    "        print(f\"Monkey {m.monkey_id} has {m.items}\")\n",
    "    return monkeys"
   ]
  },
  {
   "cell_type": "code",
   "execution_count": 215,
   "id": "11329b79-a936-4af2-a87e-9da660fe5486",
   "metadata": {},
   "outputs": [],
   "source": [
    "def play_round(monkeys):\n",
    "    for monkey in monkeys:\n",
    "        for item in monkey.items:\n",
    "            dst_monkey_id, new_item = monkey.play_with_item(item)\n",
    "            dst_monkey = [m for m in monkeys if m.monkey_id == dst_monkey_id][0]\n",
    "            # print(f\"{monkey.monkey_id} passed {item} to {dst_monkey.monkey_id}\")\n",
    "            dst_monkey.items.append(new_item)\n",
    "        monkey.items = []\n",
    "    worries = list(chain(*[m.items for m in monkeys]))\n",
    "    return monkeys"
   ]
  },
  {
   "cell_type": "code",
   "execution_count": 217,
   "id": "48f20389-f56b-48d5-a69f-fbfd8a9cf812",
   "metadata": {},
   "outputs": [],
   "source": [
    "def play_game(data, rounds, use_modulo=False):\n",
    "    if use_modulo:\n",
    "        mod_value = np.prod([extract_numbers(x)[0] for x in data if \"Test\" in x])\n",
    "        monkeys = setup(data, modulo_value=mod_value)\n",
    "    else:\n",
    "        monkeys = setup(data)\n",
    "    for _ in tqdm.tqdm(range(rounds)):\n",
    "        monkeys = play_round(monkeys)\n",
    "    print(\"Game completed!\")\n",
    "    for m in monkeys:\n",
    "        print(f\"Monkey {m.monkey_id} has {m.items} and activity -> {m.activity}\")\n",
    "    activities = [m.activity for m in monkeys]\n",
    "    activities.sort(reverse=True)\n",
    "    return activities[0] * activities[1], monkeys"
   ]
  },
  {
   "cell_type": "code",
   "execution_count": 220,
   "id": "2692ed78-9fd3-417f-b069-b02718545646",
   "metadata": {},
   "outputs": [
    {
     "name": "stdout",
     "output_type": "stream",
     "text": [
      "Monkey 0 has [79, 98]\n",
      "Monkey 1 has [54, 65, 75, 74]\n",
      "Monkey 2 has [79, 60, 97]\n",
      "Monkey 3 has [74]\n"
     ]
    },
    {
     "name": "stderr",
     "output_type": "stream",
     "text": [
      "100%|███████████████████████████████████████████████████████████████████████████████████████████████████████████████████████████████████████████████████████████████████████| 20/20 [00:00<00:00, 4428.58it/s]"
     ]
    },
    {
     "name": "stdout",
     "output_type": "stream",
     "text": [
      "Game completed!\n",
      "Monkey 0 has [10, 12, 14, 26, 34] and activity -> 101\n",
      "Monkey 1 has [245, 93, 53, 199, 115] and activity -> 95\n",
      "Monkey 2 has [] and activity -> 7\n",
      "Monkey 3 has [] and activity -> 105\n"
     ]
    },
    {
     "name": "stderr",
     "output_type": "stream",
     "text": [
      "\n"
     ]
    },
    {
     "data": {
      "text/plain": [
       "10605"
      ]
     },
     "execution_count": 220,
     "metadata": {},
     "output_type": "execute_result"
    }
   ],
   "source": [
    "mb, monkeys = play_game(data, 20, False)\n",
    "mb"
   ]
  },
  {
   "cell_type": "markdown",
   "id": "345d1377-0932-4743-b6c1-6296cef2efcd",
   "metadata": {},
   "source": [
    "# Part Two"
   ]
  },
  {
   "cell_type": "markdown",
   "id": "e796a664-6b7d-4316-9867-d539ab4f6fcc",
   "metadata": {},
   "source": [
    "Worry levels are no longer divided by three after each item is inspected; you'll need to find another way to keep your worry levels manageable. <br>Starting again from the initial state in your puzzle input, what is the level of monkey business after 10000 rounds?"
   ]
  },
  {
   "cell_type": "code",
   "execution_count": 226,
   "id": "01d1ee2c-b92a-494c-9ed5-e126fe8b086f",
   "metadata": {},
   "outputs": [
    {
     "name": "stdout",
     "output_type": "stream",
     "text": [
      "Monkey 0 has [54, 82, 90, 88, 86, 54]\n",
      "Monkey 1 has [91, 65]\n",
      "Monkey 2 has [62, 54, 57, 92, 83, 63, 63]\n",
      "Monkey 3 has [67, 72, 68]\n",
      "Monkey 4 has [68, 89, 90, 86, 84, 57, 72, 84]\n",
      "Monkey 5 has [79, 83, 64, 58]\n",
      "Monkey 6 has [96, 72, 89, 70, 88]\n",
      "Monkey 7 has [79]\n"
     ]
    },
    {
     "name": "stderr",
     "output_type": "stream",
     "text": [
      "100%|█████████████████████████████████████████████████████████████████████████████████████████████████████████████████████████████████████████████████████████████████| 10000/10000 [00:05<00:00, 1850.50it/s]"
     ]
    },
    {
     "name": "stdout",
     "output_type": "stream",
     "text": [
      "Game completed!\n",
      "Monkey 0 has [3622294, 6973096, 696826, 696826, 4877801, 821567, 313241, 313241, 313241, 4877801, 4193117, 313241, 8757677, 313241, 7080404] and activity -> 118588\n",
      "Monkey 1 has [2192691, 5045541, 2192691, 2192691, 2898123, 2192691, 9039531, 2898123] and activity -> 60301\n",
      "Monkey 2 has [4877786, 5956682, 313226, 313226, 4877786] and activity -> 60417\n",
      "Monkey 3 has [6864832, 9105616, 7393906, 7393906, 7393906] and activity -> 60268\n",
      "Monkey 4 has [] and activity -> 60273\n",
      "Monkey 5 has [5956691, 5956691, 4877795] and activity -> 120704\n",
      "Monkey 6 has [] and activity -> 120642\n",
      "Monkey 7 has [] and activity -> 60483\n"
     ]
    },
    {
     "name": "stderr",
     "output_type": "stream",
     "text": [
      "\n"
     ]
    },
    {
     "data": {
      "text/plain": [
       "14561971968"
      ]
     },
     "execution_count": 226,
     "metadata": {},
     "output_type": "execute_result"
    }
   ],
   "source": [
    "mb, monkeys = play_game(data, 10000, True)\n",
    "mb"
   ]
  },
  {
   "cell_type": "code",
   "execution_count": null,
   "id": "b4d48335-2531-4d9a-a772-212767295ce2",
   "metadata": {},
   "outputs": [],
   "source": []
  }
 ],
 "metadata": {
  "kernelspec": {
   "display_name": "Python 3 (ipykernel)",
   "language": "python",
   "name": "python3"
  },
  "language_info": {
   "codemirror_mode": {
    "name": "ipython",
    "version": 3
   },
   "file_extension": ".py",
   "mimetype": "text/x-python",
   "name": "python",
   "nbconvert_exporter": "python",
   "pygments_lexer": "ipython3",
   "version": "3.10.8"
  }
 },
 "nbformat": 4,
 "nbformat_minor": 5
}
