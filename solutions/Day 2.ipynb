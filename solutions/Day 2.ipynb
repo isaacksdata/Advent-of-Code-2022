{
 "cells": [
  {
   "cell_type": "markdown",
   "id": "6d262b3d-a5b2-4429-87ca-6a6e02861f90",
   "metadata": {},
   "source": [
    "# Part One"
   ]
  },
  {
   "cell_type": "markdown",
   "id": "425a3ed7-59ba-4bef-a460-eac6bbbd4cb3",
   "metadata": {},
   "source": [
    "## Evaluate the total score given the strategy for rock paper scissors in the data.  \n",
    "## A, B and C are Rock, paper scissors respectivley and represent the opponents play.  \n",
    "## X,Y a and Z are Rock, paper scissors respectivley and represent your play    \n",
    "## 0 points for loss, 3 points for draw and 6 points for a win\n",
    "## round score is the above + shape score, 1 for rock, 2 for paper and 3 for scissors"
   ]
  },
  {
   "cell_type": "code",
   "execution_count": 1,
   "id": "b83723ea-7615-4492-a5e7-5a6d03deafcf",
   "metadata": {},
   "outputs": [],
   "source": [
    "path = \"../data/puzzle_2.txt\""
   ]
  },
  {
   "cell_type": "code",
   "execution_count": 2,
   "id": "31919eb7-deb0-4ad3-a324-a73b7b465eea",
   "metadata": {},
   "outputs": [],
   "source": [
    "with open(path, 'r') as file:\n",
    "  # Read the contents of the file into a list\n",
    "  data = file.readlines()"
   ]
  },
  {
   "cell_type": "code",
   "execution_count": 4,
   "id": "521c8d78-558e-439d-ba7b-acd81580b92d",
   "metadata": {},
   "outputs": [],
   "source": [
    "opponent = []\n",
    "me = []"
   ]
  },
  {
   "cell_type": "code",
   "execution_count": 10,
   "id": "d4175273-62c4-4e8d-b94a-5682a6598fec",
   "metadata": {},
   "outputs": [],
   "source": [
    "game = {\n",
    "    \"A\" : {\"X\" : 3, \"Y\": 6, \"Z\": 0}, \n",
    "    \"B\" : {\"X\" : 0, \"Y\": 3, \"Z\": 6}, \n",
    "    \"C\" : {\"X\" : 6, \"Y\": 0, \"Z\": 3}\n",
    "}"
   ]
  },
  {
   "cell_type": "code",
   "execution_count": 7,
   "id": "5437ed5c-a229-447c-b7e2-6f05cfe41292",
   "metadata": {},
   "outputs": [],
   "source": [
    "shape_scores = {\"X\" : 1, \n",
    "               \"Y\" : 2, \n",
    "               \"Z\" : 3}"
   ]
  },
  {
   "cell_type": "code",
   "execution_count": 18,
   "id": "7d1e574e-d89e-4ae7-9fbc-71960f33aa32",
   "metadata": {},
   "outputs": [],
   "source": [
    "for i in data:\n",
    "    i = i.replace(\"\\n\", \"\")\n",
    "    opponent.append(i[0])\n",
    "    me.append(i[-1])"
   ]
  },
  {
   "cell_type": "code",
   "execution_count": 11,
   "id": "b42fe51b-4293-471f-9a7e-68b746074d10",
   "metadata": {},
   "outputs": [],
   "source": [
    "total = 0"
   ]
  },
  {
   "cell_type": "code",
   "execution_count": 12,
   "id": "4b671f7c-3aed-4600-8eb2-0a5150600e18",
   "metadata": {},
   "outputs": [],
   "source": [
    "for i, j in zip(opponent, me):\n",
    "    ss = shape_scores[j]\n",
    "    rs = game[i][j]\n",
    "    total += ss + rs"
   ]
  },
  {
   "cell_type": "code",
   "execution_count": 14,
   "id": "1d3d4754-68cf-4ba9-91ca-4b55f8f5d4c8",
   "metadata": {},
   "outputs": [
    {
     "data": {
      "text/plain": [
       "'Total amount of points = 14163'"
      ]
     },
     "execution_count": 14,
     "metadata": {},
     "output_type": "execute_result"
    }
   ],
   "source": [
    "f\"Total amount of points = {total}\""
   ]
  },
  {
   "cell_type": "markdown",
   "id": "2d1e7be1-ea55-4f43-b5b5-d59389d8fe7d",
   "metadata": {},
   "source": [
    "# Part Two"
   ]
  },
  {
   "cell_type": "markdown",
   "id": "4c0e8d0b-31a0-4c56-917e-4a54e4d5f3d4",
   "metadata": {},
   "source": [
    "The Elf finishes helping with the tent and sneaks back over to you. \n",
    "\n",
    "\"Anyway, the second column says how the round needs to end: X means you need to lose, \n",
    "\n",
    "Y means you need to end the round in a draw, and Z means you need to win. Good luck!\"\n",
    "\n",
    "\n",
    "Following the Elf's instructions for the second column, \n",
    "what would your total score be if everything goes exactly according to your strategy guide?"
   ]
  },
  {
   "cell_type": "code",
   "execution_count": 24,
   "id": "63b9e706-73a0-44b9-8a37-5427c9c3e2b9",
   "metadata": {},
   "outputs": [],
   "source": [
    "shape_scores_2 = {\"A\" : 1, \n",
    "               \"B\" : 2, \n",
    "               \"C\" : 3}"
   ]
  },
  {
   "cell_type": "code",
   "execution_count": 25,
   "id": "2c7a8a0a-d0ab-48c8-80e5-16886f58a0f0",
   "metadata": {},
   "outputs": [],
   "source": [
    "XYZ_codes = {\"X\" : 0, \n",
    "            \"Y\" : 3, \n",
    "            \"Z\" : 6}"
   ]
  },
  {
   "cell_type": "code",
   "execution_count": 26,
   "id": "c4885c80-cc42-4e8c-98da-8d50f3e913bb",
   "metadata": {},
   "outputs": [],
   "source": [
    "game_2 = {\n",
    "    \"A\" : {\"A\" : 3, \"B\": 6, \"C\": 0}, \n",
    "    \"B\" : {\"A\" : 0, \"B\": 3, \"C\": 6}, \n",
    "    \"C\" : {\"A\" : 6, \"B\": 0, \"C\": 3}\n",
    "}"
   ]
  },
  {
   "cell_type": "code",
   "execution_count": 27,
   "id": "8618dbfa-4ded-4736-8c1c-bd1f41e03e81",
   "metadata": {},
   "outputs": [],
   "source": [
    "total = 0"
   ]
  },
  {
   "cell_type": "code",
   "execution_count": 28,
   "id": "ed815908-6e0f-4359-ad02-93264e27fb53",
   "metadata": {},
   "outputs": [],
   "source": [
    "for i, j in zip(opponent, me):\n",
    "    response = [k for k,v in game_2[i].items() if v==XYZ_codes[j]][0]\n",
    "    ss = shape_scores_2[response]\n",
    "    rs = XYZ_codes[j]\n",
    "    total += ss + rs"
   ]
  },
  {
   "cell_type": "code",
   "execution_count": 29,
   "id": "3984c626-4022-48db-8614-e41a4d32f130",
   "metadata": {},
   "outputs": [
    {
     "data": {
      "text/plain": [
       "'Total amount of points = 12091'"
      ]
     },
     "execution_count": 29,
     "metadata": {},
     "output_type": "execute_result"
    }
   ],
   "source": [
    "f\"Total amount of points = {total}\""
   ]
  },
  {
   "cell_type": "code",
   "execution_count": null,
   "id": "cbda3412-8812-45e1-b245-afdb80bba417",
   "metadata": {},
   "outputs": [],
   "source": []
  }
 ],
 "metadata": {
  "kernelspec": {
   "display_name": "Python 3 (ipykernel)",
   "language": "python",
   "name": "python3"
  },
  "language_info": {
   "codemirror_mode": {
    "name": "ipython",
    "version": 3
   },
   "file_extension": ".py",
   "mimetype": "text/x-python",
   "name": "python",
   "nbconvert_exporter": "python",
   "pygments_lexer": "ipython3",
   "version": "3.10.8"
  }
 },
 "nbformat": 4,
 "nbformat_minor": 5
}
